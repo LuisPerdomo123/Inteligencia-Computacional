{
  "nbformat": 4,
  "nbformat_minor": 0,
  "metadata": {
    "colab": {
      "provenance": [],
      "authorship_tag": "ABX9TyPvW92f3VA83XxJQ1OHLoUG",
      "include_colab_link": true
    },
    "kernelspec": {
      "name": "python3",
      "display_name": "Python 3"
    },
    "language_info": {
      "name": "python"
    }
  },
  "cells": [
    {
      "cell_type": "markdown",
      "metadata": {
        "id": "view-in-github",
        "colab_type": "text"
      },
      "source": [
        "<a href=\"https://colab.research.google.com/github/LuisPerdomo123/Inteligencia-Computacional/blob/main/Classiification_MLP_Caso_Practico_III.ipynb\" target=\"_parent\"><img src=\"https://colab.research.google.com/assets/colab-badge.svg\" alt=\"Open In Colab\"/></a>"
      ]
    },
    {
      "cell_type": "markdown",
      "source": [
        "# Perceptrón Multicapa: Caso práctico III\n",
        "\n",
        "## Dataset\n",
        "te conjunto de datos contine los dicursos de estos líderes prominentes: Benjamín Netányahu, Jens Stolterberg, Julia Gillard, Margaret Tacher y Nelson Mandela que también representa los nombres de las carpetas. Cada audio de la carpeta es un PCM de un segundo de duración con una velicidad de muestreo de 16000 Hz codificado. Una carpeta llamada background_noise contiene los audios que no son discursos, pero que se pueden encontrar en el interior alrededor del enterno del orador, por ejemplo, la audiencia riendo o aplaudiendo. Se puede mezclar con el discurso mientras se entrena."
      ],
      "metadata": {
        "id": "ggUzL2F4WIax"
      }
    },
    {
      "cell_type": "markdown",
      "source": [
        "### Referencias\n",
        "\n",
        "https://www.kaggle.com/kongaevans/speaker-recognition-dataset/"
      ],
      "metadata": {
        "id": "sXmgXefTXIAd"
      }
    },
    {
      "cell_type": "markdown",
      "source": [
        "## Enunciado\n",
        "El objetivo del ejercicio consiste en utililzar un perceptrón multicapa para la identificación de la persona que se encuentra hablando a partir de un audio de un segundo de duración."
      ],
      "metadata": {
        "id": "ztNKyB_IXY14"
      }
    },
    {
      "cell_type": "markdown",
      "source": [
        "Si tienes un dataset comprimido en formato .zip que has cargado en Google Colab, puedes extraerlo y luego acceder a los archivos dentro del dataset. Aquí tienes los pasos para hacerlo:\n",
        "\n",
        "Sube el archivo .zip a Colab: Puedes subir el archivo .zip a Colab utilizando la interfaz de usuario o mediante código. Esto mostrará un botón de \"Seleccionar archivos\" que te permitirá cargar \"16000_pcm_speeches.zip\" desde tu sistema local.\n",
        "\n",
        "Por ejemplo, si el archivo se llama \"16000_pcm_speeches.zip\" y está en tu sistema local, puedes subirlo así:"
      ],
      "metadata": {
        "id": "nHAw-Y1iYV7v"
      }
    },
    {
      "cell_type": "code",
      "execution_count": 63,
      "metadata": {
        "colab": {
          "base_uri": "https://localhost:8080/",
          "height": 73
        },
        "id": "qadQ9rjzWBT3",
        "outputId": "9ea44968-84f4-4580-b1eb-a0f97fc980d5"
      },
      "outputs": [
        {
          "output_type": "display_data",
          "data": {
            "text/plain": [
              "<IPython.core.display.HTML object>"
            ],
            "text/html": [
              "\n",
              "     <input type=\"file\" id=\"files-92d86c02-b99a-49a5-bb5e-81a0ad47095e\" name=\"files[]\" multiple disabled\n",
              "        style=\"border:none\" />\n",
              "     <output id=\"result-92d86c02-b99a-49a5-bb5e-81a0ad47095e\">\n",
              "      Upload widget is only available when the cell has been executed in the\n",
              "      current browser session. Please rerun this cell to enable.\n",
              "      </output>\n",
              "      <script>// Copyright 2017 Google LLC\n",
              "//\n",
              "// Licensed under the Apache License, Version 2.0 (the \"License\");\n",
              "// you may not use this file except in compliance with the License.\n",
              "// You may obtain a copy of the License at\n",
              "//\n",
              "//      http://www.apache.org/licenses/LICENSE-2.0\n",
              "//\n",
              "// Unless required by applicable law or agreed to in writing, software\n",
              "// distributed under the License is distributed on an \"AS IS\" BASIS,\n",
              "// WITHOUT WARRANTIES OR CONDITIONS OF ANY KIND, either express or implied.\n",
              "// See the License for the specific language governing permissions and\n",
              "// limitations under the License.\n",
              "\n",
              "/**\n",
              " * @fileoverview Helpers for google.colab Python module.\n",
              " */\n",
              "(function(scope) {\n",
              "function span(text, styleAttributes = {}) {\n",
              "  const element = document.createElement('span');\n",
              "  element.textContent = text;\n",
              "  for (const key of Object.keys(styleAttributes)) {\n",
              "    element.style[key] = styleAttributes[key];\n",
              "  }\n",
              "  return element;\n",
              "}\n",
              "\n",
              "// Max number of bytes which will be uploaded at a time.\n",
              "const MAX_PAYLOAD_SIZE = 100 * 1024;\n",
              "\n",
              "function _uploadFiles(inputId, outputId) {\n",
              "  const steps = uploadFilesStep(inputId, outputId);\n",
              "  const outputElement = document.getElementById(outputId);\n",
              "  // Cache steps on the outputElement to make it available for the next call\n",
              "  // to uploadFilesContinue from Python.\n",
              "  outputElement.steps = steps;\n",
              "\n",
              "  return _uploadFilesContinue(outputId);\n",
              "}\n",
              "\n",
              "// This is roughly an async generator (not supported in the browser yet),\n",
              "// where there are multiple asynchronous steps and the Python side is going\n",
              "// to poll for completion of each step.\n",
              "// This uses a Promise to block the python side on completion of each step,\n",
              "// then passes the result of the previous step as the input to the next step.\n",
              "function _uploadFilesContinue(outputId) {\n",
              "  const outputElement = document.getElementById(outputId);\n",
              "  const steps = outputElement.steps;\n",
              "\n",
              "  const next = steps.next(outputElement.lastPromiseValue);\n",
              "  return Promise.resolve(next.value.promise).then((value) => {\n",
              "    // Cache the last promise value to make it available to the next\n",
              "    // step of the generator.\n",
              "    outputElement.lastPromiseValue = value;\n",
              "    return next.value.response;\n",
              "  });\n",
              "}\n",
              "\n",
              "/**\n",
              " * Generator function which is called between each async step of the upload\n",
              " * process.\n",
              " * @param {string} inputId Element ID of the input file picker element.\n",
              " * @param {string} outputId Element ID of the output display.\n",
              " * @return {!Iterable<!Object>} Iterable of next steps.\n",
              " */\n",
              "function* uploadFilesStep(inputId, outputId) {\n",
              "  const inputElement = document.getElementById(inputId);\n",
              "  inputElement.disabled = false;\n",
              "\n",
              "  const outputElement = document.getElementById(outputId);\n",
              "  outputElement.innerHTML = '';\n",
              "\n",
              "  const pickedPromise = new Promise((resolve) => {\n",
              "    inputElement.addEventListener('change', (e) => {\n",
              "      resolve(e.target.files);\n",
              "    });\n",
              "  });\n",
              "\n",
              "  const cancel = document.createElement('button');\n",
              "  inputElement.parentElement.appendChild(cancel);\n",
              "  cancel.textContent = 'Cancel upload';\n",
              "  const cancelPromise = new Promise((resolve) => {\n",
              "    cancel.onclick = () => {\n",
              "      resolve(null);\n",
              "    };\n",
              "  });\n",
              "\n",
              "  // Wait for the user to pick the files.\n",
              "  const files = yield {\n",
              "    promise: Promise.race([pickedPromise, cancelPromise]),\n",
              "    response: {\n",
              "      action: 'starting',\n",
              "    }\n",
              "  };\n",
              "\n",
              "  cancel.remove();\n",
              "\n",
              "  // Disable the input element since further picks are not allowed.\n",
              "  inputElement.disabled = true;\n",
              "\n",
              "  if (!files) {\n",
              "    return {\n",
              "      response: {\n",
              "        action: 'complete',\n",
              "      }\n",
              "    };\n",
              "  }\n",
              "\n",
              "  for (const file of files) {\n",
              "    const li = document.createElement('li');\n",
              "    li.append(span(file.name, {fontWeight: 'bold'}));\n",
              "    li.append(span(\n",
              "        `(${file.type || 'n/a'}) - ${file.size} bytes, ` +\n",
              "        `last modified: ${\n",
              "            file.lastModifiedDate ? file.lastModifiedDate.toLocaleDateString() :\n",
              "                                    'n/a'} - `));\n",
              "    const percent = span('0% done');\n",
              "    li.appendChild(percent);\n",
              "\n",
              "    outputElement.appendChild(li);\n",
              "\n",
              "    const fileDataPromise = new Promise((resolve) => {\n",
              "      const reader = new FileReader();\n",
              "      reader.onload = (e) => {\n",
              "        resolve(e.target.result);\n",
              "      };\n",
              "      reader.readAsArrayBuffer(file);\n",
              "    });\n",
              "    // Wait for the data to be ready.\n",
              "    let fileData = yield {\n",
              "      promise: fileDataPromise,\n",
              "      response: {\n",
              "        action: 'continue',\n",
              "      }\n",
              "    };\n",
              "\n",
              "    // Use a chunked sending to avoid message size limits. See b/62115660.\n",
              "    let position = 0;\n",
              "    do {\n",
              "      const length = Math.min(fileData.byteLength - position, MAX_PAYLOAD_SIZE);\n",
              "      const chunk = new Uint8Array(fileData, position, length);\n",
              "      position += length;\n",
              "\n",
              "      const base64 = btoa(String.fromCharCode.apply(null, chunk));\n",
              "      yield {\n",
              "        response: {\n",
              "          action: 'append',\n",
              "          file: file.name,\n",
              "          data: base64,\n",
              "        },\n",
              "      };\n",
              "\n",
              "      let percentDone = fileData.byteLength === 0 ?\n",
              "          100 :\n",
              "          Math.round((position / fileData.byteLength) * 100);\n",
              "      percent.textContent = `${percentDone}% done`;\n",
              "\n",
              "    } while (position < fileData.byteLength);\n",
              "  }\n",
              "\n",
              "  // All done.\n",
              "  yield {\n",
              "    response: {\n",
              "      action: 'complete',\n",
              "    }\n",
              "  };\n",
              "}\n",
              "\n",
              "scope.google = scope.google || {};\n",
              "scope.google.colab = scope.google.colab || {};\n",
              "scope.google.colab._files = {\n",
              "  _uploadFiles,\n",
              "  _uploadFilesContinue,\n",
              "};\n",
              "})(self);\n",
              "</script> "
            ]
          },
          "metadata": {}
        },
        {
          "output_type": "stream",
          "name": "stdout",
          "text": [
            "Saving 16000_pcm_speeches.zip to 16000_pcm_speeches.zip\n"
          ]
        }
      ],
      "source": [
        "from google.colab import files\n",
        "uploaded = files.upload()"
      ]
    },
    {
      "cell_type": "markdown",
      "source": [
        "Extrae el archivo .zip: Una vez que hayas subido el archivo .zip, este código extraerá el contenido del archivo \"dataset.zip\" en el directorio \"/content/dataset/\" de Colab. Puedes cambiar la ruta de extracción según sea necesario.\n",
        "\n",
        "puedes extraerlo usando el siguiente código:"
      ],
      "metadata": {
        "id": "bvEPQ6uUYbb2"
      }
    },
    {
      "cell_type": "code",
      "source": [
        "import zipfile\n",
        "\n",
        "with zipfile.ZipFile('16000_pcm_speeches.zip', 'r') as zip_ref:\n",
        "    zip_ref.extractall('/content/dataset')"
      ],
      "metadata": {
        "id": "jCzHgjS_Yh6C"
      },
      "execution_count": 78,
      "outputs": []
    },
    {
      "cell_type": "markdown",
      "source": [
        "Accede a los archivos del dataset: Ahora que el dataset está descomprimido en el entorno de Colab, puedes acceder a sus archivos normalmente utilizando la ruta donde se extrajo el dataset.\n",
        "\n",
        "Por ejemplo, si dentro del dataset hay un archivo llamado \"archivo.txt\", puedes acceder a él así:"
      ],
      "metadata": {
        "id": "UsNcZMByYknf"
      }
    },
    {
      "cell_type": "code",
      "source": [
        "# Definimos un conjunto de constantes con las rutas de las carpetas que contienen los audios de cada persona\n",
        "import os\n",
        "\n",
        "DATASET_ROOT = \"/content/dataset/16000_pcm_speeches\"\n",
        "BENJAMIN_DATA = os.path.join(DATASET_ROOT, \"Benjamin_Netanyau\")\n",
        "JENS_DATA = os.path.join(DATASET_ROOT, \"Jens_Stoltenberg\")\n",
        "JULIA_DATA = os.path.join(DATASET_ROOT, \"Julia_Gillard\")\n",
        "MARGARET_DATA = os.path.join(DATASET_ROOT, \"Magaret_Tarcher\")\n",
        "NELSON_DATA = os.path.join(DATASET_ROOT, \"Nelson_Mandela\")"
      ],
      "metadata": {
        "id": "0eauIbQPYhSN"
      },
      "execution_count": 79,
      "outputs": []
    },
    {
      "cell_type": "markdown",
      "source": [
        "## 1. Preparación del conjunto de datos"
      ],
      "metadata": {
        "id": "v88LqRcOel9q"
      }
    },
    {
      "cell_type": "code",
      "source": [
        "# Definimos una función para parsear nuestro conjunto de datos\n",
        "import librosa\n",
        "import numpy as np\n",
        "\n",
        "def parse_dataset(dataset_paths):\n",
        "    X = []\n",
        "    y = []\n",
        "    for index, dataset in enumerate(dataset_paths):\n",
        "        print(\"[+] Parsing {} data...\".format(dataset))\n",
        "        for fname in os.listdir(dataset):\n",
        "            wav, sr = librosa.load(os.path.join(dataset, fname), sr=None)\n",
        "            D = librosa.amplitude_to_db(np.abs(librosa.stft(wav)), ref=np.max)\n",
        "            X.append(D)\n",
        "            y.append(index)\n",
        "    return (X, y)"
      ],
      "metadata": {
        "id": "4L2DtRL_epec"
      },
      "execution_count": 80,
      "outputs": []
    },
    {
      "cell_type": "code",
      "source": [
        "X, y = parse_dataset([BENJAMIN_DATA, JENS_DATA, JULIA_DATA, MARGARET_DATA, NELSON_DATA])"
      ],
      "metadata": {
        "colab": {
          "base_uri": "https://localhost:8080/"
        },
        "id": "o9U3ifCLfy8H",
        "outputId": "88f1dc71-a31c-4ab0-edf8-6fe7bb39d808"
      },
      "execution_count": 81,
      "outputs": [
        {
          "output_type": "stream",
          "name": "stdout",
          "text": [
            "[+] Parsing /content/dataset/16000_pcm_speeches/Benjamin_Netanyau data...\n",
            "[+] Parsing /content/dataset/16000_pcm_speeches/Jens_Stoltenberg data...\n",
            "[+] Parsing /content/dataset/16000_pcm_speeches/Julia_Gillard data...\n",
            "[+] Parsing /content/dataset/16000_pcm_speeches/Magaret_Tarcher data...\n",
            "[+] Parsing /content/dataset/16000_pcm_speeches/Nelson_Mandela data...\n"
          ]
        }
      ]
    },
    {
      "cell_type": "markdown",
      "source": [
        "## 2. División del conjunto de datos"
      ],
      "metadata": {
        "id": "eeS4s7TliIo6"
      }
    },
    {
      "cell_type": "code",
      "source": [
        "from sklearn.model_selection import train_test_split\n",
        "\n",
        "X_train, X_test, y_train, y_test = train_test_split(X, y, test_size=0.1)"
      ],
      "metadata": {
        "id": "Pix8dtyOgB1m"
      },
      "execution_count": 82,
      "outputs": []
    },
    {
      "cell_type": "code",
      "source": [
        "X_test, X_val, y_test, y_val = train_test_split(X_test, y_test, test_size=0.5)"
      ],
      "metadata": {
        "id": "dVP45DbvijW0"
      },
      "execution_count": 83,
      "outputs": []
    },
    {
      "cell_type": "code",
      "source": [
        "print(\"Longitud subconjunto de entrenamiento: \", len(X_train))\n",
        "print(\"Longitud subconjunto de validación: \", len(X_val))\n",
        "print(\"Longitud subconjunto de pruebas: \", len(X_test))"
      ],
      "metadata": {
        "colab": {
          "base_uri": "https://localhost:8080/"
        },
        "id": "cWHz66Mxi10L",
        "outputId": "7e5f9a0d-9343-4139-aa0d-4d6af09f3920"
      },
      "execution_count": 84,
      "outputs": [
        {
          "output_type": "stream",
          "name": "stdout",
          "text": [
            "Longitud subconjunto de entrenamiento:  6750\n",
            "Longitud subconjunto de validación:  376\n",
            "Longitud subconjunto de pruebas:  375\n"
          ]
        }
      ]
    },
    {
      "cell_type": "markdown",
      "source": [
        "## 3. Construcción del modelo"
      ],
      "metadata": {
        "id": "J9xgn74HiIU8"
      }
    },
    {
      "cell_type": "code",
      "source": [
        "from tensorflow.keras.utils import to_categorical\n",
        "\n",
        "def prep_dataset(X, y, shape):\n",
        "    X_prep = np.array(X).reshape((len(X), shape))\n",
        "    X_prep = X_prep.astype('float32') / 255\n",
        "    y_prep = to_categorical(np.array(y))\n",
        "    return (X_prep, y_prep)"
      ],
      "metadata": {
        "id": "7v19ONxDjPBx"
      },
      "execution_count": 85,
      "outputs": []
    },
    {
      "cell_type": "code",
      "source": [
        "X_train_prep, y_train_prep = prep_dataset(X_train, y_train, 1025*32)\n",
        "X_val_prep, y_val_prep = prep_dataset(X_val, y_val, 1025*32)\n",
        "X_test_prep, y_test_prep = prep_dataset(X_test, y_test, 1025*32)"
      ],
      "metadata": {
        "id": "plRXfwDMkHYL"
      },
      "execution_count": 86,
      "outputs": []
    },
    {
      "cell_type": "code",
      "source": [
        "X_train_prep"
      ],
      "metadata": {
        "colab": {
          "base_uri": "https://localhost:8080/"
        },
        "id": "WIIjvoIplVC9",
        "outputId": "a2885eed-4fec-42ae-fc5f-f3b57e7669e0"
      },
      "execution_count": 87,
      "outputs": [
        {
          "output_type": "execute_result",
          "data": {
            "text/plain": [
              "array([[-0.11914819, -0.16151051, -0.14894731, ..., -0.3137255 ,\n",
              "        -0.2639199 , -0.23546301],\n",
              "       [-0.24362405, -0.25165945, -0.23869927, ..., -0.30976632,\n",
              "        -0.3137255 , -0.26268944],\n",
              "       [-0.21981277, -0.17424904, -0.17941934, ..., -0.3137255 ,\n",
              "        -0.30499825, -0.26671532],\n",
              "       ...,\n",
              "       [-0.23744068, -0.2552173 , -0.3137255 , ..., -0.3137255 ,\n",
              "        -0.26637188, -0.22815555],\n",
              "       [-0.1615274 , -0.17193642, -0.2005985 , ..., -0.3137255 ,\n",
              "        -0.26530373, -0.2296565 ],\n",
              "       [-0.12025556, -0.15854478, -0.15942644, ..., -0.3137255 ,\n",
              "        -0.25370082, -0.21764588]], dtype=float32)"
            ]
          },
          "metadata": {},
          "execution_count": 87
        }
      ]
    },
    {
      "cell_type": "code",
      "source": [
        "y_train_prep"
      ],
      "metadata": {
        "colab": {
          "base_uri": "https://localhost:8080/"
        },
        "id": "Oq4GKyY_lXPd",
        "outputId": "de21a312-eca7-43ee-fae7-4139803435e8"
      },
      "execution_count": 88,
      "outputs": [
        {
          "output_type": "execute_result",
          "data": {
            "text/plain": [
              "array([[0., 0., 0., 0., 1.],\n",
              "       [0., 1., 0., 0., 0.],\n",
              "       [1., 0., 0., 0., 0.],\n",
              "       ...,\n",
              "       [1., 0., 0., 0., 0.],\n",
              "       [0., 0., 0., 0., 1.],\n",
              "       [0., 0., 0., 1., 0.]], dtype=float32)"
            ]
          },
          "metadata": {},
          "execution_count": 88
        }
      ]
    },
    {
      "cell_type": "markdown",
      "source": [
        "### 3.1. Entrenamiento de una RNA sencilla"
      ],
      "metadata": {
        "id": "EV9a_GUilcTg"
      }
    },
    {
      "cell_type": "code",
      "source": [
        "# Entrenamos un perceptrón multicapa\n",
        "from sklearn.neural_network import MLPClassifier\n",
        "\n",
        "clf = MLPClassifier(activation='logistic', hidden_layer_sizes=(10,), solver='sgd')\n",
        "clf.fit(X_train_prep, y_train)"
      ],
      "metadata": {
        "colab": {
          "base_uri": "https://localhost:8080/",
          "height": 129
        },
        "id": "YrVeG598lZkQ",
        "outputId": "ddd85b13-e36f-4ee7-9718-e9084f82b0fc"
      },
      "execution_count": 89,
      "outputs": [
        {
          "output_type": "stream",
          "name": "stderr",
          "text": [
            "/usr/local/lib/python3.10/dist-packages/sklearn/neural_network/_multilayer_perceptron.py:686: ConvergenceWarning: Stochastic Optimizer: Maximum iterations (200) reached and the optimization hasn't converged yet.\n",
            "  warnings.warn(\n"
          ]
        },
        {
          "output_type": "execute_result",
          "data": {
            "text/plain": [
              "MLPClassifier(activation='logistic', hidden_layer_sizes=(10,), solver='sgd')"
            ],
            "text/html": [
              "<style>#sk-container-id-3 {color: black;background-color: white;}#sk-container-id-3 pre{padding: 0;}#sk-container-id-3 div.sk-toggleable {background-color: white;}#sk-container-id-3 label.sk-toggleable__label {cursor: pointer;display: block;width: 100%;margin-bottom: 0;padding: 0.3em;box-sizing: border-box;text-align: center;}#sk-container-id-3 label.sk-toggleable__label-arrow:before {content: \"▸\";float: left;margin-right: 0.25em;color: #696969;}#sk-container-id-3 label.sk-toggleable__label-arrow:hover:before {color: black;}#sk-container-id-3 div.sk-estimator:hover label.sk-toggleable__label-arrow:before {color: black;}#sk-container-id-3 div.sk-toggleable__content {max-height: 0;max-width: 0;overflow: hidden;text-align: left;background-color: #f0f8ff;}#sk-container-id-3 div.sk-toggleable__content pre {margin: 0.2em;color: black;border-radius: 0.25em;background-color: #f0f8ff;}#sk-container-id-3 input.sk-toggleable__control:checked~div.sk-toggleable__content {max-height: 200px;max-width: 100%;overflow: auto;}#sk-container-id-3 input.sk-toggleable__control:checked~label.sk-toggleable__label-arrow:before {content: \"▾\";}#sk-container-id-3 div.sk-estimator input.sk-toggleable__control:checked~label.sk-toggleable__label {background-color: #d4ebff;}#sk-container-id-3 div.sk-label input.sk-toggleable__control:checked~label.sk-toggleable__label {background-color: #d4ebff;}#sk-container-id-3 input.sk-hidden--visually {border: 0;clip: rect(1px 1px 1px 1px);clip: rect(1px, 1px, 1px, 1px);height: 1px;margin: -1px;overflow: hidden;padding: 0;position: absolute;width: 1px;}#sk-container-id-3 div.sk-estimator {font-family: monospace;background-color: #f0f8ff;border: 1px dotted black;border-radius: 0.25em;box-sizing: border-box;margin-bottom: 0.5em;}#sk-container-id-3 div.sk-estimator:hover {background-color: #d4ebff;}#sk-container-id-3 div.sk-parallel-item::after {content: \"\";width: 100%;border-bottom: 1px solid gray;flex-grow: 1;}#sk-container-id-3 div.sk-label:hover label.sk-toggleable__label {background-color: #d4ebff;}#sk-container-id-3 div.sk-serial::before {content: \"\";position: absolute;border-left: 1px solid gray;box-sizing: border-box;top: 0;bottom: 0;left: 50%;z-index: 0;}#sk-container-id-3 div.sk-serial {display: flex;flex-direction: column;align-items: center;background-color: white;padding-right: 0.2em;padding-left: 0.2em;position: relative;}#sk-container-id-3 div.sk-item {position: relative;z-index: 1;}#sk-container-id-3 div.sk-parallel {display: flex;align-items: stretch;justify-content: center;background-color: white;position: relative;}#sk-container-id-3 div.sk-item::before, #sk-container-id-3 div.sk-parallel-item::before {content: \"\";position: absolute;border-left: 1px solid gray;box-sizing: border-box;top: 0;bottom: 0;left: 50%;z-index: -1;}#sk-container-id-3 div.sk-parallel-item {display: flex;flex-direction: column;z-index: 1;position: relative;background-color: white;}#sk-container-id-3 div.sk-parallel-item:first-child::after {align-self: flex-end;width: 50%;}#sk-container-id-3 div.sk-parallel-item:last-child::after {align-self: flex-start;width: 50%;}#sk-container-id-3 div.sk-parallel-item:only-child::after {width: 0;}#sk-container-id-3 div.sk-dashed-wrapped {border: 1px dashed gray;margin: 0 0.4em 0.5em 0.4em;box-sizing: border-box;padding-bottom: 0.4em;background-color: white;}#sk-container-id-3 div.sk-label label {font-family: monospace;font-weight: bold;display: inline-block;line-height: 1.2em;}#sk-container-id-3 div.sk-label-container {text-align: center;}#sk-container-id-3 div.sk-container {/* jupyter's `normalize.less` sets `[hidden] { display: none; }` but bootstrap.min.css set `[hidden] { display: none !important; }` so we also need the `!important` here to be able to override the default hidden behavior on the sphinx rendered scikit-learn.org. See: https://github.com/scikit-learn/scikit-learn/issues/21755 */display: inline-block !important;position: relative;}#sk-container-id-3 div.sk-text-repr-fallback {display: none;}</style><div id=\"sk-container-id-3\" class=\"sk-top-container\"><div class=\"sk-text-repr-fallback\"><pre>MLPClassifier(activation=&#x27;logistic&#x27;, hidden_layer_sizes=(10,), solver=&#x27;sgd&#x27;)</pre><b>In a Jupyter environment, please rerun this cell to show the HTML representation or trust the notebook. <br />On GitHub, the HTML representation is unable to render, please try loading this page with nbviewer.org.</b></div><div class=\"sk-container\" hidden><div class=\"sk-item\"><div class=\"sk-estimator sk-toggleable\"><input class=\"sk-toggleable__control sk-hidden--visually\" id=\"sk-estimator-id-3\" type=\"checkbox\" checked><label for=\"sk-estimator-id-3\" class=\"sk-toggleable__label sk-toggleable__label-arrow\">MLPClassifier</label><div class=\"sk-toggleable__content\"><pre>MLPClassifier(activation=&#x27;logistic&#x27;, hidden_layer_sizes=(10,), solver=&#x27;sgd&#x27;)</pre></div></div></div></div></div>"
            ]
          },
          "metadata": {},
          "execution_count": 89
        }
      ]
    },
    {
      "cell_type": "code",
      "source": [
        "# Realizamos la predicción con el conjunto de datos de validación\n",
        "y_pred = clf.predict(X_val_prep)"
      ],
      "metadata": {
        "id": "P2_R1EQOmWI1"
      },
      "execution_count": 90,
      "outputs": []
    },
    {
      "cell_type": "code",
      "source": [
        "# Mostramos el accuracy resultante de la clasificación\n",
        "from sklearn.metrics import accuracy_score\n",
        "\n",
        "accuracy_score(y_val,y_pred)"
      ],
      "metadata": {
        "colab": {
          "base_uri": "https://localhost:8080/"
        },
        "id": "hvM8FoxemgWn",
        "outputId": "69f5934c-bc95-496c-8c09-3010679162bc"
      },
      "execution_count": 91,
      "outputs": [
        {
          "output_type": "execute_result",
          "data": {
            "text/plain": [
              "0.9627659574468085"
            ]
          },
          "metadata": {},
          "execution_count": 91
        }
      ]
    },
    {
      "cell_type": "markdown",
      "source": [
        "### 3.2. Entrenamiento de una RNA profunda"
      ],
      "metadata": {
        "id": "SoFCP66ZnKgw"
      }
    },
    {
      "cell_type": "code",
      "source": [
        "from tensorflow.keras import models\n",
        "from tensorflow.keras import layers"
      ],
      "metadata": {
        "id": "UFJnNXOamrsd"
      },
      "execution_count": 92,
      "outputs": []
    },
    {
      "cell_type": "code",
      "source": [
        "network = models.Sequential()\n",
        "\n",
        "network.add(layers.Dense(300, activation='relu', input_shape=(1025*32,)))\n",
        "network.add(layers.Dense(200, activation='relu'))\n",
        "network.add(layers.Dense(100, activation='relu'))\n",
        "network.add(layers.Dense(5, activation='softmax'))"
      ],
      "metadata": {
        "id": "u_YH5t-gn_nq"
      },
      "execution_count": 93,
      "outputs": []
    },
    {
      "cell_type": "code",
      "source": [
        "network.compile(loss='categorical_crossentropy',\n",
        "                optimizer='sgd',\n",
        "                metrics=['accuracy', 'Precision'])"
      ],
      "metadata": {
        "id": "yXJQFHSponb5"
      },
      "execution_count": 94,
      "outputs": []
    },
    {
      "cell_type": "code",
      "source": [
        "history = network.fit(X_train_prep,\n",
        "                      y_train_prep,\n",
        "                      epochs=30,\n",
        "                      validation_data=(X_val_prep, y_val_prep))"
      ],
      "metadata": {
        "colab": {
          "base_uri": "https://localhost:8080/"
        },
        "id": "7w5IzPzLpAH6",
        "outputId": "6bda7cd3-35d5-4ff9-c443-64578cb1a3a7"
      },
      "execution_count": 95,
      "outputs": [
        {
          "output_type": "stream",
          "name": "stdout",
          "text": [
            "Epoch 1/30\n",
            "211/211 [==============================] - 19s 85ms/step - loss: 1.3862 - accuracy: 0.3839 - precision: 0.6599 - val_loss: 1.0190 - val_accuracy: 0.6543 - val_precision: 0.9444\n",
            "Epoch 2/30\n",
            "211/211 [==============================] - 17s 79ms/step - loss: 1.0454 - accuracy: 0.5705 - precision: 0.7407 - val_loss: 0.9846 - val_accuracy: 0.5798 - val_precision: 0.6783\n",
            "Epoch 3/30\n",
            "211/211 [==============================] - 17s 82ms/step - loss: 0.8502 - accuracy: 0.6587 - precision: 0.7686 - val_loss: 0.6656 - val_accuracy: 0.7447 - val_precision: 0.8034\n",
            "Epoch 4/30\n",
            "211/211 [==============================] - 18s 87ms/step - loss: 0.7195 - accuracy: 0.7184 - precision: 0.7978 - val_loss: 0.7568 - val_accuracy: 0.6995 - val_precision: 0.7547\n",
            "Epoch 5/30\n",
            "211/211 [==============================] - 17s 78ms/step - loss: 0.6241 - accuracy: 0.7676 - precision: 0.8225 - val_loss: 0.4836 - val_accuracy: 0.8218 - val_precision: 0.8865\n",
            "Epoch 6/30\n",
            "211/211 [==============================] - 17s 80ms/step - loss: 0.5606 - accuracy: 0.7953 - precision: 0.8402 - val_loss: 0.5544 - val_accuracy: 0.7580 - val_precision: 0.8049\n",
            "Epoch 7/30\n",
            "211/211 [==============================] - 18s 86ms/step - loss: 0.4986 - accuracy: 0.8218 - precision: 0.8581 - val_loss: 0.4557 - val_accuracy: 0.8245 - val_precision: 0.8412\n",
            "Epoch 8/30\n",
            "211/211 [==============================] - 17s 79ms/step - loss: 0.3898 - accuracy: 0.8687 - precision: 0.8966 - val_loss: 0.2500 - val_accuracy: 0.9255 - val_precision: 0.9460\n",
            "Epoch 9/30\n",
            "211/211 [==============================] - 21s 101ms/step - loss: 0.3838 - accuracy: 0.8720 - precision: 0.8967 - val_loss: 0.2201 - val_accuracy: 0.9282 - val_precision: 0.9635\n",
            "Epoch 10/30\n",
            "211/211 [==============================] - 18s 85ms/step - loss: 0.3470 - accuracy: 0.8816 - precision: 0.9037 - val_loss: 0.3409 - val_accuracy: 0.8590 - val_precision: 0.8842\n",
            "Epoch 11/30\n",
            "211/211 [==============================] - 17s 80ms/step - loss: 0.2923 - accuracy: 0.8987 - precision: 0.9166 - val_loss: 0.1907 - val_accuracy: 0.9282 - val_precision: 0.9505\n",
            "Epoch 12/30\n",
            "211/211 [==============================] - 17s 83ms/step - loss: 0.2769 - accuracy: 0.9052 - precision: 0.9197 - val_loss: 0.1416 - val_accuracy: 0.9574 - val_precision: 0.9807\n",
            "Epoch 13/30\n",
            "211/211 [==============================] - 18s 83ms/step - loss: 0.2592 - accuracy: 0.9130 - precision: 0.9267 - val_loss: 0.1611 - val_accuracy: 0.9415 - val_precision: 0.9536\n",
            "Epoch 14/30\n",
            "211/211 [==============================] - 20s 95ms/step - loss: 0.2225 - accuracy: 0.9319 - precision: 0.9406 - val_loss: 0.0875 - val_accuracy: 0.9787 - val_precision: 0.9838\n",
            "Epoch 15/30\n",
            "211/211 [==============================] - 22s 104ms/step - loss: 0.2250 - accuracy: 0.9326 - precision: 0.9401 - val_loss: 0.1623 - val_accuracy: 0.9282 - val_precision: 0.9297\n",
            "Epoch 16/30\n",
            "211/211 [==============================] - 29s 139ms/step - loss: 0.1951 - accuracy: 0.9399 - precision: 0.9489 - val_loss: 0.2529 - val_accuracy: 0.8989 - val_precision: 0.9162\n",
            "Epoch 17/30\n",
            "211/211 [==============================] - 34s 162ms/step - loss: 0.1563 - accuracy: 0.9513 - precision: 0.9578 - val_loss: 0.1122 - val_accuracy: 0.9654 - val_precision: 0.9730\n",
            "Epoch 18/30\n",
            "211/211 [==============================] - 29s 135ms/step - loss: 0.1879 - accuracy: 0.9465 - precision: 0.9534 - val_loss: 0.2468 - val_accuracy: 0.9122 - val_precision: 0.9233\n",
            "Epoch 19/30\n",
            "211/211 [==============================] - 29s 136ms/step - loss: 0.1137 - accuracy: 0.9643 - precision: 0.9679 - val_loss: 0.0710 - val_accuracy: 0.9787 - val_precision: 0.9813\n",
            "Epoch 20/30\n",
            "211/211 [==============================] - 28s 133ms/step - loss: 0.2393 - accuracy: 0.9359 - precision: 0.9455 - val_loss: 0.0648 - val_accuracy: 0.9840 - val_precision: 0.9840\n",
            "Epoch 21/30\n",
            "211/211 [==============================] - 25s 116ms/step - loss: 0.1431 - accuracy: 0.9596 - precision: 0.9638 - val_loss: 1.0683 - val_accuracy: 0.7872 - val_precision: 0.8055\n",
            "Epoch 22/30\n",
            "211/211 [==============================] - 17s 80ms/step - loss: 0.1580 - accuracy: 0.9553 - precision: 0.9617 - val_loss: 0.0524 - val_accuracy: 0.9867 - val_precision: 0.9946\n",
            "Epoch 23/30\n",
            "211/211 [==============================] - 18s 86ms/step - loss: 0.1314 - accuracy: 0.9621 - precision: 0.9664 - val_loss: 0.0585 - val_accuracy: 0.9840 - val_precision: 0.9866\n",
            "Epoch 24/30\n",
            "211/211 [==============================] - 18s 85ms/step - loss: 0.1097 - accuracy: 0.9689 - precision: 0.9721 - val_loss: 0.1047 - val_accuracy: 0.9707 - val_precision: 0.9758\n",
            "Epoch 25/30\n",
            "211/211 [==============================] - 17s 81ms/step - loss: 0.0971 - accuracy: 0.9717 - precision: 0.9740 - val_loss: 0.0675 - val_accuracy: 0.9787 - val_precision: 0.9787\n",
            "Epoch 26/30\n",
            "211/211 [==============================] - 20s 93ms/step - loss: 0.0608 - accuracy: 0.9840 - precision: 0.9856 - val_loss: 0.0369 - val_accuracy: 0.9867 - val_precision: 0.9867\n",
            "Epoch 27/30\n",
            "211/211 [==============================] - 17s 81ms/step - loss: 0.2129 - accuracy: 0.9479 - precision: 0.9566 - val_loss: 0.0641 - val_accuracy: 0.9814 - val_precision: 0.9892\n",
            "Epoch 28/30\n",
            "211/211 [==============================] - 17s 81ms/step - loss: 0.1321 - accuracy: 0.9677 - precision: 0.9712 - val_loss: 0.0595 - val_accuracy: 0.9787 - val_precision: 0.9813\n",
            "Epoch 29/30\n",
            "211/211 [==============================] - 18s 87ms/step - loss: 0.1192 - accuracy: 0.9689 - precision: 0.9718 - val_loss: 0.0527 - val_accuracy: 0.9814 - val_precision: 0.9813\n",
            "Epoch 30/30\n",
            "211/211 [==============================] - 18s 86ms/step - loss: 0.1051 - accuracy: 0.9742 - precision: 0.9779 - val_loss: 0.0312 - val_accuracy: 0.9920 - val_precision: 0.9920\n"
          ]
        }
      ]
    },
    {
      "cell_type": "code",
      "source": [
        "import pandas as pd\n",
        "import matplotlib.pyplot as plt\n",
        "\n",
        "pd.DataFrame(history.history).plot(figsize=(10, 7))\n",
        "plt.grid(True)\n",
        "plt.gca().set_ylim(0, 1.2)\n",
        "plt.xlabel(\"epochs\")\n",
        "plt.show()"
      ],
      "metadata": {
        "colab": {
          "base_uri": "https://localhost:8080/",
          "height": 624
        },
        "id": "l2trJFagpk0D",
        "outputId": "c6f71849-0245-4ee3-d21b-1cf6482f4eae"
      },
      "execution_count": 96,
      "outputs": [
        {
          "output_type": "display_data",
          "data": {
            "text/plain": [
              "<Figure size 1000x700 with 1 Axes>"
            ],
            "image/png": "[encoded data removed]"
          },
          "metadata": {}
        }
      ]
    },
    {
      "cell_type": "markdown",
      "source": [
        "### 3.3. Predicción para nuevos ejemplos"
      ],
      "metadata": {
        "id": "YtpCf0EB164K"
      }
    },
    {
      "cell_type": "code",
      "source": [
        "# Realizamos la predicción para el subconjunto de pruebas\n",
        "test_loss, test_acc, test_prec = network.evaluate(X_test_prep, y_test_prep)"
      ],
      "metadata": {
        "colab": {
          "base_uri": "https://localhost:8080/"
        },
        "id": "xvQx8IhM0MQ5",
        "outputId": "0ff15d7e-a168-4cc7-f831-7e38f7cbe649"
      },
      "execution_count": 97,
      "outputs": [
        {
          "output_type": "stream",
          "name": "stdout",
          "text": [
            "12/12 [==============================] - 0s 25ms/step - loss: 0.0575 - accuracy: 0.9787 - precision: 0.9839\n"
          ]
        }
      ]
    },
    {
      "cell_type": "code",
      "source": [
        "print('test_acc: ', test_acc)\n",
        "print('test_prec: ', test_prec)"
      ],
      "metadata": {
        "colab": {
          "base_uri": "https://localhost:8080/"
        },
        "id": "5jHTt6gB2OJ2",
        "outputId": "2d8116db-f10b-4a6e-ce4d-5eaeadf0d8b9"
      },
      "execution_count": 98,
      "outputs": [
        {
          "output_type": "stream",
          "name": "stdout",
          "text": [
            "test_acc:  0.9786666631698608\n",
            "test_prec:  0.9838709831237793\n"
          ]
        }
      ]
    },
    {
      "cell_type": "code",
      "source": [],
      "metadata": {
        "id": "B4u-C3rn2XfC"
      },
      "execution_count": null,
      "outputs": []
    }
  ]
}