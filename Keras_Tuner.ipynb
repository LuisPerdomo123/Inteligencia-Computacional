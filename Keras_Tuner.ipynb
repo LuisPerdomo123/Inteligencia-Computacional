{
  "nbformat": 4,
  "nbformat_minor": 0,
  "metadata": {
    "colab": {
      "provenance": [],
      "authorship_tag": "ABX9TyPqJCT5+6On/hIYZuyYbVlB",
      "include_colab_link": true
    },
    "kernelspec": {
      "name": "python3",
      "display_name": "Python 3"
    },
    "language_info": {
      "name": "python"
    }
  },
  "cells": [
    {
      "cell_type": "markdown",
      "metadata": {
        "id": "view-in-github",
        "colab_type": "text"
      },
      "source": [
        "<a href=\"https://colab.research.google.com/github/LuisPerdomo123/Inteligencia-Computacional/blob/main/Keras_Tuner.ipynb\" target=\"_parent\"><img src=\"https://colab.research.google.com/assets/colab-badge.svg\" alt=\"Open In Colab\"/></a>"
      ]
    },
    {
      "cell_type": "markdown",
      "source": [
        "# Keras Tuner\n",
        "\n",
        "Keras Tuner es una biblioteca que te ayuda a elegir el conjunto óptimo de hiperparámetros para tu programa TensorFlow/keras. El proceso de seleccionar el conjunto correcto de hiperparámetros para su aplicación de aprendizaje automático (ML) se llama hyperparameter tuning o hypertuning.\n",
        "\n",
        "Los hiperparámetros son las variables que gobiernan el proceso de entrenamiento y la topología de un modelo de Machine Learning. Estas variables permanecen constantes durante el proceso de entrenamiento e impactan directamente en el rendimiento del programa. Los hiperparámetros pueden ser de dos tipos:\n",
        "\n",
        "\n",
        "\n",
        "*   **Hiperparámetros del modelo** que influyen en la selección del modelo, como el número y el ancho de las hidden layers.\n",
        "*   **Hiperparámetros del algoritmo** que influyen en la velocidad y la calidad del algoritmo de aprendizaje, como la tasa de aprendizaje para el Descenso de Gradiente Estocástico (SGD).\n",
        "\n"
      ],
      "metadata": {
        "id": "UiyKdwLip5Wg"
      }
    },
    {
      "cell_type": "markdown",
      "source": [
        "## 0. Imports"
      ],
      "metadata": {
        "id": "uslax9rfrIeX"
      }
    },
    {
      "cell_type": "code",
      "source": [
        "pip install keras-tuner"
      ],
      "metadata": {
        "colab": {
          "base_uri": "https://localhost:8080/"
        },
        "id": "X2UjV9iSr5UA",
        "outputId": "7b49fb96-9b97-431d-8aad-849170193f99"
      },
      "execution_count": 2,
      "outputs": [
        {
          "output_type": "stream",
          "name": "stdout",
          "text": [
            "Collecting keras-tuner\n",
            "  Downloading keras_tuner-1.4.7-py3-none-any.whl (129 kB)\n",
            "\u001b[?25l     \u001b[90m━━━━━━━━━━━━━━━━━━━━━━━━━━━━━━━━━━━━━━━━\u001b[0m \u001b[32m0.0/129.1 kB\u001b[0m \u001b[31m?\u001b[0m eta \u001b[36m-:--:--\u001b[0m\r\u001b[2K     \u001b[91m━━━━━━━━━━━━━━━━━━━━━━━━━━━━━━━━━━━━━━\u001b[0m\u001b[90m╺\u001b[0m\u001b[90m━\u001b[0m \u001b[32m122.9/129.1 kB\u001b[0m \u001b[31m4.5 MB/s\u001b[0m eta \u001b[36m0:00:01\u001b[0m\r\u001b[2K     \u001b[90m━━━━━━━━━━━━━━━━━━━━━━━━━━━━━━━━━━━━━━━━\u001b[0m \u001b[32m129.1/129.1 kB\u001b[0m \u001b[31m3.3 MB/s\u001b[0m eta \u001b[36m0:00:00\u001b[0m\n",
            "\u001b[?25hRequirement already satisfied: keras in /usr/local/lib/python3.10/dist-packages (from keras-tuner) (2.15.0)\n",
            "Requirement already satisfied: packaging in /usr/local/lib/python3.10/dist-packages (from keras-tuner) (24.0)\n",
            "Requirement already satisfied: requests in /usr/local/lib/python3.10/dist-packages (from keras-tuner) (2.31.0)\n",
            "Collecting kt-legacy (from keras-tuner)\n",
            "  Downloading kt_legacy-1.0.5-py3-none-any.whl (9.6 kB)\n",
            "Requirement already satisfied: charset-normalizer<4,>=2 in /usr/local/lib/python3.10/dist-packages (from requests->keras-tuner) (3.3.2)\n",
            "Requirement already satisfied: idna<4,>=2.5 in /usr/local/lib/python3.10/dist-packages (from requests->keras-tuner) (3.7)\n",
            "Requirement already satisfied: urllib3<3,>=1.21.1 in /usr/local/lib/python3.10/dist-packages (from requests->keras-tuner) (2.0.7)\n",
            "Requirement already satisfied: certifi>=2017.4.17 in /usr/local/lib/python3.10/dist-packages (from requests->keras-tuner) (2024.2.2)\n",
            "Installing collected packages: kt-legacy, keras-tuner\n",
            "Successfully installed keras-tuner-1.4.7 kt-legacy-1.0.5\n"
          ]
        }
      ]
    },
    {
      "cell_type": "code",
      "execution_count": 3,
      "metadata": {
        "colab": {
          "base_uri": "https://localhost:8080/"
        },
        "id": "oj2yDy0Wp2SO",
        "outputId": "834e8f37-68ff-421e-edce-965dfc57e581"
      },
      "outputs": [
        {
          "output_type": "stream",
          "name": "stderr",
          "text": [
            "<ipython-input-3-fe85bac8af47>:3: DeprecationWarning: `import kerastuner` is deprecated, please use `import keras_tuner`.\n",
            "  import kerastuner as kt\n"
          ]
        }
      ],
      "source": [
        "import tensorflow as tf\n",
        "from tensorflow import keras\n",
        "import kerastuner as kt"
      ]
    },
    {
      "cell_type": "markdown",
      "source": [
        "## 1. Conjunto de datos"
      ],
      "metadata": {
        "id": "VVakQGOOsDG7"
      }
    },
    {
      "cell_type": "code",
      "source": [
        "(img_train, label_train), (img_test, label_test) = keras.datasets.fashion_mnist.load_data()"
      ],
      "metadata": {
        "colab": {
          "base_uri": "https://localhost:8080/"
        },
        "id": "Vb0JW9xfrRsM",
        "outputId": "dc79ade9-ca88-4fbb-d8e3-4a8193278c4c"
      },
      "execution_count": 4,
      "outputs": [
        {
          "output_type": "stream",
          "name": "stdout",
          "text": [
            "Downloading data from https://storage.googleapis.com/tensorflow/tf-keras-datasets/train-labels-idx1-ubyte.gz\n",
            "29515/29515 [==============================] - 0s 0us/step\n",
            "Downloading data from https://storage.googleapis.com/tensorflow/tf-keras-datasets/train-images-idx3-ubyte.gz\n",
            "26421880/26421880 [==============================] - 1s 0us/step\n",
            "Downloading data from https://storage.googleapis.com/tensorflow/tf-keras-datasets/t10k-labels-idx1-ubyte.gz\n",
            "5148/5148 [==============================] - 0s 0us/step\n",
            "Downloading data from https://storage.googleapis.com/tensorflow/tf-keras-datasets/t10k-images-idx3-ubyte.gz\n",
            "4422102/4422102 [==============================] - 1s 0us/step\n"
          ]
        }
      ]
    },
    {
      "cell_type": "code",
      "source": [
        "import numpy as np\n",
        "import matplotlib.pyplot as plt\n",
        "\n",
        "plt.figure(figsize=(20, 4))\n",
        "\n",
        "num_examples = min(len(img_train), 8)  # Ensure we don't exceed 8 examples\n",
        "for index, e in enumerate(img_train[:num_examples]):\n",
        "    plt.subplot(1, num_examples, index + 1)\n",
        "    plt.imshow(e, cmap=plt.cm.gray)\n",
        "    plt.title('Example: ' + str(index + 1))\n",
        "\n",
        "plt.show()"
      ],
      "metadata": {
        "colab": {
          "base_uri": "https://localhost:8080/",
          "height": 137
        },
        "id": "X_uDxvqesQ1W",
        "outputId": "11fb0b47-ed77-40b7-955f-d30b366540e2"
      },
      "execution_count": 7,
      "outputs": [
        {
          "output_type": "display_data",
          "data": {
            "text/plain": [
              "<Figure size 2000x400 with 8 Axes>"
            ],
            "image/png": "[encoded data removed]"
          },
          "metadata": {}
        }
      ]
    },
    {
      "cell_type": "code",
      "source": [
        "# Normalizamos el valor de los pixels entre 0 y 1\n",
        "img_train = img_train.astype('float32')/255.0\n",
        "img_test = img_test.astype('float32')/255.0"
      ],
      "metadata": {
        "id": "m6SSXomFta3-"
      },
      "execution_count": 8,
      "outputs": []
    },
    {
      "cell_type": "markdown",
      "source": [
        "## 2. Definición del modelo\n",
        "\n",
        "Cuando se construye un modelo para realizar hypertuning, debe definirse el espacio de búsqueda de hiperparámetros además de la arquitectura del modelo. El modelo que estableces para realizar hypertuning se llama hypermodel.\n",
        "\n",
        "Puedes definir un hypermodel a través de dos enfoques:\n",
        "\n",
        "\n",
        "*   Implementando una función que construye el modelo.\n",
        "*   Creando una subclase HyperModel de la Keras Tuner API.\n",
        "\n",
        "También puedes utilizar dos clases predefinidas de HyperModel. HyperXception y HyperResNet para aplicaciones de visión artificial.\n",
        "\n",
        "En este tutorial, se implementa una función que construye un modelo de clasificación de imágenes. La función devuelve un modelo compildo y utiliza los hiperparámetros que se definan para realizar hypertuning del mismo.\n",
        "\n"
      ],
      "metadata": {
        "id": "iyn8WnMJuZqn"
      }
    },
    {
      "cell_type": "code",
      "source": [
        "def model_builder(hp):\n",
        "\n",
        "  # Definición del modelo\n",
        "  model = keras.Sequential()\n",
        "  model.add(keras.layers.Flatten(input_shape=(28, 28)))\n",
        "\n",
        "  # Tunning del número de neuronas de la primera hidden layer\n",
        "  # Seleccionamos el valor óptimo entre 32 y 512\n",
        "  hp_units = hp.Int('units', min_value = 32, max_value = 512, step = 32)\n",
        "  model.add(keras.layers.Dense(units = hp_units, activation='relu'))\n",
        "\n",
        "  # Tunning del ratio de aprendizaje para el algoritmo de optimización\n",
        "  # Seleccionamos el valor óptimo entre [0.01, 0.001, 0.0001]\n",
        "  hp_learning_rate = hp.Choice('learning_rate', values = [1e-2, 1e-3, 1e-4])\n",
        "\n",
        "  model.compile(\n",
        "      optimizer = keras.optimizers.Adam(learning_rate = hp_learning_rate),\n",
        "      loss = keras.losses.SparseCategoricalCrossentropy(from_logits=True),\n",
        "      metrics=['accuracy']\n",
        "  )\n",
        "  return model"
      ],
      "metadata": {
        "id": "Wzc74ocVuX5l"
      },
      "execution_count": 9,
      "outputs": []
    },
    {
      "cell_type": "markdown",
      "source": [
        "El parámetro hp que recibe la función, se corresponde con un objeto de la clase HyperParameters, que de manera general, se corresponde con un 'almacen' de hiperparámetros."
      ],
      "metadata": {
        "id": "WH9ZHOoKykrH"
      }
    },
    {
      "cell_type": "markdown",
      "source": [
        "## 3. Instanciando el objeto Tuner para realizar hypertuning\n",
        "\n",
        "Una vez definida la función anterior, se instancia el Tuner para realizar el hypertuning. Keras Tuner tiene cuatro tuners disponibles - RandomSearch, Hiperband, BayesianOptimizaion y Sklearn. En este tutorial, se utiliza Huperband(https://arxiv.org/pdf/1603.06560.pdf)\n",
        "\n",
        "Para instanciar el tuner de Hyperband, hay que especificar el hypermodel, el objetivo a optimizar y el número máximo de epochs a entrenar (max_epochs)."
      ],
      "metadata": {
        "id": "BsfW-swI0jMC"
      }
    },
    {
      "cell_type": "code",
      "source": [
        "tuner = kt.Hyperband(\n",
        "    model_builder,\n",
        "    objective = 'val_accuracy',\n",
        "    max_epochs = 10,\n",
        "    factor = 3,\n",
        "    directory = 'test_dir',\n",
        "    project_name = 'hp_tuning'\n",
        ")"
      ],
      "metadata": {
        "id": "K5MkTbFgybR_"
      },
      "execution_count": 10,
      "outputs": []
    },
    {
      "cell_type": "markdown",
      "source": [
        "El algoritmo Hyperband utiliza adaptativa de recursos y la detenvión temprana para converger rápidamente en un modelo de alto rendimiento. El algoritmo entrena un gran número de modelos durante unos pocos epochs y lleba a la siguiente ronda sólo la mitad de los modelos de mayor rendimiento. Hyperband determina el número de modelos a entrenar mediante la formula 1 + logfactor(max_epochs) y redondea el resultado al entero más cercano."
      ],
      "metadata": {
        "id": "HQ-Dmtv32JyF"
      }
    },
    {
      "cell_type": "code",
      "source": [
        "# Ejecución del tuner para la búsqueda de hiperparámetros\n",
        "tuner.search(\n",
        "    img_train,\n",
        "    label_train,\n",
        "    epochs = 10,\n",
        "    validation_data = (img_test, label_test)\n",
        ")"
      ],
      "metadata": {
        "colab": {
          "base_uri": "https://localhost:8080/"
        },
        "id": "88NN27xi2I1E",
        "outputId": "9259b8e8-9981-4036-9275-4f03da70d3c1"
      },
      "execution_count": 11,
      "outputs": [
        {
          "output_type": "stream",
          "name": "stdout",
          "text": [
            "Trial 30 Complete [00h 02m 23s]\n",
            "val_accuracy: 0.7064999938011169\n",
            "\n",
            "Best val_accuracy So Far: 0.8453999757766724\n",
            "Total elapsed time: 00h 24m 31s\n"
          ]
        }
      ]
    },
    {
      "cell_type": "markdown",
      "source": [
        "Una vez que hemos realizado la búsqueda de los hiperparámetros podemos acceder a los valores óptimos mediante la siguiente sentencia"
      ],
      "metadata": {
        "id": "C33x30Dz9yq3"
      }
    },
    {
      "cell_type": "code",
      "source": [
        "# Obtención de los hiperparámetros óptimos\n",
        "best_hps = tuner.get_best_hyperparameters(num_trials = 1)[0]\n",
        "\n",
        "print(\"Units: \", best_hps.get('units'))\n",
        "print(\"Learning rate: \", best_hps.get('learning_rate'))"
      ],
      "metadata": {
        "colab": {
          "base_uri": "https://localhost:8080/"
        },
        "id": "IgNUfaZu4G_Q",
        "outputId": "920cbf0c-c447-4791-94c0-0e798610e12c"
      },
      "execution_count": 12,
      "outputs": [
        {
          "output_type": "stream",
          "name": "stdout",
          "text": [
            "Units:  288\n",
            "Learning rate:  0.001\n"
          ]
        }
      ]
    },
    {
      "cell_type": "markdown",
      "source": [
        "## 5. Entrenamiento del modelo\n",
        "\n",
        "Una vez seleccionados los hiperparámetros óptimos, los utilizamos para entrenar el modelo."
      ],
      "metadata": {
        "id": "rBNEAaTV-cGR"
      }
    },
    {
      "cell_type": "code",
      "source": [
        "model = tuner.hypermodel.build(best_hps)\n",
        "\n",
        "history = model.fit(\n",
        "    img_train,\n",
        "    label_train,\n",
        "    epochs = 10,\n",
        "    validation_data = (img_test, label_test)\n",
        ")"
      ],
      "metadata": {
        "colab": {
          "base_uri": "https://localhost:8080/"
        },
        "id": "T3y3ykWx-YMP",
        "outputId": "1755a558-1526-4f2a-bfce-3ea8bd046b2c"
      },
      "execution_count": 13,
      "outputs": [
        {
          "output_type": "stream",
          "name": "stdout",
          "text": [
            "Epoch 1/10\n",
            "1875/1875 [==============================] - 12s 6ms/step - loss: 1.3123 - accuracy: 0.7164 - val_loss: 1.1430 - val_accuracy: 0.7411\n",
            "Epoch 2/10\n",
            "1875/1875 [==============================] - 12s 6ms/step - loss: 1.0812 - accuracy: 0.7571 - val_loss: 1.1004 - val_accuracy: 0.7434\n",
            "Epoch 3/10\n",
            "1875/1875 [==============================] - 12s 6ms/step - loss: 1.0386 - accuracy: 0.7629 - val_loss: 1.0669 - val_accuracy: 0.7473\n",
            "Epoch 4/10\n",
            "1875/1875 [==============================] - 11s 6ms/step - loss: 1.0171 - accuracy: 0.7674 - val_loss: 1.0533 - val_accuracy: 0.7498\n",
            "Epoch 5/10\n",
            "1875/1875 [==============================] - 11s 6ms/step - loss: 1.0009 - accuracy: 0.7699 - val_loss: 1.0411 - val_accuracy: 0.7551\n",
            "Epoch 6/10\n",
            "1875/1875 [==============================] - 10s 5ms/step - loss: 0.9924 - accuracy: 0.7711 - val_loss: 1.0301 - val_accuracy: 0.7575\n",
            "Epoch 7/10\n",
            "1875/1875 [==============================] - 11s 6ms/step - loss: 0.9840 - accuracy: 0.7717 - val_loss: 1.0532 - val_accuracy: 0.7519\n",
            "Epoch 8/10\n",
            "1875/1875 [==============================] - 12s 6ms/step - loss: 0.9779 - accuracy: 0.7742 - val_loss: 1.0380 - val_accuracy: 0.7537\n",
            "Epoch 9/10\n",
            "1875/1875 [==============================] - 11s 6ms/step - loss: 0.9732 - accuracy: 0.7732 - val_loss: 1.0340 - val_accuracy: 0.7539\n",
            "Epoch 10/10\n",
            "1875/1875 [==============================] - 11s 6ms/step - loss: 0.9701 - accuracy: 0.7744 - val_loss: 1.0314 - val_accuracy: 0.7532\n"
          ]
        }
      ]
    },
    {
      "cell_type": "code",
      "source": [
        "import pandas as pd\n",
        "\n",
        "pd.DataFrame(history.history)[['accuracy','val_accuracy']].plot(figsize=(10, 7))\n",
        "plt.grid(True)\n",
        "plt.xlabel(\"epochs\")\n",
        "plt.show()"
      ],
      "metadata": {
        "colab": {
          "base_uri": "https://localhost:8080/",
          "height": 618
        },
        "id": "-cCAVb2F-7i7",
        "outputId": "5682af67-0af5-4f75-8909-f2a0573e596d"
      },
      "execution_count": 14,
      "outputs": [
        {
          "output_type": "display_data",
          "data": {
            "text/plain": [
              "<Figure size 1000x700 with 1 Axes>"
            ],
            "image/png": "[encoded data removed]"
          },
          "metadata": {}
        }
      ]
    },
    {
      "cell_type": "code",
      "source": [],
      "metadata": {
        "id": "iZyJPIpF_t1S"
      },
      "execution_count": null,
      "outputs": []
    }
  ]
}