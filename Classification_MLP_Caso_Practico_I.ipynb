{
  "nbformat": 4,
  "nbformat_minor": 0,
  "metadata": {
    "colab": {
      "provenance": [],
      "toc_visible": true,
      "authorship_tag": "ABX9TyMChrUc9AIUBcljd6CXWdSX",
      "include_colab_link": true
    },
    "kernelspec": {
      "name": "python3",
      "display_name": "Python 3"
    },
    "language_info": {
      "name": "python"
    }
  },
  "cells": [
    {
      "cell_type": "markdown",
      "metadata": {
        "id": "view-in-github",
        "colab_type": "text"
      },
      "source": [
        "<a href=\"https://colab.research.google.com/github/LuisPerdomo123/Inteligencia-Computacional/blob/main/Classification_MLP_Caso_Practico_I.ipynb\" target=\"_parent\"><img src=\"https://colab.research.google.com/assets/colab-badge.svg\" alt=\"Open In Colab\"/></a>"
      ]
    },
    {
      "cell_type": "markdown",
      "source": [
        "# Introducción a Keras: Implementando una RNA para clasificación\n",
        "\n",
        "## Pasos en la implementación de una Red Neuronal Artificial en Keras\n",
        "\n",
        "\n",
        "\n",
        "1.   Define tu conunto de datos de entrenamiento: vectores de entrada y de salida\n",
        "2.   Define la arquitectura de la Red Neuronal Artificial\n",
        "3. Configura el proceso de apredizaje mediante la selección de una función de error, una función de optimización y diferentes metricas para monitorizar el proceso.\n",
        "4. Entrena la RNA con tu conjunto de datos de entrenamiento mediante el uso de método **fit()**\n",
        "\n"
      ],
      "metadata": {
        "id": "QHeH9Ny_zljT"
      }
    },
    {
      "cell_type": "markdown",
      "source": [
        "## 0. Imports\n",
        "Lo primero que debe hacerse es importar las librerías específicas necesarias para la implementación de la Red Neuronal Artificial. En las nuevas verisones de TensorFlow y Keras, la recomendación es utilizar a través del framework TensorFlow."
      ],
      "metadata": {
        "id": "Pq3tNVfl0f12"
      }
    },
    {
      "cell_type": "code",
      "execution_count": 10,
      "metadata": {
        "colab": {
          "base_uri": "https://localhost:8080/",
          "height": 35
        },
        "id": "82_dvX3bzftg",
        "outputId": "baa6f5bb-57ea-43d6-f139-4704a182b1bf"
      },
      "outputs": [
        {
          "output_type": "execute_result",
          "data": {
            "text/plain": [
              "'2.15.0'"
            ],
            "application/vnd.google.colaboratory.intrinsic+json": {
              "type": "string"
            }
          },
          "metadata": {},
          "execution_count": 10
        }
      ],
      "source": [
        "import tensorflow as tf\n",
        "tf.__version__"
      ]
    },
    {
      "cell_type": "code",
      "source": [
        "from tensorflow import keras"
      ],
      "metadata": {
        "id": "WU__rkGu08Lo"
      },
      "execution_count": 13,
      "outputs": []
    },
    {
      "cell_type": "markdown",
      "source": [
        "## 1. Definición del conjunto de datos de entrenamiento"
      ],
      "metadata": {
        "id": "OaD2FnkW3Roy"
      }
    },
    {
      "cell_type": "markdown",
      "source": [
        "### 1.1. Importando el conjunto de datos\n",
        "Keras nos proporciona algunos conjuntos de datos de prueba que podemos utilizar para la realización de pruebas."
      ],
      "metadata": {
        "id": "1TOSsehR3cvI"
      }
    },
    {
      "cell_type": "code",
      "source": [
        "from tensorflow.keras import datasets"
      ],
      "metadata": {
        "id": "dChuvh0F2Igj"
      },
      "execution_count": 15,
      "outputs": []
    },
    {
      "cell_type": "markdown",
      "source": [
        "Podemos utilizar tab sobre \"datasets\" para visualizar los conjuntos de datos disponibles. En este caso vaos a imoportar el conjunto de datos MNIST."
      ],
      "metadata": {
        "id": "VOISXRhM3wYo"
      }
    },
    {
      "cell_type": "code",
      "source": [
        "mnist = datasets.mnist"
      ],
      "metadata": {
        "id": "JI2OMlyX3tyo"
      },
      "execution_count": 16,
      "outputs": []
    },
    {
      "cell_type": "code",
      "source": [],
      "metadata": {
        "id": "f25-I3403-z5"
      },
      "execution_count": null,
      "outputs": []
    }
  ]
}