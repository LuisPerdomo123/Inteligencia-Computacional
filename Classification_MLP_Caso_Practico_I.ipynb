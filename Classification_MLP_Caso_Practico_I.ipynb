{
  "nbformat": 4,
  "nbformat_minor": 0,
  "metadata": {
    "colab": {
      "provenance": [],
      "authorship_tag": "ABX9TyOk2ce96RO03XiXPw4Of0F5",
      "include_colab_link": true
    },
    "kernelspec": {
      "name": "python3",
      "display_name": "Python 3"
    },
    "language_info": {
      "name": "python"
    }
  },
  "cells": [
    {
      "cell_type": "markdown",
      "metadata": {
        "id": "view-in-github",
        "colab_type": "text"
      },
      "source": [
        "<a href=\"https://colab.research.google.com/github/LuisPerdomo123/Inteligencia-Computacional/blob/main/Classification_MLP_Caso_Practico_I.ipynb\" target=\"_parent\"><img src=\"https://colab.research.google.com/assets/colab-badge.svg\" alt=\"Open In Colab\"/></a>"
      ]
    },
    {
      "cell_type": "markdown",
      "source": [
        "# Introducción a Keras: Implementando una RNA para clasificación\n",
        "\n",
        "## Pasos en la implementación de una Red Neuronal Artificial en Keras\n",
        "\n",
        "\n",
        "\n",
        "1.   Define tu conunto de datos de entrenamiento: vectores de entrada y de salida\n",
        "2.   Define la arquitectura de la Red Neuronal Artificial\n",
        "3. Configura el proceso de apredizaje mediante la selección de una función de error, una función de optimización y diferentes metricas para monitorizar el proceso.\n",
        "4. Entrena la RNA con tu conjunto de datos de entrenamiento mediante el uso de método **fit()**\n",
        "\n"
      ],
      "metadata": {
        "id": "QHeH9Ny_zljT"
      }
    },
    {
      "cell_type": "markdown",
      "source": [
        "## 0. Imports\n",
        "Lo primero que debe hacerse es importar las librerías específicas necesarias para la implementación de la Red Neuronal Artificial. En las nuevas verisones de TensorFlow y Keras, la recomendación es utilizar a través del framework TensorFlow."
      ],
      "metadata": {
        "id": "Pq3tNVfl0f12"
      }
    },
    {
      "cell_type": "code",
      "execution_count": 2,
      "metadata": {
        "colab": {
          "base_uri": "https://localhost:8080/",
          "height": 35
        },
        "id": "82_dvX3bzftg",
        "outputId": "635ea06c-e94c-46e5-c916-6f4e855e989b"
      },
      "outputs": [
        {
          "output_type": "execute_result",
          "data": {
            "text/plain": [
              "'2.15.0'"
            ],
            "application/vnd.google.colaboratory.intrinsic+json": {
              "type": "string"
            }
          },
          "metadata": {},
          "execution_count": 2
        }
      ],
      "source": [
        "import tensorflow as tf\n",
        "tf.__version__"
      ]
    },
    {
      "cell_type": "code",
      "source": [],
      "metadata": {
        "id": "WU__rkGu08Lo"
      },
      "execution_count": null,
      "outputs": []
    }
  ]
}