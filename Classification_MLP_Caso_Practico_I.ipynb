{
  "nbformat": 4,
  "nbformat_minor": 0,
  "metadata": {
    "colab": {
      "provenance": [],
      "toc_visible": true,
      "authorship_tag": "ABX9TyPqgcXyL8kuMA/lzQUbDtwo",
      "include_colab_link": true
    },
    "kernelspec": {
      "name": "python3",
      "display_name": "Python 3"
    },
    "language_info": {
      "name": "python"
    }
  },
  "cells": [
    {
      "cell_type": "markdown",
      "metadata": {
        "id": "view-in-github",
        "colab_type": "text"
      },
      "source": [
        "<a href=\"https://colab.research.google.com/github/LuisPerdomo123/Inteligencia-Computacional/blob/main/Classification_MLP_Caso_Practico_I.ipynb\" target=\"_parent\"><img src=\"https://colab.research.google.com/assets/colab-badge.svg\" alt=\"Open In Colab\"/></a>"
      ]
    },
    {
      "cell_type": "markdown",
      "source": [
        "# Introducción a Keras: Implementando una RNA para clasificación\n",
        "\n",
        "## Pasos en la implementación de una Red Neuronal Artificial en Keras\n",
        "\n",
        "\n",
        "\n",
        "1.   Define tu conunto de datos de entrenamiento: vectores de entrada y de salida\n",
        "2.   Define la arquitectura de la Red Neuronal Artificial\n",
        "3. Configura el proceso de apredizaje mediante la selección de una función de error, una función de optimización y diferentes metricas para monitorizar el proceso.\n",
        "4. Entrena la RNA con tu conjunto de datos de entrenamiento mediante el uso de método **fit()**\n",
        "\n"
      ],
      "metadata": {
        "id": "QHeH9Ny_zljT"
      }
    },
    {
      "cell_type": "markdown",
      "source": [
        "## 0. Imports\n",
        "Lo primero que debe hacerse es importar las librerías específicas necesarias para la implementación de la Red Neuronal Artificial. En las nuevas verisones de TensorFlow y Keras, la recomendación es utilizar a través del framework TensorFlow."
      ],
      "metadata": {
        "id": "Pq3tNVfl0f12"
      }
    },
    {
      "cell_type": "code",
      "execution_count": 53,
      "metadata": {
        "colab": {
          "base_uri": "https://localhost:8080/",
          "height": 35
        },
        "id": "82_dvX3bzftg",
        "outputId": "5b90c62c-b0b2-4eb9-85c0-2e4789a39015"
      },
      "outputs": [
        {
          "output_type": "execute_result",
          "data": {
            "text/plain": [
              "'2.15.0'"
            ],
            "application/vnd.google.colaboratory.intrinsic+json": {
              "type": "string"
            }
          },
          "metadata": {},
          "execution_count": 53
        }
      ],
      "source": [
        "import tensorflow as tf\n",
        "tf.__version__"
      ]
    },
    {
      "cell_type": "code",
      "source": [
        "from tensorflow import keras"
      ],
      "metadata": {
        "id": "WU__rkGu08Lo"
      },
      "execution_count": 54,
      "outputs": []
    },
    {
      "cell_type": "markdown",
      "source": [
        "## 1. Definición del conjunto de datos de entrenamiento"
      ],
      "metadata": {
        "id": "OaD2FnkW3Roy"
      }
    },
    {
      "cell_type": "markdown",
      "source": [
        "### 1.1. Importando el conjunto de datos\n",
        "Keras nos proporciona algunos conjuntos de datos de prueba que podemos utilizar para la realización de pruebas."
      ],
      "metadata": {
        "id": "1TOSsehR3cvI"
      }
    },
    {
      "cell_type": "code",
      "source": [
        "from tensorflow.keras import datasets"
      ],
      "metadata": {
        "id": "dChuvh0F2Igj"
      },
      "execution_count": 55,
      "outputs": []
    },
    {
      "cell_type": "markdown",
      "source": [
        "Podemos utilizar tab sobre \"datasets\" para visualizar los conjuntos de datos disponibles. En este caso vaos a imoportar el conjunto de datos MNIST."
      ],
      "metadata": {
        "id": "VOISXRhM3wYo"
      }
    },
    {
      "cell_type": "code",
      "source": [
        "mnist = datasets.mnist"
      ],
      "metadata": {
        "id": "JI2OMlyX3tyo"
      },
      "execution_count": 56,
      "outputs": []
    },
    {
      "cell_type": "markdown",
      "source": [
        "Podemos utilizar hsift + tab sobre \"load_data()\" para visualizar el input y putput del método."
      ],
      "metadata": {
        "id": "Zv9JCONXHJ35"
      }
    },
    {
      "cell_type": "code",
      "source": [
        "(X_train, y_train), (X_test, y_test) = mnist.load_data()"
      ],
      "metadata": {
        "id": "f25-I3403-z5"
      },
      "execution_count": 57,
      "outputs": []
    },
    {
      "cell_type": "markdown",
      "source": [
        "El conjunto de datos importado esta formado por un total de 70000 imágenes divididas en dos conjuntos de datos, el conjunto de datos de entrenamiento A_train (60000 imágenes) y el conjunto de datos de pruebas (10000 imágenes)."
      ],
      "metadata": {
        "id": "w4LG1ji2Hm2v"
      }
    },
    {
      "cell_type": "code",
      "source": [
        "X_train.shape"
      ],
      "metadata": {
        "colab": {
          "base_uri": "https://localhost:8080/"
        },
        "id": "0yEnU6unIZEb",
        "outputId": "807bb34b-a689-4138-858a-2e3ea741d2ee"
      },
      "execution_count": 58,
      "outputs": [
        {
          "output_type": "execute_result",
          "data": {
            "text/plain": [
              "(60000, 28, 28)"
            ]
          },
          "metadata": {},
          "execution_count": 58
        }
      ]
    },
    {
      "cell_type": "code",
      "source": [
        "X_test.shape"
      ],
      "metadata": {
        "colab": {
          "base_uri": "https://localhost:8080/"
        },
        "id": "hTJjyCtvIbWt",
        "outputId": "85ec45e9-d083-49f8-a822-ac089900b46e"
      },
      "execution_count": 59,
      "outputs": [
        {
          "output_type": "execute_result",
          "data": {
            "text/plain": [
              "(10000, 28, 28)"
            ]
          },
          "metadata": {},
          "execution_count": 59
        }
      ]
    },
    {
      "cell_type": "markdown",
      "source": [
        "Las etiquetas se corresponden con el valor numélrico que representa la imágen."
      ],
      "metadata": {
        "id": "jASqZrGrIe82"
      }
    },
    {
      "cell_type": "code",
      "source": [
        "y_train.shape"
      ],
      "metadata": {
        "colab": {
          "base_uri": "https://localhost:8080/"
        },
        "id": "LInuE8E9IdyT",
        "outputId": "760522b9-208e-4dcd-f9a8-e9464a5321ec"
      },
      "execution_count": 60,
      "outputs": [
        {
          "output_type": "execute_result",
          "data": {
            "text/plain": [
              "(60000,)"
            ]
          },
          "metadata": {},
          "execution_count": 60
        }
      ]
    },
    {
      "cell_type": "code",
      "source": [
        "y_train[0]"
      ],
      "metadata": {
        "colab": {
          "base_uri": "https://localhost:8080/"
        },
        "id": "7sqONW91InSt",
        "outputId": "34194544-ad4b-42c5-c6d8-2f5216a5b91c"
      },
      "execution_count": 61,
      "outputs": [
        {
          "output_type": "execute_result",
          "data": {
            "text/plain": [
              "5"
            ]
          },
          "metadata": {},
          "execution_count": 61
        }
      ]
    },
    {
      "cell_type": "markdown",
      "source": [
        "### 1.2. Visualizando el conjunto de datos"
      ],
      "metadata": {
        "id": "C1EIhEQsItea"
      }
    },
    {
      "cell_type": "code",
      "source": [
        "import numpy as np\n",
        "import matplotlib.pyplot as plt"
      ],
      "metadata": {
        "id": "0zV7_UQ9IqjT"
      },
      "execution_count": 62,
      "outputs": []
    },
    {
      "cell_type": "code",
      "source": [
        "# Visualización de los primeros 8 ejemplos de nuestro conunto de datos de entrenamiento\n",
        "plt.figure(figsize=(20, 4))\n",
        "\n",
        "for index, digit in zip(range(1, 9), X_train[:8]):\n",
        "  plt.subplot(1, 8, index)\n",
        "  plt.imshow(np.reshape(digit, (28,28)), cmap=plt.cm.gray)\n",
        "  plt.title('Ejemplo: '+str(index))\n",
        "plt.show()"
      ],
      "metadata": {
        "colab": {
          "base_uri": "https://localhost:8080/",
          "height": 232
        },
        "id": "yboi4oyTJLmy",
        "outputId": "fb4199b2-9a1e-4812-e8fa-0cd09c0866ae"
      },
      "execution_count": 63,
      "outputs": [
        {
          "output_type": "display_data",
          "data": {
            "text/plain": [
              "<Figure size 2000x400 with 8 Axes>"
            ],
            "image/png": "[encoded data removed]"
          },
          "metadata": {}
        }
      ]
    },
    {
      "cell_type": "markdown",
      "source": [
        "### 1.3. División del conjunto de datos\n",
        "\n",
        "Para la realización de una serie de pruebas adicionales vamos a dividir el conjunto de datos de prueba en dos subconjuntos, el conjunto de validación (X_val) y el conjunto de pruebas (X_test)"
      ],
      "metadata": {
        "id": "FRmxGbsVKTsG"
      }
    },
    {
      "cell_type": "code",
      "source": [
        "from sklearn.model_selection import train_test_split\n",
        "\n",
        "X_test, X_val, y_test, y_val = train_test_split(X_test, y_test, test_size=0.5)"
      ],
      "metadata": {
        "id": "gi4eB4wVJ2au"
      },
      "execution_count": 64,
      "outputs": []
    },
    {
      "cell_type": "code",
      "source": [
        "X_test.shape"
      ],
      "metadata": {
        "colab": {
          "base_uri": "https://localhost:8080/"
        },
        "id": "XQnq0lxpK_WN",
        "outputId": "9ff001ba-bba2-4dee-9605-475191aa0e27"
      },
      "execution_count": 65,
      "outputs": [
        {
          "output_type": "execute_result",
          "data": {
            "text/plain": [
              "(5000, 28, 28)"
            ]
          },
          "metadata": {},
          "execution_count": 65
        }
      ]
    },
    {
      "cell_type": "code",
      "source": [
        "X_val.shape"
      ],
      "metadata": {
        "colab": {
          "base_uri": "https://localhost:8080/"
        },
        "id": "OwzonHcPLA8B",
        "outputId": "57fcfccc-50de-4f40-fcc0-b27c35930ded"
      },
      "execution_count": 66,
      "outputs": [
        {
          "output_type": "execute_result",
          "data": {
            "text/plain": [
              "(5000, 28, 28)"
            ]
          },
          "metadata": {},
          "execution_count": 66
        }
      ]
    },
    {
      "cell_type": "markdown",
      "source": [
        "## 2. Definición de la arquitectura de la Red Neuronal Artificial"
      ],
      "metadata": {
        "id": "6DS1bZTdLEwd"
      }
    },
    {
      "cell_type": "markdown",
      "source": [
        "Tal y como puede observar en la definición de la Red Neuronal Artifivial que se muestra a continuación, el bloque básico que utiliza Keras es un **layer** o capa. La red Neuronal estará formada por diferentes capas que a su vez contendrán un conjunto de neuronas que se corresponden con el primer parámetro que se proporciona."
      ],
      "metadata": {
        "id": "sPq-mEOsMKh3"
      }
    },
    {
      "cell_type": "code",
      "source": [
        "from tensorflow.keras import models\n",
        "from tensorflow.keras import layers"
      ],
      "metadata": {
        "id": "AZU4jDLLLCYS"
      },
      "execution_count": 67,
      "outputs": []
    },
    {
      "cell_type": "markdown",
      "source": [
        "Definimos una Red Neuronal Artificial formada por 3 capas:\n",
        "\n",
        "*   La primera capa estará formada por 300 neuronas\n",
        "*   La segunda capa estará formada por 100 neuronas\n",
        "*   La última capa estará formada por 10 neuronas\n",
        "\n",
        "\n",
        "\n"
      ],
      "metadata": {
        "id": "Dz-KTu6zMqgD"
      }
    },
    {
      "cell_type": "code",
      "source": [
        "network = models.Sequential()\n",
        "\n",
        "network.add(layers.Dense(300, activation='relu', input_shape=(28*28,)))\n",
        "network.add(layers.Dense(100, activation='relu'))\n",
        "network.add(layers.Dense(10, activation='softmax'))"
      ],
      "metadata": {
        "id": "yQIc1MoKMoTL"
      },
      "execution_count": 68,
      "outputs": []
    },
    {
      "cell_type": "markdown",
      "source": [
        "Una vez hacemos la arquitectura de la Red Neuronal Artificial podemos visualizarla junto con el número total de parámetros utilizando el método summary().\n",
        "\n",
        "Se tiene imágenes de 28*28=784 características de entrada a cada una de las neuronas de la primera hidden layer, sumado a una byas term por cada neurona. Por tanto, sería 28*28*300+300=235500\n",
        "\n",
        "La segunda hidden layer compuesta por 100 neuronas tiene la entrada de 300 output de la primera hidden layer. Se suma un byas term como entrada a cada una de las neuronas. Por tanto, seria, 300*100+100=30100\n",
        "\n",
        "La output layer conformado por 10 neuronas, tiene como entrada 100 neuronas de las segunda hidden layer. Sumado a un byas term. Por tanto sería, 10*100+10=1010"
      ],
      "metadata": {
        "id": "Bdui37eyNyC2"
      }
    },
    {
      "cell_type": "code",
      "source": [
        "network.summary()"
      ],
      "metadata": {
        "colab": {
          "base_uri": "https://localhost:8080/"
        },
        "id": "lC9kXwskN_o2",
        "outputId": "072ed915-6ad7-46de-efec-adce4ca0daf0"
      },
      "execution_count": 69,
      "outputs": [
        {
          "output_type": "stream",
          "name": "stdout",
          "text": [
            "Model: \"sequential_2\"\n",
            "_________________________________________________________________\n",
            " Layer (type)                Output Shape              Param #   \n",
            "=================================================================\n",
            " dense_4 (Dense)             (None, 300)               235500    \n",
            "                                                                 \n",
            " dense_5 (Dense)             (None, 100)               30100     \n",
            "                                                                 \n",
            " dense_6 (Dense)             (None, 10)                1010      \n",
            "                                                                 \n",
            "=================================================================\n",
            "Total params: 266610 (1.02 MB)\n",
            "Trainable params: 266610 (1.02 MB)\n",
            "Non-trainable params: 0 (0.00 Byte)\n",
            "_________________________________________________________________\n"
          ]
        }
      ]
    },
    {
      "cell_type": "markdown",
      "source": [
        "### 2.2. Acceso a los elementos definifos de la RNA"
      ],
      "metadata": {
        "id": "blg4oQ9nQRLw"
      }
    },
    {
      "cell_type": "code",
      "source": [
        "network.layers"
      ],
      "metadata": {
        "colab": {
          "base_uri": "https://localhost:8080/"
        },
        "id": "pYjt2K1WQZk2",
        "outputId": "3fa4f60f-118e-44e6-be72-740b296d5f4f"
      },
      "execution_count": 70,
      "outputs": [
        {
          "output_type": "execute_result",
          "data": {
            "text/plain": [
              "[<keras.src.layers.core.dense.Dense at 0x7fe296879120>,\n",
              " <keras.src.layers.core.dense.Dense at 0x7fe29691b2b0>,\n",
              " <keras.src.layers.core.dense.Dense at 0x7fe28f61f670>]"
            ]
          },
          "metadata": {},
          "execution_count": 70
        }
      ]
    },
    {
      "cell_type": "markdown",
      "source": [
        "En este caso vamos a acceder a los parámetros del modelo que componen las neuronas de la primera hidden layer."
      ],
      "metadata": {
        "id": "-DzoPEyhQc7b"
      }
    },
    {
      "cell_type": "code",
      "source": [
        "hidden1 = network.layers[1]"
      ],
      "metadata": {
        "id": "oKhu3RSlQbro"
      },
      "execution_count": 71,
      "outputs": []
    },
    {
      "cell_type": "code",
      "source": [
        "weights, biases = hidden1.get_weights()"
      ],
      "metadata": {
        "id": "fZkQlTLCQpeh"
      },
      "execution_count": 72,
      "outputs": []
    },
    {
      "cell_type": "markdown",
      "source": [
        "Como puede observase en las siguientes celdas, Keras automáticamente incializa el valor de los parámetros de manera aleatoria y los bías term con el valor 0"
      ],
      "metadata": {
        "id": "fiiYwqW1Q481"
      }
    },
    {
      "cell_type": "code",
      "source": [
        "weights"
      ],
      "metadata": {
        "colab": {
          "base_uri": "https://localhost:8080/"
        },
        "id": "nD-x40nwQ1BK",
        "outputId": "e6f28173-0c6f-43b1-ce12-9b19a68d31b2"
      },
      "execution_count": 73,
      "outputs": [
        {
          "output_type": "execute_result",
          "data": {
            "text/plain": [
              "array([[ 0.08522499, -0.00972115,  0.08632972, ..., -0.03447889,\n",
              "         0.12168225,  0.11105081],\n",
              "       [ 0.04327708, -0.04798365, -0.03384536, ...,  0.11717211,\n",
              "        -0.10081775, -0.02830141],\n",
              "       [-0.11928095, -0.07060075,  0.06226129, ..., -0.05113482,\n",
              "        -0.01945577, -0.11122739],\n",
              "       ...,\n",
              "       [ 0.08282953,  0.03141964, -0.10020081, ..., -0.06187562,\n",
              "         0.0500579 , -0.01517394],\n",
              "       [ 0.05626553, -0.09617834, -0.01759218, ..., -0.02137773,\n",
              "         0.09085286, -0.02508092],\n",
              "       [ 0.01687277, -0.00710207,  0.06034704, ...,  0.06667002,\n",
              "         0.0228227 ,  0.01809446]], dtype=float32)"
            ]
          },
          "metadata": {},
          "execution_count": 73
        }
      ]
    },
    {
      "cell_type": "code",
      "source": [
        "biases"
      ],
      "metadata": {
        "colab": {
          "base_uri": "https://localhost:8080/"
        },
        "id": "kYk52w1ORKJj",
        "outputId": "2bf37007-0c99-4a74-fabc-3b276e297144"
      },
      "execution_count": 74,
      "outputs": [
        {
          "output_type": "execute_result",
          "data": {
            "text/plain": [
              "array([0., 0., 0., 0., 0., 0., 0., 0., 0., 0., 0., 0., 0., 0., 0., 0., 0.,\n",
              "       0., 0., 0., 0., 0., 0., 0., 0., 0., 0., 0., 0., 0., 0., 0., 0., 0.,\n",
              "       0., 0., 0., 0., 0., 0., 0., 0., 0., 0., 0., 0., 0., 0., 0., 0., 0.,\n",
              "       0., 0., 0., 0., 0., 0., 0., 0., 0., 0., 0., 0., 0., 0., 0., 0., 0.,\n",
              "       0., 0., 0., 0., 0., 0., 0., 0., 0., 0., 0., 0., 0., 0., 0., 0., 0.,\n",
              "       0., 0., 0., 0., 0., 0., 0., 0., 0., 0., 0., 0., 0., 0., 0.],\n",
              "      dtype=float32)"
            ]
          },
          "metadata": {},
          "execution_count": 74
        }
      ]
    },
    {
      "cell_type": "markdown",
      "source": [
        "## 3. Configuración de la Red Neuronal Artificial\n",
        "Para que la Red Neuronal Artificial funvione adecuadamente va a requerir tres componentes adicionales que se seleccionan durante el proceso de compilación:\n",
        "\n",
        "\n",
        "\n",
        "1.   **La función de error:** Se utiliza en el proceso de optimización de los parámetros del modelo para medir el error producido al modificar el valor de los parámetros del modelo en una dirección determinada.\n",
        "2.   **La función de optimización:** Se corresponde con la función encargada de actualizar el valor de los parámetros del modelo en una dirección determinada en función del resultado de la dunción de error.\n",
        "3. **Metricas para monitorizar el proceso de entrenamiento:** Es interesante utilizar un conjunto de métricas durante el proceso de entrenamiento de la Red Neuronal Artificial de manera que podamos saber en cada iteración si el valor de los parámetros del modelo es adecuado o se están produciendo problemas como *overfitting*.\n",
        "\n"
      ],
      "metadata": {
        "id": "VKABoxJiRl2_"
      }
    },
    {
      "cell_type": "code",
      "source": [
        "network.compile(loss='categorical_crossentropy',\n",
        "                optimizer='sgd',\n",
        "                metrics=['accuracy', 'Precision'])"
      ],
      "metadata": {
        "id": "D186ADK_RK6C"
      },
      "execution_count": 75,
      "outputs": []
    },
    {
      "cell_type": "markdown",
      "source": [
        "## 4. Prepararación del conjunto de datos\n",
        "Debido a la forma en la que hemos definido la arquitectura de nuestra Red Neuronal Artificial y los parámetrso de compilación, vamos a requerir realizar algunas transformaciones sobre nuestro conjunto de datos."
      ],
      "metadata": {
        "id": "X_yX-70bWQLs"
      }
    },
    {
      "cell_type": "markdown",
      "source": [
        "### 4.1. Prepararación de las características de entrada"
      ],
      "metadata": {
        "id": "IYZWHQsbX3M8"
      }
    },
    {
      "cell_type": "code",
      "source": [
        "X_train_prep = X_train.reshape((60000, 28*28))\n",
        "X_train_prep = X_train_prep.astype('float32')/255\n",
        "\n",
        "X_test_prep = X_test.reshape((5000, 28*28))\n",
        "X_test_prep = X_test_prep.astype('float32')/255\n",
        "\n",
        "X_val_prep = X_val.reshape((5000, 28*28))\n",
        "X_val_prep = X_val_prep.astype('float32')/255"
      ],
      "metadata": {
        "id": "9s-Zcfp1WWbK"
      },
      "execution_count": 76,
      "outputs": []
    },
    {
      "cell_type": "code",
      "source": [
        "X_train[0].shape"
      ],
      "metadata": {
        "colab": {
          "base_uri": "https://localhost:8080/"
        },
        "id": "wRH9_NeaXAsB",
        "outputId": "78757eff-00ce-40e7-899f-711e13fb31b9"
      },
      "execution_count": 77,
      "outputs": [
        {
          "output_type": "execute_result",
          "data": {
            "text/plain": [
              "(28, 28)"
            ]
          },
          "metadata": {},
          "execution_count": 77
        }
      ]
    },
    {
      "cell_type": "code",
      "source": [
        "X_train_prep[0].shape"
      ],
      "metadata": {
        "colab": {
          "base_uri": "https://localhost:8080/"
        },
        "id": "6ZfnFJtVXSRv",
        "outputId": "36b75470-cf0b-4414-ffa4-354ac998a6e5"
      },
      "execution_count": 78,
      "outputs": [
        {
          "output_type": "execute_result",
          "data": {
            "text/plain": [
              "(784,)"
            ]
          },
          "metadata": {},
          "execution_count": 78
        }
      ]
    },
    {
      "cell_type": "markdown",
      "source": [
        "### 4.2. Preparación de las características de salida (etiquetas)"
      ],
      "metadata": {
        "id": "3KeoFrF4YAFl"
      }
    },
    {
      "cell_type": "code",
      "source": [
        "from tensorflow.keras.utils import to_categorical\n",
        "\n",
        "y_train_prep = to_categorical(y_train)\n",
        "y_test_prep = to_categorical(y_test)\n",
        "y_val_prep = to_categorical(y_val)"
      ],
      "metadata": {
        "id": "fq9toR0pXV7v"
      },
      "execution_count": 79,
      "outputs": []
    },
    {
      "cell_type": "code",
      "source": [
        "y_train"
      ],
      "metadata": {
        "colab": {
          "base_uri": "https://localhost:8080/"
        },
        "id": "h9xdFQkEZQ6b",
        "outputId": "d5716187-fd6d-47cc-f77f-bb9fa4d37feb"
      },
      "execution_count": 80,
      "outputs": [
        {
          "output_type": "execute_result",
          "data": {
            "text/plain": [
              "array([5, 0, 4, ..., 5, 6, 8], dtype=uint8)"
            ]
          },
          "metadata": {},
          "execution_count": 80
        }
      ]
    },
    {
      "cell_type": "code",
      "source": [
        "y_train"
      ],
      "metadata": {
        "colab": {
          "base_uri": "https://localhost:8080/"
        },
        "id": "Sf3ydok8Zgsp",
        "outputId": "1aa686b7-07f1-4880-a3e6-c9db457cc897"
      },
      "execution_count": 81,
      "outputs": [
        {
          "output_type": "execute_result",
          "data": {
            "text/plain": [
              "array([5, 0, 4, ..., 5, 6, 8], dtype=uint8)"
            ]
          },
          "metadata": {},
          "execution_count": 81
        }
      ]
    },
    {
      "cell_type": "code",
      "source": [
        "y_train_prep"
      ],
      "metadata": {
        "colab": {
          "base_uri": "https://localhost:8080/"
        },
        "id": "iYp5EL8kZiG6",
        "outputId": "b342e321-2fab-4a96-e692-e7d16e91de71"
      },
      "execution_count": 82,
      "outputs": [
        {
          "output_type": "execute_result",
          "data": {
            "text/plain": [
              "array([[0., 0., 0., ..., 0., 0., 0.],\n",
              "       [1., 0., 0., ..., 0., 0., 0.],\n",
              "       [0., 0., 0., ..., 0., 0., 0.],\n",
              "       ...,\n",
              "       [0., 0., 0., ..., 0., 0., 0.],\n",
              "       [0., 0., 0., ..., 0., 0., 0.],\n",
              "       [0., 0., 0., ..., 0., 1., 0.]], dtype=float32)"
            ]
          },
          "metadata": {},
          "execution_count": 82
        }
      ]
    },
    {
      "cell_type": "markdown",
      "source": [
        "## 5. Entrenamiento de la Red Neuronal Artificial\n",
        "En este punto ya estamos listos para entrenar nuestra Red Neuronal Artificial incocando el método fit(). Una de las capacidades que nos proporciona Kera es la de integrar el proceso de validación en el propio proceso de entrenaiento, para ello, junto con el subconjunto de daros de entrenamiento, debemos proporcionarle a este método el subconjunto de validación."
      ],
      "metadata": {
        "id": "gwMKNObbaCh5"
      }
    },
    {
      "cell_type": "code",
      "source": [
        "history = network.fit(X_train_prep, y_train_prep, epochs=30,\n",
        "                      validation_data=(X_val_prep, y_val_prep))"
      ],
      "metadata": {
        "colab": {
          "base_uri": "https://localhost:8080/"
        },
        "id": "QgD6-m3gZjfj",
        "outputId": "b2af70f5-6bf2-4d91-d25c-fe9f99cf2377"
      },
      "execution_count": 85,
      "outputs": [
        {
          "output_type": "stream",
          "name": "stdout",
          "text": [
            "Epoch 1/30\n",
            "1875/1875 [==============================] - 9s 4ms/step - loss: 0.5876 - accuracy: 0.8447 - precision: 0.9399 - val_loss: 0.3102 - val_accuracy: 0.9104 - val_precision: 0.9400\n",
            "Epoch 2/30\n",
            "1875/1875 [==============================] - 11s 6ms/step - loss: 0.2783 - accuracy: 0.9208 - precision: 0.9441 - val_loss: 0.2493 - val_accuracy: 0.9286 - val_precision: 0.9473\n",
            "Epoch 3/30\n",
            "1875/1875 [==============================] - 11s 6ms/step - loss: 0.2247 - accuracy: 0.9355 - precision: 0.9542 - val_loss: 0.2167 - val_accuracy: 0.9372 - val_precision: 0.9492\n",
            "Epoch 4/30\n",
            "1875/1875 [==============================] - 14s 7ms/step - loss: 0.1911 - accuracy: 0.9454 - precision: 0.9595 - val_loss: 0.1855 - val_accuracy: 0.9488 - val_precision: 0.9573\n",
            "Epoch 5/30\n",
            "1875/1875 [==============================] - 10s 5ms/step - loss: 0.1663 - accuracy: 0.9524 - precision: 0.9649 - val_loss: 0.1675 - val_accuracy: 0.9510 - val_precision: 0.9614\n",
            "Epoch 6/30\n",
            "1875/1875 [==============================] - 12s 6ms/step - loss: 0.1465 - accuracy: 0.9582 - precision: 0.9682 - val_loss: 0.1517 - val_accuracy: 0.9560 - val_precision: 0.9638\n",
            "Epoch 7/30\n",
            "1875/1875 [==============================] - 14s 7ms/step - loss: 0.1307 - accuracy: 0.9625 - precision: 0.9714 - val_loss: 0.1399 - val_accuracy: 0.9576 - val_precision: 0.9659\n",
            "Epoch 8/30\n",
            "1875/1875 [==============================] - 11s 6ms/step - loss: 0.1177 - accuracy: 0.9668 - precision: 0.9746 - val_loss: 0.1313 - val_accuracy: 0.9626 - val_precision: 0.9698\n",
            "Epoch 9/30\n",
            "1875/1875 [==============================] - 10s 5ms/step - loss: 0.1070 - accuracy: 0.9696 - precision: 0.9762 - val_loss: 0.1214 - val_accuracy: 0.9644 - val_precision: 0.9716\n",
            "Epoch 10/30\n",
            "1875/1875 [==============================] - 11s 6ms/step - loss: 0.0977 - accuracy: 0.9726 - precision: 0.9788 - val_loss: 0.1142 - val_accuracy: 0.9654 - val_precision: 0.9716\n",
            "Epoch 11/30\n",
            "1875/1875 [==============================] - 9s 5ms/step - loss: 0.0896 - accuracy: 0.9747 - precision: 0.9802 - val_loss: 0.1093 - val_accuracy: 0.9658 - val_precision: 0.9709\n",
            "Epoch 12/30\n",
            "1875/1875 [==============================] - 10s 5ms/step - loss: 0.0825 - accuracy: 0.9769 - precision: 0.9817 - val_loss: 0.1052 - val_accuracy: 0.9676 - val_precision: 0.9733\n",
            "Epoch 13/30\n",
            "1875/1875 [==============================] - 8s 4ms/step - loss: 0.0763 - accuracy: 0.9786 - precision: 0.9828 - val_loss: 0.0981 - val_accuracy: 0.9696 - val_precision: 0.9749\n",
            "Epoch 14/30\n",
            "1875/1875 [==============================] - 12s 6ms/step - loss: 0.0705 - accuracy: 0.9800 - precision: 0.9840 - val_loss: 0.0955 - val_accuracy: 0.9694 - val_precision: 0.9751\n",
            "Epoch 15/30\n",
            "1875/1875 [==============================] - 9s 5ms/step - loss: 0.0656 - accuracy: 0.9822 - precision: 0.9855 - val_loss: 0.0893 - val_accuracy: 0.9700 - val_precision: 0.9752\n",
            "Epoch 16/30\n",
            "1875/1875 [==============================] - 9s 5ms/step - loss: 0.0613 - accuracy: 0.9833 - precision: 0.9865 - val_loss: 0.0904 - val_accuracy: 0.9710 - val_precision: 0.9758\n",
            "Epoch 17/30\n",
            "1875/1875 [==============================] - 8s 4ms/step - loss: 0.0571 - accuracy: 0.9847 - precision: 0.9875 - val_loss: 0.0855 - val_accuracy: 0.9716 - val_precision: 0.9760\n",
            "Epoch 18/30\n",
            "1875/1875 [==============================] - 9s 5ms/step - loss: 0.0532 - accuracy: 0.9860 - precision: 0.9890 - val_loss: 0.0883 - val_accuracy: 0.9694 - val_precision: 0.9732\n",
            "Epoch 19/30\n",
            "1875/1875 [==============================] - 9s 5ms/step - loss: 0.0499 - accuracy: 0.9863 - precision: 0.9891 - val_loss: 0.0830 - val_accuracy: 0.9718 - val_precision: 0.9766\n",
            "Epoch 20/30\n",
            "1875/1875 [==============================] - 8s 5ms/step - loss: 0.0469 - accuracy: 0.9878 - precision: 0.9901 - val_loss: 0.0825 - val_accuracy: 0.9700 - val_precision: 0.9750\n",
            "Epoch 21/30\n",
            "1875/1875 [==============================] - 10s 5ms/step - loss: 0.0438 - accuracy: 0.9887 - precision: 0.9912 - val_loss: 0.0807 - val_accuracy: 0.9708 - val_precision: 0.9756\n",
            "Epoch 22/30\n",
            "1875/1875 [==============================] - 10s 5ms/step - loss: 0.0413 - accuracy: 0.9893 - precision: 0.9913 - val_loss: 0.0825 - val_accuracy: 0.9722 - val_precision: 0.9756\n",
            "Epoch 23/30\n",
            "1875/1875 [==============================] - 8s 4ms/step - loss: 0.0387 - accuracy: 0.9902 - precision: 0.9919 - val_loss: 0.0768 - val_accuracy: 0.9724 - val_precision: 0.9764\n",
            "Epoch 24/30\n",
            "1875/1875 [==============================] - 9s 5ms/step - loss: 0.0365 - accuracy: 0.9908 - precision: 0.9928 - val_loss: 0.0780 - val_accuracy: 0.9742 - val_precision: 0.9778\n",
            "Epoch 25/30\n",
            "1875/1875 [==============================] - 9s 5ms/step - loss: 0.0341 - accuracy: 0.9914 - precision: 0.9932 - val_loss: 0.0770 - val_accuracy: 0.9740 - val_precision: 0.9772\n",
            "Epoch 26/30\n",
            "1875/1875 [==============================] - 8s 4ms/step - loss: 0.0325 - accuracy: 0.9921 - precision: 0.9936 - val_loss: 0.0755 - val_accuracy: 0.9748 - val_precision: 0.9777\n",
            "Epoch 27/30\n",
            "1875/1875 [==============================] - 9s 5ms/step - loss: 0.0304 - accuracy: 0.9928 - precision: 0.9942 - val_loss: 0.0770 - val_accuracy: 0.9740 - val_precision: 0.9775\n",
            "Epoch 28/30\n",
            "1875/1875 [==============================] - 10s 5ms/step - loss: 0.0288 - accuracy: 0.9930 - precision: 0.9944 - val_loss: 0.0757 - val_accuracy: 0.9736 - val_precision: 0.9777\n",
            "Epoch 29/30\n",
            "1875/1875 [==============================] - 8s 4ms/step - loss: 0.0272 - accuracy: 0.9939 - precision: 0.9951 - val_loss: 0.0727 - val_accuracy: 0.9748 - val_precision: 0.9779\n",
            "Epoch 30/30\n",
            "1875/1875 [==============================] - 8s 4ms/step - loss: 0.0259 - accuracy: 0.9943 - precision: 0.9954 - val_loss: 0.0719 - val_accuracy: 0.9740 - val_precision: 0.9775\n"
          ]
        }
      ]
    },
    {
      "cell_type": "markdown",
      "source": [
        "En la variable **history** se almacenan varios valores importantes:\n",
        "\n",
        "\n",
        "*   El valor de los parámetros del modelo después del entrenamiento.\n",
        "*   La lista de epochs llavados a cabo.\n",
        "*   Un diccionario con el error producido en cada epoch en el conjunto de datos de entrenamiento y validación\n",
        "\n"
      ],
      "metadata": {
        "id": "jVKU1LgRbEnp"
      }
    },
    {
      "cell_type": "code",
      "source": [
        "import pandas as pd\n",
        "import matplotlib.pyplot as plt\n",
        "\n",
        "pd.DataFrame(history.history).plot(figsize=(10, 7))\n",
        "plt.grid(True)\n",
        "plt.gca().set_ylim(0, 1.2)\n",
        "plt.xlabel(\"epochs\")\n",
        "plt.show()"
      ],
      "metadata": {
        "colab": {
          "base_uri": "https://localhost:8080/",
          "height": 624
        },
        "id": "QgSTNhi4axgq",
        "outputId": "ed017ca9-b237-40b8-f9c8-4ac463534d19"
      },
      "execution_count": 86,
      "outputs": [
        {
          "output_type": "display_data",
          "data": {
            "text/plain": [
              "<Figure size 1000x700 with 1 Axes>"
            ],
            "image/png": "[encoded data removed]"
          },
          "metadata": {}
        }
      ]
    },
    {
      "cell_type": "markdown",
      "source": [
        "Debido a que en la gráfica anterior se observa que el error en el conjunto de datos y de validación segue disminuyendo, podemos continuar entrenando el algoritmo invocando de nuevo el método fit(). Keras continuará el entrenamiento en el puntoen el lo dejó."
      ],
      "metadata": {
        "id": "gL2qe19vewPM"
      }
    },
    {
      "cell_type": "markdown",
      "source": [
        "## 6. Validación con el conjunto de datos de pruebas"
      ],
      "metadata": {
        "id": "fxkm6EUdfLpn"
      }
    },
    {
      "cell_type": "code",
      "source": [
        "test_loss, test_acc, test_prec = network.evaluate(X_test_prep, y_test_prep)"
      ],
      "metadata": {
        "colab": {
          "base_uri": "https://localhost:8080/"
        },
        "id": "ZX2tZSBdecgr",
        "outputId": "29440644-0f60-4647-a51c-c0a4ea84e586"
      },
      "execution_count": 87,
      "outputs": [
        {
          "output_type": "stream",
          "name": "stdout",
          "text": [
            "157/157 [==============================] - 1s 4ms/step - loss: 0.0602 - accuracy: 0.9818 - precision: 0.9851\n"
          ]
        }
      ]
    },
    {
      "cell_type": "code",
      "source": [
        "print('test_acc:', test_acc)\n",
        "print('test_prec:', test_prec)"
      ],
      "metadata": {
        "colab": {
          "base_uri": "https://localhost:8080/"
        },
        "id": "LMh2J8spffU-",
        "outputId": "df8d979f-732b-423c-d087-5877aebe7598"
      },
      "execution_count": 88,
      "outputs": [
        {
          "output_type": "stream",
          "name": "stdout",
          "text": [
            "test_acc: 0.9818000197410583\n",
            "test_prec: 0.9851136803627014\n"
          ]
        }
      ]
    },
    {
      "cell_type": "markdown",
      "source": [
        "## 7. Predicción de nuevos ejemplos"
      ],
      "metadata": {
        "id": "MNYrPzxufpnX"
      }
    },
    {
      "cell_type": "code",
      "source": [
        "# Suponemos que X_new es un nuevo ejemplo que el algoritmo no ha visto nunca\n",
        "X_new = X_test[34]"
      ],
      "metadata": {
        "id": "eSTpSQ_Efo0-"
      },
      "execution_count": 89,
      "outputs": []
    },
    {
      "cell_type": "code",
      "source": [
        "# Representación gráfica del nuevo ejemplo que queremos predecir\n",
        "plt.imshow(np.reshape(X_new, (28,28)), cmap=plt.cm.gray)\n",
        "plt.show()"
      ],
      "metadata": {
        "colab": {
          "base_uri": "https://localhost:8080/",
          "height": 430
        },
        "id": "erPLgSpThKdw",
        "outputId": "1536511e-3328-46e4-bed2-ce895b354a82"
      },
      "execution_count": 90,
      "outputs": [
        {
          "output_type": "display_data",
          "data": {
            "text/plain": [
              "<Figure size 640x480 with 1 Axes>"
            ],
            "image/png": "[encoded data removed]"
          },
          "metadata": {}
        }
      ]
    },
    {
      "cell_type": "code",
      "source": [
        "# Preprocesamos la nueva imagen que queremos predecir\n",
        "X_new_prep = X_new.reshape(1,28*28)\n",
        "X_new_prep = X_new_prep.astype('float32')/255"
      ],
      "metadata": {
        "id": "ZXiAexSYhba3"
      },
      "execution_count": 92,
      "outputs": []
    },
    {
      "cell_type": "code",
      "source": [
        "# Realizamos la predicción\n",
        "y_proba = network.predict(X_new_prep)"
      ],
      "metadata": {
        "colab": {
          "base_uri": "https://localhost:8080/"
        },
        "id": "rqQoKzbkh13P",
        "outputId": "60a50860-5442-465c-d521-10927c544d43"
      },
      "execution_count": 93,
      "outputs": [
        {
          "output_type": "stream",
          "name": "stdout",
          "text": [
            "1/1 [==============================] - 0s 168ms/step\n"
          ]
        }
      ]
    },
    {
      "cell_type": "code",
      "source": [
        "y_proba.round(2)"
      ],
      "metadata": {
        "colab": {
          "base_uri": "https://localhost:8080/"
        },
        "id": "hQjYDuXjh_UD",
        "outputId": "529f98a5-06b4-4795-b28a-e13accc6b165"
      },
      "execution_count": 94,
      "outputs": [
        {
          "output_type": "execute_result",
          "data": {
            "text/plain": [
              "array([[1., 0., 0., 0., 0., 0., 0., 0., 0., 0.]], dtype=float32)"
            ]
          },
          "metadata": {},
          "execution_count": 94
        }
      ]
    },
    {
      "cell_type": "code",
      "source": [
        "# Realizamos la predicción obteniendo una clase en lugar de una probabilidad\n",
        "np.argmax(network.predict(X_new_prep), axis=-1)"
      ],
      "metadata": {
        "colab": {
          "base_uri": "https://localhost:8080/"
        },
        "id": "kHByuoP_iO96",
        "outputId": "6ad08626-ff09-4e3e-b11f-f52ec094934f"
      },
      "execution_count": 95,
      "outputs": [
        {
          "output_type": "stream",
          "name": "stdout",
          "text": [
            "1/1 [==============================] - 0s 36ms/step\n"
          ]
        },
        {
          "output_type": "execute_result",
          "data": {
            "text/plain": [
              "array([0])"
            ]
          },
          "metadata": {},
          "execution_count": 95
        }
      ]
    },
    {
      "cell_type": "markdown",
      "source": [
        "Es importante saber que el método tradicional *predict_classes* va a ser deprecado próximamente"
      ],
      "metadata": {
        "id": "0nlvqjFUicKt"
      }
    },
    {
      "cell_type": "markdown",
      "source": [
        "## 8. Guardar el modelo en disco\n",
        "Con Keras generamos la arquitectura de la red neuronal, la entrenamos y después la evaluamos. Existen diferentes alternativas a la hora de exportar el modelo entrenado (https://keras.io/getting_started/fag/#what-are-my-options-for-saving-models), en este caso se expone una de las más utilizadas.\n",
        "\n",
        "De la forma que se indica a continuación, vamos a exportar en un fichero los siguientes coponentes de la red neuronal:\n",
        "\n",
        "\n",
        "*   La arquitectura del modelo\n",
        "*   Los parámetros del modelo\n",
        "*   Los hiperparámetros del modelo\n",
        "*   Las métricas\n",
        "\n"
      ],
      "metadata": {
        "id": "RVh4-K8fjWsd"
      }
    },
    {
      "cell_type": "code",
      "source": [
        "# Guardamos el modelo en disco\n",
        "network.save(\"modelo_mnist\")"
      ],
      "metadata": {
        "id": "KMkO_HV8ibBz"
      },
      "execution_count": 96,
      "outputs": []
    },
    {
      "cell_type": "markdown",
      "source": [
        "Una vez ejecutada la celda anterior, generará un fichero *modelo_mnist* que puede utilizarse para transportarlo a otro sistema y predecir con nuevos ejemplos. La forma en la uqe puedas importar este fichero para predecir con nuevos ejemplos es la siguiente:"
      ],
      "metadata": {
        "id": "sVG3pzrrkjbe"
      }
    },
    {
      "cell_type": "code",
      "source": [
        "# Importamos las librerias necesaria\n",
        "from tensorflow.keras.models import load_model\n",
        "\n",
        "# Cargamos el modelo de disco\n",
        "mnist_model = load_model(\"modelo_mnist\")\n",
        "\n",
        "# Realizamos una nueva predicción\n",
        "y_pred = np.argmax(mnist_model.predict(X_new_prep), axis=-1)"
      ],
      "metadata": {
        "colab": {
          "base_uri": "https://localhost:8080/"
        },
        "id": "giCNBXpnkgKa",
        "outputId": "357d2948-7316-4cc8-9d08-783553e0ae70"
      },
      "execution_count": 97,
      "outputs": [
        {
          "output_type": "stream",
          "name": "stdout",
          "text": [
            "1/1 [==============================] - 0s 145ms/step\n"
          ]
        }
      ]
    },
    {
      "cell_type": "code",
      "source": [
        "y_pred"
      ],
      "metadata": {
        "colab": {
          "base_uri": "https://localhost:8080/"
        },
        "id": "cH8LGZAnlp3w",
        "outputId": "dafd407c-e9ac-4073-9451-3806071f3fff"
      },
      "execution_count": 98,
      "outputs": [
        {
          "output_type": "execute_result",
          "data": {
            "text/plain": [
              "array([0])"
            ]
          },
          "metadata": {},
          "execution_count": 98
        }
      ]
    },
    {
      "cell_type": "code",
      "source": [],
      "metadata": {
        "id": "qMHkRXtalrxq"
      },
      "execution_count": null,
      "outputs": []
    }
  ]
}