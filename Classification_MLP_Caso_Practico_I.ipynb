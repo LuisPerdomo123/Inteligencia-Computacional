{
  "nbformat": 4,
  "nbformat_minor": 0,
  "metadata": {
    "colab": {
      "provenance": [],
      "toc_visible": true,
      "authorship_tag": "ABX9TyM7bbSUDup6xcBTrDeqd/6X",
      "include_colab_link": true
    },
    "kernelspec": {
      "name": "python3",
      "display_name": "Python 3"
    },
    "language_info": {
      "name": "python"
    }
  },
  "cells": [
    {
      "cell_type": "markdown",
      "metadata": {
        "id": "view-in-github",
        "colab_type": "text"
      },
      "source": [
        "<a href=\"https://colab.research.google.com/github/LuisPerdomo123/Inteligencia-Computacional/blob/main/Classification_MLP_Caso_Practico_I.ipynb\" target=\"_parent\"><img src=\"https://colab.research.google.com/assets/colab-badge.svg\" alt=\"Open In Colab\"/></a>"
      ]
    },
    {
      "cell_type": "markdown",
      "source": [
        "# Introducción a Keras: Implementando una RNA para clasificación\n",
        "\n",
        "## Pasos en la implementación de una Red Neuronal Artificial en Keras\n",
        "\n",
        "\n",
        "\n",
        "1.   Define tu conunto de datos de entrenamiento: vectores de entrada y de salida\n",
        "2.   Define la arquitectura de la Red Neuronal Artificial\n",
        "3. Configura el proceso de apredizaje mediante la selección de una función de error, una función de optimización y diferentes metricas para monitorizar el proceso.\n",
        "4. Entrena la RNA con tu conjunto de datos de entrenamiento mediante el uso de método **fit()**\n",
        "\n"
      ],
      "metadata": {
        "id": "QHeH9Ny_zljT"
      }
    },
    {
      "cell_type": "markdown",
      "source": [
        "## 0. Imports\n",
        "Lo primero que debe hacerse es importar las librerías específicas necesarias para la implementación de la Red Neuronal Artificial. En las nuevas verisones de TensorFlow y Keras, la recomendación es utilizar a través del framework TensorFlow."
      ],
      "metadata": {
        "id": "Pq3tNVfl0f12"
      }
    },
    {
      "cell_type": "code",
      "execution_count": null,
      "metadata": {
        "colab": {
          "base_uri": "https://localhost:8080/",
          "height": 35
        },
        "id": "82_dvX3bzftg",
        "outputId": "e508b6af-aa36-4c3b-8e40-e0f54c711180"
      },
      "outputs": [
        {
          "output_type": "execute_result",
          "data": {
            "text/plain": [
              "'2.15.0'"
            ],
            "application/vnd.google.colaboratory.intrinsic+json": {
              "type": "string"
            }
          },
          "metadata": {},
          "execution_count": 17
        }
      ],
      "source": [
        "import tensorflow as tf\n",
        "tf.__version__"
      ]
    },
    {
      "cell_type": "code",
      "source": [
        "from tensorflow import keras"
      ],
      "metadata": {
        "id": "WU__rkGu08Lo"
      },
      "execution_count": null,
      "outputs": []
    },
    {
      "cell_type": "markdown",
      "source": [
        "## 1. Definición del conjunto de datos de entrenamiento"
      ],
      "metadata": {
        "id": "OaD2FnkW3Roy"
      }
    },
    {
      "cell_type": "markdown",
      "source": [
        "### 1.1. Importando el conjunto de datos\n",
        "Keras nos proporciona algunos conjuntos de datos de prueba que podemos utilizar para la realización de pruebas."
      ],
      "metadata": {
        "id": "1TOSsehR3cvI"
      }
    },
    {
      "cell_type": "code",
      "source": [
        "from tensorflow.keras import datasets"
      ],
      "metadata": {
        "id": "dChuvh0F2Igj"
      },
      "execution_count": null,
      "outputs": []
    },
    {
      "cell_type": "markdown",
      "source": [
        "Podemos utilizar tab sobre \"datasets\" para visualizar los conjuntos de datos disponibles. En este caso vaos a imoportar el conjunto de datos MNIST."
      ],
      "metadata": {
        "id": "VOISXRhM3wYo"
      }
    },
    {
      "cell_type": "code",
      "source": [
        "mnist = datasets.mnist"
      ],
      "metadata": {
        "id": "JI2OMlyX3tyo"
      },
      "execution_count": null,
      "outputs": []
    },
    {
      "cell_type": "markdown",
      "source": [
        "Podemos utilizar hsift + tab sobre \"load_data()\" para visualizar el input y putput del método."
      ],
      "metadata": {
        "id": "Zv9JCONXHJ35"
      }
    },
    {
      "cell_type": "code",
      "source": [
        "(X_train, y_train), (X_test, y_test) = mnist.load_data()"
      ],
      "metadata": {
        "id": "f25-I3403-z5",
        "colab": {
          "base_uri": "https://localhost:8080/"
        },
        "outputId": "e0eea307-1d40-46f3-b385-cb3f52457d58"
      },
      "execution_count": 21,
      "outputs": [
        {
          "output_type": "stream",
          "name": "stdout",
          "text": [
            "Downloading data from https://storage.googleapis.com/tensorflow/tf-keras-datasets/mnist.npz\n",
            "11490434/11490434 [==============================] - 0s 0us/step\n"
          ]
        }
      ]
    },
    {
      "cell_type": "markdown",
      "source": [
        "El conjunto de datos importado esta formado por un total de 70000 imágenes divididas en dos conjuntos de datos, el conjunto de datos de entrenamiento A_train (60000 imágenes) y el conjunto de datos de pruebas (10000 imágenes)."
      ],
      "metadata": {
        "id": "w4LG1ji2Hm2v"
      }
    },
    {
      "cell_type": "code",
      "source": [
        "X_train.shape"
      ],
      "metadata": {
        "colab": {
          "base_uri": "https://localhost:8080/"
        },
        "id": "0yEnU6unIZEb",
        "outputId": "2dd9ff0d-d26d-4baa-a91a-45ce15382dd7"
      },
      "execution_count": 22,
      "outputs": [
        {
          "output_type": "execute_result",
          "data": {
            "text/plain": [
              "(60000, 28, 28)"
            ]
          },
          "metadata": {},
          "execution_count": 22
        }
      ]
    },
    {
      "cell_type": "code",
      "source": [
        "X_test.shape"
      ],
      "metadata": {
        "colab": {
          "base_uri": "https://localhost:8080/"
        },
        "id": "hTJjyCtvIbWt",
        "outputId": "a0015c50-a5d3-47d0-826b-0e0089f73487"
      },
      "execution_count": 23,
      "outputs": [
        {
          "output_type": "execute_result",
          "data": {
            "text/plain": [
              "(10000, 28, 28)"
            ]
          },
          "metadata": {},
          "execution_count": 23
        }
      ]
    },
    {
      "cell_type": "markdown",
      "source": [
        "Las etiquetas se corresponden con el valor numélrico que representa la imágen."
      ],
      "metadata": {
        "id": "jASqZrGrIe82"
      }
    },
    {
      "cell_type": "code",
      "source": [
        "y_train.shape"
      ],
      "metadata": {
        "colab": {
          "base_uri": "https://localhost:8080/"
        },
        "id": "LInuE8E9IdyT",
        "outputId": "0fc633c9-0b73-43e8-d704-23b0efda2dec"
      },
      "execution_count": 25,
      "outputs": [
        {
          "output_type": "execute_result",
          "data": {
            "text/plain": [
              "(60000,)"
            ]
          },
          "metadata": {},
          "execution_count": 25
        }
      ]
    },
    {
      "cell_type": "code",
      "source": [
        "y_train[0]"
      ],
      "metadata": {
        "colab": {
          "base_uri": "https://localhost:8080/"
        },
        "id": "7sqONW91InSt",
        "outputId": "6cc0802e-c137-4656-f0e8-79db6310294f"
      },
      "execution_count": 26,
      "outputs": [
        {
          "output_type": "execute_result",
          "data": {
            "text/plain": [
              "5"
            ]
          },
          "metadata": {},
          "execution_count": 26
        }
      ]
    },
    {
      "cell_type": "markdown",
      "source": [
        "### 1.2. Visualizando el conjunto de datos"
      ],
      "metadata": {
        "id": "C1EIhEQsItea"
      }
    },
    {
      "cell_type": "code",
      "source": [
        "import numpy as np\n",
        "import matplotlib.pyplot as plt"
      ],
      "metadata": {
        "id": "0zV7_UQ9IqjT"
      },
      "execution_count": 27,
      "outputs": []
    },
    {
      "cell_type": "code",
      "source": [
        "# Visualización de los primeros 8 ejemplos de nuestro conunto de datos de entrenamiento\n",
        "plt.figure(figsize=(20, 4))\n",
        "\n",
        "for index, digit in zip(range(1, 9), X_train[:8]):\n",
        "  plt.subplot(1, 8, index)\n",
        "  plt.imshow(np.reshape(digit, (28,28)), cmap=plt.cm.gray)\n",
        "  plt.title('Ejemplo: '+str(index))\n",
        "plt.show()"
      ],
      "metadata": {
        "colab": {
          "base_uri": "https://localhost:8080/",
          "height": 232
        },
        "id": "yboi4oyTJLmy",
        "outputId": "26cb5dc9-e989-409f-ea89-ed052e417fa0"
      },
      "execution_count": 31,
      "outputs": [
        {
          "output_type": "display_data",
          "data": {
            "text/plain": [
              "<Figure size 2000x400 with 8 Axes>"
            ],
            "image/png": "[encoded data removed]"
          },
          "metadata": {}
        }
      ]
    },
    {
      "cell_type": "markdown",
      "source": [
        "### 1.3. División del conjunto de datos\n",
        "\n",
        "Para la realización de una serie de pruebas adicionales vamos a dividir el conjunto de datos de prueba en dos subconjuntos, el conjunto de validación (X_val) y el conjunto de pruebas (X_test)"
      ],
      "metadata": {
        "id": "FRmxGbsVKTsG"
      }
    },
    {
      "cell_type": "code",
      "source": [
        "from sklearn.model_selection import train_test_split\n",
        "\n",
        "X_test, X_val, y_test, y_vla = train_test_split(X_test, y_test, test_size=0.5)"
      ],
      "metadata": {
        "id": "gi4eB4wVJ2au"
      },
      "execution_count": 32,
      "outputs": []
    },
    {
      "cell_type": "code",
      "source": [
        "X_test.shape"
      ],
      "metadata": {
        "colab": {
          "base_uri": "https://localhost:8080/"
        },
        "id": "XQnq0lxpK_WN",
        "outputId": "8839b3e4-02cb-4430-dd36-223f6c34aeeb"
      },
      "execution_count": 33,
      "outputs": [
        {
          "output_type": "execute_result",
          "data": {
            "text/plain": [
              "(5000, 28, 28)"
            ]
          },
          "metadata": {},
          "execution_count": 33
        }
      ]
    },
    {
      "cell_type": "code",
      "source": [
        "X_val.shape"
      ],
      "metadata": {
        "colab": {
          "base_uri": "https://localhost:8080/"
        },
        "id": "OwzonHcPLA8B",
        "outputId": "fb21f33c-0022-4682-dbf5-24b40f303f63"
      },
      "execution_count": 35,
      "outputs": [
        {
          "output_type": "execute_result",
          "data": {
            "text/plain": [
              "(5000, 28, 28)"
            ]
          },
          "metadata": {},
          "execution_count": 35
        }
      ]
    },
    {
      "cell_type": "markdown",
      "source": [
        "## 2. Definición de la arquitectura de la Red Neuronal Artificial"
      ],
      "metadata": {
        "id": "6DS1bZTdLEwd"
      }
    },
    {
      "cell_type": "markdown",
      "source": [
        "Tal y como puede observar en la definición de la Red Neuronal Artifivial que se muestra a continuación, el bloque básico que utiliza Keras es un **layer** o capa. La red Neuronal estará formada por diferentes capas que a su vez contendrán un conjunto de neuronas que se corresponden con el primer parámetro que se proporciona."
      ],
      "metadata": {
        "id": "sPq-mEOsMKh3"
      }
    },
    {
      "cell_type": "code",
      "source": [
        "from tensorflow.keras import models\n",
        "from tensorflow.keras import layers"
      ],
      "metadata": {
        "id": "AZU4jDLLLCYS"
      },
      "execution_count": 36,
      "outputs": []
    },
    {
      "cell_type": "markdown",
      "source": [
        "Definimos una Red Neuronal Artificial formada por 3 capas:\n",
        "\n",
        "*   La primera capa estará formada por 300 neuronas\n",
        "*   La segunda capa estará formada por 100 neuronas\n",
        "*   La última capa estará formada por 10 neuronas\n",
        "\n",
        "\n",
        "\n"
      ],
      "metadata": {
        "id": "Dz-KTu6zMqgD"
      }
    },
    {
      "cell_type": "code",
      "source": [
        "network = models.Sequential()\n",
        "\n",
        "network.add(layers.Dense(300, activation='relu', input_shape=(28*28,)))\n",
        "network.add(layers.Dense(100, activation='relu'))\n",
        "network.add(layers.Dense(10, activation='softmax'))"
      ],
      "metadata": {
        "id": "yQIc1MoKMoTL"
      },
      "execution_count": 38,
      "outputs": []
    },
    {
      "cell_type": "markdown",
      "source": [
        "Una vez hacemos la arquitectura de la Red Neuronal Artificial podemos visualizarla junto con el número total de parámetros utilizando el método summary().\n",
        "\n",
        "Se tiene imágenes de 28*28=784 características de entrada a cada una de las neuronas de la primera hidden layer, sumado a una byas term por cada neurona. Por tanto, sería 28*28*300+300=235500\n",
        "\n",
        "La segunda hidden layer compuesta por 100 neuronas tiene la entrada de 300 output de la primera hidden layer. Se suma un byas term como entrada a cada una de las neuronas. Por tanto, seria, 300*100+100=30100\n",
        "\n",
        "La output layer conformado por 10 neuronas, tiene como entrada 100 neuronas de las segunda hidden layer. Sumado a un byas term. Por tanto sería, 10*100+10=1010"
      ],
      "metadata": {
        "id": "Bdui37eyNyC2"
      }
    },
    {
      "cell_type": "code",
      "source": [
        "network.summary()"
      ],
      "metadata": {
        "colab": {
          "base_uri": "https://localhost:8080/"
        },
        "id": "lC9kXwskN_o2",
        "outputId": "fa779647-5251-4caa-df27-8661c84d9de8"
      },
      "execution_count": 39,
      "outputs": [
        {
          "output_type": "stream",
          "name": "stdout",
          "text": [
            "Model: \"sequential_1\"\n",
            "_________________________________________________________________\n",
            " Layer (type)                Output Shape              Param #   \n",
            "=================================================================\n",
            " dense_1 (Dense)             (None, 300)               235500    \n",
            "                                                                 \n",
            " dense_2 (Dense)             (None, 100)               30100     \n",
            "                                                                 \n",
            " dense_3 (Dense)             (None, 10)                1010      \n",
            "                                                                 \n",
            "=================================================================\n",
            "Total params: 266610 (1.02 MB)\n",
            "Trainable params: 266610 (1.02 MB)\n",
            "Non-trainable params: 0 (0.00 Byte)\n",
            "_________________________________________________________________\n"
          ]
        }
      ]
    },
    {
      "cell_type": "markdown",
      "source": [
        "### 2.2. Acceso a los elementos definifos de la RNA"
      ],
      "metadata": {
        "id": "blg4oQ9nQRLw"
      }
    },
    {
      "cell_type": "code",
      "source": [
        "network.layers"
      ],
      "metadata": {
        "colab": {
          "base_uri": "https://localhost:8080/"
        },
        "id": "pYjt2K1WQZk2",
        "outputId": "f47f48bd-14fb-4fc5-cf88-41226effa3ae"
      },
      "execution_count": 40,
      "outputs": [
        {
          "output_type": "execute_result",
          "data": {
            "text/plain": [
              "[<keras.src.layers.core.dense.Dense at 0x7fe28f61fd00>,\n",
              " <keras.src.layers.core.dense.Dense at 0x7fe296918820>,\n",
              " <keras.src.layers.core.dense.Dense at 0x7fe296919450>]"
            ]
          },
          "metadata": {},
          "execution_count": 40
        }
      ]
    },
    {
      "cell_type": "markdown",
      "source": [
        "En este caso vamos a acceder a los parámetros del modelo que componen las neuronas de la primera hidden layer."
      ],
      "metadata": {
        "id": "-DzoPEyhQc7b"
      }
    },
    {
      "cell_type": "code",
      "source": [
        "hidden1 = network.layers[1]"
      ],
      "metadata": {
        "id": "oKhu3RSlQbro"
      },
      "execution_count": 41,
      "outputs": []
    },
    {
      "cell_type": "code",
      "source": [
        "weights, biases = hidden1.get_weights()"
      ],
      "metadata": {
        "id": "fZkQlTLCQpeh"
      },
      "execution_count": 43,
      "outputs": []
    },
    {
      "cell_type": "markdown",
      "source": [
        "Como puede observase en las siguientes celdas, Keras automáticamente incializa el valor de los parámetros de manera aleatoria y los bías term con el valor 0"
      ],
      "metadata": {
        "id": "fiiYwqW1Q481"
      }
    },
    {
      "cell_type": "code",
      "source": [
        "weights"
      ],
      "metadata": {
        "colab": {
          "base_uri": "https://localhost:8080/"
        },
        "id": "nD-x40nwQ1BK",
        "outputId": "41ff3c8a-5918-44a9-f21c-d60768e5dd88"
      },
      "execution_count": 44,
      "outputs": [
        {
          "output_type": "execute_result",
          "data": {
            "text/plain": [
              "array([[-0.10409719,  0.09699205, -0.07930139, ...,  0.02608173,\n",
              "         0.11257466,  0.09591075],\n",
              "       [-0.05035263, -0.07754628, -0.04387852, ..., -0.0816033 ,\n",
              "         0.03240871,  0.10514119],\n",
              "       [-0.10045862, -0.09931158,  0.04741732, ...,  0.0783732 ,\n",
              "         0.11105558,  0.02513412],\n",
              "       ...,\n",
              "       [ 0.03670771,  0.01191846, -0.10764178, ...,  0.024145  ,\n",
              "        -0.01135628,  0.04881192],\n",
              "       [ 0.07630674,  0.1202699 , -0.01404929, ..., -0.04902805,\n",
              "         0.02923211,  0.10349547],\n",
              "       [-0.04799376,  0.07998564,  0.01793668, ..., -0.01223181,\n",
              "         0.11577263,  0.01363509]], dtype=float32)"
            ]
          },
          "metadata": {},
          "execution_count": 44
        }
      ]
    },
    {
      "cell_type": "code",
      "source": [
        "biases"
      ],
      "metadata": {
        "colab": {
          "base_uri": "https://localhost:8080/"
        },
        "id": "kYk52w1ORKJj",
        "outputId": "e73d98bc-12c6-41ca-8d25-19d3a6645ed0"
      },
      "execution_count": 45,
      "outputs": [
        {
          "output_type": "execute_result",
          "data": {
            "text/plain": [
              "array([0., 0., 0., 0., 0., 0., 0., 0., 0., 0., 0., 0., 0., 0., 0., 0., 0.,\n",
              "       0., 0., 0., 0., 0., 0., 0., 0., 0., 0., 0., 0., 0., 0., 0., 0., 0.,\n",
              "       0., 0., 0., 0., 0., 0., 0., 0., 0., 0., 0., 0., 0., 0., 0., 0., 0.,\n",
              "       0., 0., 0., 0., 0., 0., 0., 0., 0., 0., 0., 0., 0., 0., 0., 0., 0.,\n",
              "       0., 0., 0., 0., 0., 0., 0., 0., 0., 0., 0., 0., 0., 0., 0., 0., 0.,\n",
              "       0., 0., 0., 0., 0., 0., 0., 0., 0., 0., 0., 0., 0., 0., 0.],\n",
              "      dtype=float32)"
            ]
          },
          "metadata": {},
          "execution_count": 45
        }
      ]
    },
    {
      "cell_type": "markdown",
      "source": [
        "## 3. Configuración de la Red Neuronal Artificial\n",
        "Para que la Red Neuronal Artificial funvione adecuadamente va a requerir tres componentes adicionales que se seleccionan durante el proceso de compilación:\n",
        "\n",
        "\n",
        "\n",
        "1.   **La función de error:** Se utiliza en el proceso de optimización de los parámetros del modelo para medir el error producido al modificar el valor de los parámetros del modelo en una dirección determinada.\n",
        "2.   **La función de optimización:** Se corresponde con la función encargada de actualizar el valor de los parámetros del modelo en una dirección determinada en función del resultado de la dunción de error.\n",
        "3. **Metricas para monitorizar el proceso de entrenamiento:** Es interesante utilizar un conjunto de métricas durante el proceso de entrenamiento de la Red Neuronal Artificial de manera que podamos saber en cada iteración si el valor de los parámetros del modelo es adecuado o se están produciendo problemas como *overfitting*.\n",
        "\n"
      ],
      "metadata": {
        "id": "VKABoxJiRl2_"
      }
    },
    {
      "cell_type": "code",
      "source": [
        "network.compile(loss='categorical_crossentropy',\n",
        "                optimizer='sgd',\n",
        "                metrics=['accuracy', 'Precision'])"
      ],
      "metadata": {
        "id": "D186ADK_RK6C"
      },
      "execution_count": 46,
      "outputs": []
    },
    {
      "cell_type": "code",
      "source": [],
      "metadata": {
        "id": "3ZXrDNagTMlr"
      },
      "execution_count": null,
      "outputs": []
    }
  ]
}