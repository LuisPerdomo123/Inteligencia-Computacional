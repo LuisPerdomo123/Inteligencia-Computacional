{
  "nbformat": 4,
  "nbformat_minor": 0,
  "metadata": {
    "colab": {
      "provenance": [],
      "authorship_tag": "ABX9TyMSOgbr/QVc2mzvNfWd9waM",
      "include_colab_link": true
    },
    "kernelspec": {
      "name": "python3",
      "display_name": "Python 3"
    },
    "language_info": {
      "name": "python"
    }
  },
  "cells": [
    {
      "cell_type": "markdown",
      "metadata": {
        "id": "view-in-github",
        "colab_type": "text"
      },
      "source": [
        "<a href=\"https://colab.research.google.com/github/LuisPerdomo123/Inteligencia-Computacional/blob/main/Funciones_de_activacion_Caso_Prectico_III.ipynb\" target=\"_parent\"><img src=\"https://colab.research.google.com/assets/colab-badge.svg\" alt=\"Open In Colab\"/></a>"
      ]
    },
    {
      "cell_type": "markdown",
      "source": [
        "# Caso Práctico ¿por qupe se requiere una función de activación?\n",
        "\n",
        "## Conjunto de datos: Detección de transacciones bancarias fraudulentas\n",
        "\n",
        "### Descripción\n",
        "\n",
        "The datasets contains transactions made by credit cards in September 2013 by european cardholders. This dataset presents transactions thar occurred in two days, where we have 492 frauds out of 284.807 transactions. The dataset is highly unbalanced, the positive class (frauds) account for 0.172 % of all transactions.\n",
        "\n",
        "It contains only numerical input vaiables which are the result of a PCA transformation. Unfortunately, due to confidentiality issues, we cannot provide the original features and more background information about the data. Features V1, V2, ... V28 are the principal components obtained with PCA, the only features which have not been transformed with PCA are 'Time' and 'Amount'. Feature 'Time' contains the seconds elapsed between each transaction and the first transaction in the second dataset. The feature 'Amount' is the transaction Amount, this feature can be used for example-dependant cost-senstive learning. Feature 'Class' is the response variable and it takes value 1 in case of fraud and 0 otherwise.\n",
        "\n",
        "### Descarga de los ficheros de datos\n",
        "\n",
        "https://www.kaggle.com/mlg-ulb/creditcardfraud#creditcard.csv\n",
        "\n",
        "#### Referencias adicionales sobre el conjunto de datos\n",
        "\n",
        "The dataset has been collected and analysed during a research collaboration of Worldline and the Machine Learning Group (http://mlg.ulb.ac.be) of ULB (Université Libre de Bruxelles) on big data mining and fraud detection. More details on current and past projects in related topics are avialable on https://www.researchgate.net/project/Fraud-detection-5 and the page of the DefeatFraud project."
      ],
      "metadata": {
        "id": "ALCyJBNcFcuj"
      }
    },
    {
      "cell_type": "markdown",
      "source": [
        "## Imports"
      ],
      "metadata": {
        "id": "RoDK9x9rJPho"
      }
    },
    {
      "cell_type": "code",
      "execution_count": 1,
      "metadata": {
        "id": "uxE-sofTFXbp"
      },
      "outputs": [],
      "source": [
        "%matplotlib inline\n",
        "import matplotlib.pyplot as plt\n",
        "import pandas as pd\n",
        "import numpy as np\n",
        "from sklearn.model_selection import train_test_split"
      ]
    },
    {
      "cell_type": "markdown",
      "source": [
        "## Funciones auxiliares"
      ],
      "metadata": {
        "id": "v_Ivu6RqNe-a"
      }
    },
    {
      "cell_type": "code",
      "source": [
        "# Construcción de una función que realice el particionado completo\n",
        "def train_val_test_split(df, rstate=42, shuffle=True, stratify=None):\n",
        "  strat = df[stratify] if stratify else None\n",
        "  train_set, test_set = train_test_split(\n",
        "      df, tets_size=0.4, random_state=rstate, shuffle=shuffle, stratify=strat)\n",
        "  strat = test_set[stratify] if stratify else None\n",
        "  val_set, tets_set = train_test_split(\n",
        "      test_set, tets_size=0.5, random_state=rstate, shuffle=shuffle, stratify=strat)\n",
        "  return (train_set, val_set, test_set)\n",
        ""
      ],
      "metadata": {
        "id": "WYw_3x9KLgwy"
      },
      "execution_count": 2,
      "outputs": []
    },
    {
      "cell_type": "code",
      "source": [
        "def remove_labels(df, label_name):\n",
        "  X = df.drop(label_name, axis=1)\n",
        "  y = df[label_name].copy()\n",
        "  return (X, y)"
      ],
      "metadata": {
        "id": "UfCp1-vJQYBe"
      },
      "execution_count": 3,
      "outputs": []
    },
    {
      "cell_type": "markdown",
      "source": [
        "## 1. Lectura el conjunto de datos"
      ],
      "metadata": {
        "id": "pRbSeOxRQu1i"
      }
    },
    {
      "cell_type": "code",
      "source": [],
      "metadata": {
        "id": "fO2eLbLbQqWa"
      },
      "execution_count": null,
      "outputs": []
    },
    {
      "cell_type": "markdown",
      "source": [
        "## 2. Visualizción del conjunto de datos"
      ],
      "metadata": {
        "id": "qRJVu1frQ1fW"
      }
    },
    {
      "cell_type": "code",
      "source": [],
      "metadata": {
        "id": "1olvUnKZQ4M_"
      },
      "execution_count": null,
      "outputs": []
    }
  ]
}