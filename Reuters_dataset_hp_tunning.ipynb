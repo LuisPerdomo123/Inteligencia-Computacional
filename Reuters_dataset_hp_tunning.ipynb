{
  "nbformat": 4,
  "nbformat_minor": 0,
  "metadata": {
    "colab": {
      "provenance": [],
      "authorship_tag": "ABX9TyO/RVG5t4zXU7LED5zFstEF",
      "include_colab_link": true
    },
    "kernelspec": {
      "name": "python3",
      "display_name": "Python 3"
    },
    "language_info": {
      "name": "python"
    }
  },
  "cells": [
    {
      "cell_type": "markdown",
      "metadata": {
        "id": "view-in-github",
        "colab_type": "text"
      },
      "source": [
        "<a href=\"https://colab.research.google.com/github/LuisPerdomo123/Inteligencia-Computacional/blob/main/Reuters_dataset_hp_tunning.ipynb\" target=\"_parent\"><img src=\"https://colab.research.google.com/assets/colab-badge.svg\" alt=\"Open In Colab\"/></a>"
      ]
    },
    {
      "cell_type": "markdown",
      "source": [
        "# Keras Tuner: Reuters Dataset\n",
        "\n",
        "## Conjunto de datos\n",
        "\n",
        "Este es un conjunto de datos de 11.228 noticias de Reuters, etiquetadas en 46 temas.\n",
        "\n",
        "Esto fue originalmente generado por el análisis y preprocesaminto del clásico conjunto de datos de Reuters-21578, pero el código de preprocesamiento ya no está empaquetado con Keras.\n",
        "\n",
        "Cada noticia está codificado como una lista de índices de palabras (número enteros). Para mayor comodidad, las palabras se indexan por la frecuencia general en el conjunto de datos, de modo que, por ejemplo, el nímero entero \"3\" codifica la tercera palabra más frecuente en los datos. Esto permite realizar operaciones de filtrado rápido como: \"considerar sólo las 10.000 palabras más comunes, pero eliminar las 20 palabras más comunes\"."
      ],
      "metadata": {
        "id": "XZkerZaBAqNb"
      }
    },
    {
      "cell_type": "markdown",
      "source": [
        "## 1. Cargando el conjunto de datos"
      ],
      "metadata": {
        "id": "yOJPDuvqCLrU"
      }
    },
    {
      "cell_type": "code",
      "execution_count": 1,
      "metadata": {
        "id": "oLQEtY4MAk7z"
      },
      "outputs": [],
      "source": [
        "from tensorflow.keras.datasets import reuters"
      ]
    },
    {
      "cell_type": "code",
      "source": [
        "(train_data, train_labels), (test_data, test_labels) = reuters.load_data(num_words=10000)"
      ],
      "metadata": {
        "colab": {
          "base_uri": "https://localhost:8080/"
        },
        "id": "vtXaCj0ACgOr",
        "outputId": "fee7a898-25bf-4931-d155-21b13e21d84d"
      },
      "execution_count": 2,
      "outputs": [
        {
          "output_type": "stream",
          "name": "stdout",
          "text": [
            "Downloading data from https://storage.googleapis.com/tensorflow/tf-keras-datasets/reuters.npz\n",
            "2110848/2110848 [==============================] - 0s 0us/step\n"
          ]
        }
      ]
    },
    {
      "cell_type": "markdown",
      "source": [
        "## 2. Preprocesamiento del conjunto de datos\n",
        "\n",
        "A pesar de que ya tenemos codificadas las reseñas para que esten representadas por valores numéricos en lugar de por cadenas de texto, existen algunos factores que no permiten que sean conjuntos de datos apropiados para proporcionarle a una red neruronal artificial."
      ],
      "metadata": {
        "id": "H9n4mhVCCvmS"
      }
    },
    {
      "cell_type": "code",
      "source": [
        "import numpy as np\n",
        "\n",
        "def vectorize(seqs, dim=10000):\n",
        "  results = np.zeros((len(seqs), dim))\n",
        "  for i, seq in enumerate(seqs):\n",
        "    results[i, seq] = 1.\n",
        "  return results"
      ],
      "metadata": {
        "id": "o7SBSgtqCucO"
      },
      "execution_count": 3,
      "outputs": []
    },
    {
      "cell_type": "markdown",
      "source": [
        "Vectorizamos tanto el conjunto de datos de entrenamiento, como el conjunto de datos de pruebas."
      ],
      "metadata": {
        "id": "28QGfkOvMEvt"
      }
    },
    {
      "cell_type": "code",
      "source": [
        "# Vectorizamos el conunto d datos de entrenamiento y el de pruebas\n",
        "X_train = vectorize(train_data, 10000)\n",
        "X_test = vectorize(test_data)"
      ],
      "metadata": {
        "id": "kcGrbSYLLvT9"
      },
      "execution_count": 5,
      "outputs": []
    },
    {
      "cell_type": "code",
      "source": [
        "# Cada una de las reseñas se corresponde con un vector formdo poor 1s y 0s\n",
        "print(\"Valores origianles:\\t\", train_data[0][:15])\n",
        "print(\"Valores vectorizados:\\t\", X_train[0][:15])"
      ],
      "metadata": {
        "colab": {
          "base_uri": "https://localhost:8080/"
        },
        "id": "Y6qYK1soEKdH",
        "outputId": "b45ff898-2456-477a-d730-d9459677f00a"
      },
      "execution_count": 6,
      "outputs": [
        {
          "output_type": "stream",
          "name": "stdout",
          "text": [
            "Valores origianles:\t [1, 2, 2, 8, 43, 10, 447, 5, 25, 207, 270, 5, 3095, 111, 16]\n",
            "Valores vectorizados:\t [0. 1. 1. 0. 1. 1. 1. 1. 1. 1. 1. 1. 1. 0. 0.]\n"
          ]
        }
      ]
    },
    {
      "cell_type": "code",
      "source": [
        "# Transformamos las etiquetas de salida en vectores\n",
        "from tensorflow.keras.utils import to_categorical\n",
        "\n",
        "Y_train = to_categorical(train_labels)\n",
        "Y_test = to_categorical(test_labels)"
      ],
      "metadata": {
        "id": "32H87u6AMfqI"
      },
      "execution_count": 8,
      "outputs": []
    },
    {
      "cell_type": "markdown",
      "source": [
        "## División del conjunto de datos"
      ],
      "metadata": {
        "id": "wG2dzVEPNGjO"
      }
    },
    {
      "cell_type": "code",
      "source": [
        "from sklearn.model_selection import train_test_split\n",
        "\n",
        "X_test, X_val, Y_test, Y_val = train_test_split(X_test, Y_test, test_size=0.5)"
      ],
      "metadata": {
        "id": "lq7ZCctOM5ac"
      },
      "execution_count": 9,
      "outputs": []
    },
    {
      "cell_type": "code",
      "source": [
        "print(\"Longitud subconjunto de entrenamiento: \", len(X_train))\n",
        "print(\"Longitud subconjunto de validación: \", len(X_val))\n",
        "print(\"Longitud subconjunto de pruebas: \", len(X_test))"
      ],
      "metadata": {
        "colab": {
          "base_uri": "https://localhost:8080/"
        },
        "id": "MVvtVosHNaHF",
        "outputId": "9f6bd4cc-b2be-42b2-ebc2-4782b626fa66"
      },
      "execution_count": 10,
      "outputs": [
        {
          "output_type": "stream",
          "name": "stdout",
          "text": [
            "Longitud subconjunto de entrenamiento:  8982\n",
            "Longitud subconjunto de validación:  1123\n",
            "Longitud subconjunto de pruebas:  1123\n"
          ]
        }
      ]
    },
    {
      "cell_type": "markdown",
      "source": [
        "## Construcción de la red neuronal artificial\n",
        "\n",
        "### Función para la realización del tuning"
      ],
      "metadata": {
        "id": "lsUXAnDLNxh7"
      }
    },
    {
      "cell_type": "code",
      "source": [
        "!pip install keras-tuner"
      ],
      "metadata": {
        "colab": {
          "base_uri": "https://localhost:8080/"
        },
        "id": "svvSLmqPOWiw",
        "outputId": "3c74ad36-30d7-431f-f0f2-8eb037341840"
      },
      "execution_count": 12,
      "outputs": [
        {
          "output_type": "stream",
          "name": "stdout",
          "text": [
            "Collecting keras-tuner\n",
            "  Downloading keras_tuner-1.4.7-py3-none-any.whl (129 kB)\n",
            "\u001b[2K     \u001b[90m━━━━━━━━━━━━━━━━━━━━━━━━━━━━━━━━━━━━━━━━\u001b[0m \u001b[32m129.1/129.1 kB\u001b[0m \u001b[31m1.1 MB/s\u001b[0m eta \u001b[36m0:00:00\u001b[0m\n",
            "\u001b[?25hRequirement already satisfied: keras in /usr/local/lib/python3.10/dist-packages (from keras-tuner) (2.15.0)\n",
            "Requirement already satisfied: packaging in /usr/local/lib/python3.10/dist-packages (from keras-tuner) (24.0)\n",
            "Requirement already satisfied: requests in /usr/local/lib/python3.10/dist-packages (from keras-tuner) (2.31.0)\n",
            "Collecting kt-legacy (from keras-tuner)\n",
            "  Downloading kt_legacy-1.0.5-py3-none-any.whl (9.6 kB)\n",
            "Requirement already satisfied: charset-normalizer<4,>=2 in /usr/local/lib/python3.10/dist-packages (from requests->keras-tuner) (3.3.2)\n",
            "Requirement already satisfied: idna<4,>=2.5 in /usr/local/lib/python3.10/dist-packages (from requests->keras-tuner) (3.7)\n",
            "Requirement already satisfied: urllib3<3,>=1.21.1 in /usr/local/lib/python3.10/dist-packages (from requests->keras-tuner) (2.0.7)\n",
            "Requirement already satisfied: certifi>=2017.4.17 in /usr/local/lib/python3.10/dist-packages (from requests->keras-tuner) (2024.2.2)\n",
            "Installing collected packages: kt-legacy, keras-tuner\n",
            "Successfully installed keras-tuner-1.4.7 kt-legacy-1.0.5\n"
          ]
        }
      ]
    },
    {
      "cell_type": "code",
      "source": [
        "from tensorflow import keras\n",
        "from tensorflow.keras import models\n",
        "from tensorflow.keras import layers\n",
        "import kerastuner as kt"
      ],
      "metadata": {
        "colab": {
          "base_uri": "https://localhost:8080/"
        },
        "id": "8sNI8jghNwXV",
        "outputId": "a2d09fea-c848-43c2-c5ea-1ac1f5c8f432"
      },
      "execution_count": 13,
      "outputs": [
        {
          "output_type": "stream",
          "name": "stderr",
          "text": [
            "<ipython-input-13-49774d8808bb>:4: DeprecationWarning: `import kerastuner` is deprecated, please use `import keras_tuner`.\n",
            "  import kerastuner as kt\n"
          ]
        }
      ]
    },
    {
      "cell_type": "code",
      "source": [
        "def model_builder(hp):\n",
        "  # Definición del modelo\n",
        "  model = keras.Sequential()\n",
        "\n",
        "  # Tuning del número de neuronas de las hidden layer\n",
        "  hp_units = hp.Int('units', min_value=8, max_value=128, step=8)\n",
        "\n",
        "  # Tuning del número de capas\n",
        "  hp_layers = hp.Int('layers', min_value=1, max_value=5, step=1)\n",
        "\n",
        "  # Input layer\n",
        "  model.add(layers.Dense(units=128, activation='relu', input_shape=(10000,)))\n",
        "\n",
        "  # Hidden layers\n",
        "  for i in range(hp_layers):\n",
        "    # Anadimos la hidden layer\n",
        "    model.add(layers.Dense(units=hp_units, activation='relu'))\n",
        "\n",
        "  # Output layer\n",
        "  model.add(layers.Dense(46, activation='softmax'))\n",
        "\n",
        "  # Seleccionamos el valor optimo entre [0.01, 0.001, 0.0001]\n",
        "  hp_learning_rate = hp.Choice('learning_rate', values=[1e-2, 1e-3, 1e-4])\n",
        "\n",
        "  model.compile(\n",
        "      optimizer=keras.optimizers.Adam(learning_rate=hp_learning_rate),\n",
        "      loss='categorical_crossentropy',\n",
        "      metrics=['accuracy']\n",
        "  )\n",
        "  return model"
      ],
      "metadata": {
        "id": "sAUGrqZfOHh2"
      },
      "execution_count": 19,
      "outputs": []
    },
    {
      "cell_type": "code",
      "source": [
        "tuner = kt.Hyperband(\n",
        "    model_builder,\n",
        "    objective='val_accuracy',\n",
        "    max_epochs=10,\n",
        "    factor=3,\n",
        "    directory='hp_dir',\n",
        "    project_name='ruters_dataset'\n",
        ")"
      ],
      "metadata": {
        "id": "TW7AIuhmRe3E"
      },
      "execution_count": 20,
      "outputs": []
    },
    {
      "cell_type": "code",
      "source": [
        "# Creamos una función de callback que limpie el output\n",
        "import IPython\n",
        "import tensorflow as tf\n",
        "\n",
        "class ClearTrainingOutput(tf.keras.callbacks.Callback):\n",
        "  def on_train_end(*args, **kwargs):\n",
        "    IPython.display.clear_output(wait = True)"
      ],
      "metadata": {
        "id": "j5cAOdenTC-K"
      },
      "execution_count": 22,
      "outputs": []
    },
    {
      "cell_type": "code",
      "source": [
        "# Ejecución del proceso de tuning\n",
        "tuner.search(\n",
        "    X_train,\n",
        "    Y_train,\n",
        "    epochs=10,\n",
        "    validation_data=(X_val, Y_val),\n",
        "    callbacks=[ClearTrainingOutput()]\n",
        ")"
      ],
      "metadata": {
        "colab": {
          "base_uri": "https://localhost:8080/"
        },
        "id": "r9QdSkTnT6PE",
        "outputId": "7e0214e9-5bdd-4a8a-fc08-c6135ac2ec20"
      },
      "execution_count": 23,
      "outputs": [
        {
          "output_type": "stream",
          "name": "stdout",
          "text": [
            "Trial 30 Complete [00h 01m 02s]\n",
            "val_accuracy: 0.7756010890007019\n",
            "\n",
            "Best val_accuracy So Far: 0.7951914668083191\n",
            "Total elapsed time: 00h 16m 01s\n"
          ]
        }
      ]
    },
    {
      "cell_type": "code",
      "source": [
        "# Obtensión de los hiperparámetros óptimos\n",
        "best_hps = tuner.get_best_hyperparameters(num_trials=1)[0]\n",
        "\n",
        "print(\"Units: \", best_hps.get('units'))\n",
        "print(\"Layers: \", best_hps.get('layers'))"
      ],
      "metadata": {
        "colab": {
          "base_uri": "https://localhost:8080/"
        },
        "id": "Fl4bgtGHUYpg",
        "outputId": "4da6c118-4c00-4d6a-a5e5-0b943f97f29b"
      },
      "execution_count": 24,
      "outputs": [
        {
          "output_type": "stream",
          "name": "stdout",
          "text": [
            "Units:  88\n",
            "Layers:  2\n"
          ]
        }
      ]
    },
    {
      "cell_type": "code",
      "source": [
        "model = tuner.hypermodel.build(best_hps)\n",
        "\n",
        "history = model.fit(\n",
        "    X_train,\n",
        "    Y_train,\n",
        "    epochs = 20,\n",
        "    validation_data = (X_val, Y_val)\n",
        ")"
      ],
      "metadata": {
        "colab": {
          "base_uri": "https://localhost:8080/"
        },
        "id": "8dd8ZoroYsVS",
        "outputId": "ff69cfe8-7106-4650-84aa-32ecfe87da80"
      },
      "execution_count": 25,
      "outputs": [
        {
          "output_type": "stream",
          "name": "stdout",
          "text": [
            "Epoch 1/20\n",
            "281/281 [==============================] - 8s 25ms/step - loss: 1.4166 - accuracy: 0.6821 - val_loss: 1.0465 - val_accuracy: 0.7524\n",
            "Epoch 2/20\n",
            "281/281 [==============================] - 6s 20ms/step - loss: 0.5667 - accuracy: 0.8692 - val_loss: 0.9650 - val_accuracy: 0.7792\n",
            "Epoch 3/20\n",
            "281/281 [==============================] - 6s 23ms/step - loss: 0.2811 - accuracy: 0.9356 - val_loss: 1.0417 - val_accuracy: 0.7907\n",
            "Epoch 4/20\n",
            "281/281 [==============================] - 5s 19ms/step - loss: 0.1989 - accuracy: 0.9463 - val_loss: 1.1064 - val_accuracy: 0.7685\n",
            "Epoch 5/20\n",
            "281/281 [==============================] - 6s 22ms/step - loss: 0.1629 - accuracy: 0.9481 - val_loss: 1.1403 - val_accuracy: 0.7765\n",
            "Epoch 6/20\n",
            "281/281 [==============================] - 6s 20ms/step - loss: 0.1372 - accuracy: 0.9526 - val_loss: 1.2883 - val_accuracy: 0.7685\n",
            "Epoch 7/20\n",
            "281/281 [==============================] - 6s 20ms/step - loss: 0.1238 - accuracy: 0.9523 - val_loss: 1.2569 - val_accuracy: 0.7676\n",
            "Epoch 8/20\n",
            "281/281 [==============================] - 6s 22ms/step - loss: 0.1158 - accuracy: 0.9536 - val_loss: 1.3271 - val_accuracy: 0.7747\n",
            "Epoch 9/20\n",
            "281/281 [==============================] - 5s 19ms/step - loss: 0.1133 - accuracy: 0.9537 - val_loss: 1.3557 - val_accuracy: 0.7738\n",
            "Epoch 10/20\n",
            "281/281 [==============================] - 7s 23ms/step - loss: 0.1036 - accuracy: 0.9554 - val_loss: 1.3321 - val_accuracy: 0.7729\n",
            "Epoch 11/20\n",
            "281/281 [==============================] - 6s 20ms/step - loss: 0.0999 - accuracy: 0.9564 - val_loss: 1.4472 - val_accuracy: 0.7685\n",
            "Epoch 12/20\n",
            "281/281 [==============================] - 6s 23ms/step - loss: 0.0949 - accuracy: 0.9559 - val_loss: 1.4306 - val_accuracy: 0.7845\n",
            "Epoch 13/20\n",
            "281/281 [==============================] - 5s 20ms/step - loss: 0.0945 - accuracy: 0.9561 - val_loss: 1.4780 - val_accuracy: 0.7729\n",
            "Epoch 14/20\n",
            "281/281 [==============================] - 6s 23ms/step - loss: 0.0912 - accuracy: 0.9551 - val_loss: 1.5344 - val_accuracy: 0.7738\n",
            "Epoch 15/20\n",
            "281/281 [==============================] - 7s 24ms/step - loss: 0.0916 - accuracy: 0.9544 - val_loss: 1.6950 - val_accuracy: 0.7658\n",
            "Epoch 16/20\n",
            "281/281 [==============================] - 7s 26ms/step - loss: 0.0850 - accuracy: 0.9550 - val_loss: 1.6038 - val_accuracy: 0.7711\n",
            "Epoch 17/20\n",
            "281/281 [==============================] - 6s 21ms/step - loss: 0.0842 - accuracy: 0.9572 - val_loss: 1.7420 - val_accuracy: 0.7667\n",
            "Epoch 18/20\n",
            "281/281 [==============================] - 6s 23ms/step - loss: 0.0805 - accuracy: 0.9558 - val_loss: 1.7305 - val_accuracy: 0.7676\n",
            "Epoch 19/20\n",
            "281/281 [==============================] - 6s 21ms/step - loss: 0.0805 - accuracy: 0.9568 - val_loss: 1.7037 - val_accuracy: 0.7640\n",
            "Epoch 20/20\n",
            "281/281 [==============================] - 6s 21ms/step - loss: 0.0810 - accuracy: 0.9577 - val_loss: 1.7558 - val_accuracy: 0.7569\n"
          ]
        }
      ]
    },
    {
      "cell_type": "code",
      "source": [
        "import pandas as pd\n",
        "import matplotlib.pyplot as plt\n",
        "\n",
        "pd.DataFrame(history.history)[['loss', 'val_loss']].plot(figsize=(10, 6))\n",
        "plt.grid(True)\n",
        "plt.xlabel(\"epochs\")\n",
        "plt.ylabel(\"loss\")\n",
        "plt.show()"
      ],
      "metadata": {
        "colab": {
          "base_uri": "https://localhost:8080/",
          "height": 529
        },
        "id": "ikELzUNQZB_U",
        "outputId": "b3ac1ca8-8fa9-4f65-ec05-9d8c53c1e871"
      },
      "execution_count": 26,
      "outputs": [
        {
          "output_type": "display_data",
          "data": {
            "text/plain": [
              "<Figure size 1000x600 with 1 Axes>"
            ],
            "image/png": "[encoded data removed]"
          },
          "metadata": {}
        }
      ]
    },
    {
      "cell_type": "code",
      "source": [
        "import pandas as pd\n",
        "import matplotlib.pyplot as plt\n",
        "\n",
        "pd.DataFrame(history.history)[['accuracy', 'val_accuracy']].plot(figsize=(10, 6))\n",
        "plt.grid(True)\n",
        "plt.xlabel(\"epochs\")\n",
        "plt.ylabel(\"accuracy\")\n",
        "plt.show()"
      ],
      "metadata": {
        "colab": {
          "base_uri": "https://localhost:8080/",
          "height": 529
        },
        "id": "0ksaW0BFZ-ZZ",
        "outputId": "6b2a31dc-b425-466b-c96c-583a25e5a9f3"
      },
      "execution_count": 27,
      "outputs": [
        {
          "output_type": "display_data",
          "data": {
            "text/plain": [
              "<Figure size 1000x600 with 1 Axes>"
            ],
            "image/png": "[encoded data removed]"
          },
          "metadata": {}
        }
      ]
    },
    {
      "cell_type": "code",
      "source": [],
      "metadata": {
        "id": "a2U945Q2aaAT"
      },
      "execution_count": null,
      "outputs": []
    }
  ]
}