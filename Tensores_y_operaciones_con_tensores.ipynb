{
  "nbformat": 4,
  "nbformat_minor": 0,
  "metadata": {
    "colab": {
      "provenance": [],
      "authorship_tag": "ABX9TyOGiplQIkyu7yrdj46Worqt",
      "include_colab_link": true
    },
    "kernelspec": {
      "name": "python3",
      "display_name": "Python 3"
    },
    "language_info": {
      "name": "python"
    }
  },
  "cells": [
    {
      "cell_type": "markdown",
      "metadata": {
        "id": "view-in-github",
        "colab_type": "text"
      },
      "source": [
        "<a href=\"https://colab.research.google.com/github/LuisPerdomo123/Inteligencia-Computacional/blob/main/Tensores_y_operaciones_con_tensores.ipynb\" target=\"_parent\"><img src=\"https://colab.research.google.com/assets/colab-badge.svg\" alt=\"Open In Colab\"/></a>"
      ]
    },
    {
      "cell_type": "markdown",
      "source": [
        "# Tensores y operaciones con tensores\n",
        "\n",
        "## Tensores\n",
        "\n",
        "El **tensor** es el elemento fundamental de Tensorflow. En términos prácticos, un tensor es similar a una ndarray de Numpy, es decir, un array multidimensional. La diferencia principal es que los tensores admiten una gama más amplia de valores, por ejemplo, un únicoescalar (un valor simple como el número 15)."
      ],
      "metadata": {
        "id": "6DoOUmpQEgp0"
      }
    },
    {
      "cell_type": "code",
      "execution_count": 1,
      "metadata": {
        "colab": {
          "base_uri": "https://localhost:8080/",
          "height": 35
        },
        "id": "_4dFMGXXEa7T",
        "outputId": "732d3b68-ab88-4d97-8844-05b58bf12399"
      },
      "outputs": [
        {
          "output_type": "execute_result",
          "data": {
            "text/plain": [
              "'2.15.0'"
            ],
            "application/vnd.google.colaboratory.intrinsic+json": {
              "type": "string"
            }
          },
          "metadata": {},
          "execution_count": 1
        }
      ],
      "source": [
        "# Importamos tensorflow\n",
        "import tensorflow as tf\n",
        "\n",
        "tf.__version__"
      ]
    },
    {
      "cell_type": "markdown",
      "source": [
        "Podemos comenzar definiendo un tensor con Tensorflow mediante el método tf.constant()"
      ],
      "metadata": {
        "id": "CXLYrtYBFR7i"
      }
    },
    {
      "cell_type": "code",
      "source": [
        "# El tensor representa una matriz\n",
        "tf.constant([[1., 2., 3.],[4., 5., 6.]])"
      ],
      "metadata": {
        "colab": {
          "base_uri": "https://localhost:8080/"
        },
        "id": "5ASW_bS6FQGT",
        "outputId": "76aebff8-9db0-425e-deb2-05e63c414762"
      },
      "execution_count": 2,
      "outputs": [
        {
          "output_type": "execute_result",
          "data": {
            "text/plain": [
              "<tf.Tensor: shape=(2, 3), dtype=float32, numpy=\n",
              "array([[1., 2., 3.],\n",
              "       [4., 5., 6.]], dtype=float32)>"
            ]
          },
          "metadata": {},
          "execution_count": 2
        }
      ]
    },
    {
      "cell_type": "code",
      "source": [
        "# El tensor representa un escalar\n",
        "tf.constant(15)"
      ],
      "metadata": {
        "colab": {
          "base_uri": "https://localhost:8080/"
        },
        "id": "w6uLGHcEFk05",
        "outputId": "4b23dff2-1783-4b8e-cf10-54b34073049c"
      },
      "execution_count": 3,
      "outputs": [
        {
          "output_type": "execute_result",
          "data": {
            "text/plain": [
              "<tf.Tensor: shape=(), dtype=int32, numpy=15>"
            ]
          },
          "metadata": {},
          "execution_count": 3
        }
      ]
    },
    {
      "cell_type": "markdown",
      "source": [
        "Al igual un ndarray de Numpy, un tensor tiene una forma (shape) y un tipo (dtype)"
      ],
      "metadata": {
        "id": "k71eATsUFuVL"
      }
    },
    {
      "cell_type": "code",
      "source": [
        "t = tf.constant([[1., 2.],[3., 4.]])\n",
        "t.shape"
      ],
      "metadata": {
        "colab": {
          "base_uri": "https://localhost:8080/"
        },
        "id": "Ip0g7CpsFs-0",
        "outputId": "28ebce3b-436e-4e03-a257-fd024352b260"
      },
      "execution_count": 4,
      "outputs": [
        {
          "output_type": "execute_result",
          "data": {
            "text/plain": [
              "TensorShape([2, 2])"
            ]
          },
          "metadata": {},
          "execution_count": 4
        }
      ]
    },
    {
      "cell_type": "code",
      "source": [
        "t.dtype"
      ],
      "metadata": {
        "colab": {
          "base_uri": "https://localhost:8080/"
        },
        "id": "fIESdNtpHC_L",
        "outputId": "b1d5fef1-105b-442f-9ced-deeab2ad7c6f"
      },
      "execution_count": 5,
      "outputs": [
        {
          "output_type": "execute_result",
          "data": {
            "text/plain": [
              "tf.float32"
            ]
          },
          "metadata": {},
          "execution_count": 5
        }
      ]
    },
    {
      "cell_type": "markdown",
      "source": [
        "## Acceso a los elementos de un Tensor\n",
        "\n",
        "La manera de indexar los valores de un tensor es igual a la que se utiliza para indexar los elementos de un ndarray de NumPy."
      ],
      "metadata": {
        "id": "qzFMjHR0HGvr"
      }
    },
    {
      "cell_type": "code",
      "source": [
        "# Definicion de un tensor que representa una matriz\n",
        "t = tf.constant([[1., 2., 3.],[4., 5., 6.]])\n",
        "t.shape"
      ],
      "metadata": {
        "colab": {
          "base_uri": "https://localhost:8080/"
        },
        "id": "Rfx-j3f1HEaS",
        "outputId": "26da72eb-1496-4566-ea80-16f3dd4f1ca9"
      },
      "execution_count": 7,
      "outputs": [
        {
          "output_type": "execute_result",
          "data": {
            "text/plain": [
              "TensorShape([2, 3])"
            ]
          },
          "metadata": {},
          "execution_count": 7
        }
      ]
    },
    {
      "cell_type": "code",
      "source": [
        "# Acceso a la segunda fila del tensor\n",
        "t[1,:]"
      ],
      "metadata": {
        "colab": {
          "base_uri": "https://localhost:8080/"
        },
        "id": "WVokfWTPHg3R",
        "outputId": "c2987f3d-12b3-4260-e89a-e0b9bb786dab"
      },
      "execution_count": 8,
      "outputs": [
        {
          "output_type": "execute_result",
          "data": {
            "text/plain": [
              "<tf.Tensor: shape=(3,), dtype=float32, numpy=array([4., 5., 6.], dtype=float32)>"
            ]
          },
          "metadata": {},
          "execution_count": 8
        }
      ]
    },
    {
      "cell_type": "code",
      "source": [
        "# Acceso a la primera columna del tensor\n",
        "t[:,0]"
      ],
      "metadata": {
        "colab": {
          "base_uri": "https://localhost:8080/"
        },
        "id": "2iEVrAFjHnOy",
        "outputId": "a8cd102a-03cf-4275-df86-b0fa957e96ab"
      },
      "execution_count": 9,
      "outputs": [
        {
          "output_type": "execute_result",
          "data": {
            "text/plain": [
              "<tf.Tensor: shape=(2,), dtype=float32, numpy=array([1., 4.], dtype=float32)>"
            ]
          },
          "metadata": {},
          "execution_count": 9
        }
      ]
    },
    {
      "cell_type": "markdown",
      "source": [
        "## Operaciones con Tensores\n",
        "\n",
        "Uno de los aspectos más relevantes de los tensores es que podemos realizar todo tipo de operaciones con ellos."
      ],
      "metadata": {
        "id": "9wEauVSoJPC6"
      }
    },
    {
      "cell_type": "code",
      "source": [
        "# Definicion de un tensor que representa una matriz\n",
        "t = tf.constant([[1., 2., 3.],[4., 5., 6.]])\n",
        "t.shape"
      ],
      "metadata": {
        "colab": {
          "base_uri": "https://localhost:8080/"
        },
        "id": "GmvEftopIH55",
        "outputId": "99e98fce-1074-4f43-dbcf-5a59a36001a8"
      },
      "execution_count": 10,
      "outputs": [
        {
          "output_type": "execute_result",
          "data": {
            "text/plain": [
              "TensorShape([2, 3])"
            ]
          },
          "metadata": {},
          "execution_count": 10
        }
      ]
    },
    {
      "cell_type": "code",
      "source": [
        "# Suma de un tensor y un escalar\n",
        "print(t)\n",
        "print(t+10)"
      ],
      "metadata": {
        "colab": {
          "base_uri": "https://localhost:8080/"
        },
        "id": "h8_XVYMAJlab",
        "outputId": "9b79559e-ebff-4c2e-a590-1836c4daceb0"
      },
      "execution_count": 11,
      "outputs": [
        {
          "output_type": "stream",
          "name": "stdout",
          "text": [
            "tf.Tensor(\n",
            "[[1. 2. 3.]\n",
            " [4. 5. 6.]], shape=(2, 3), dtype=float32)\n",
            "tf.Tensor(\n",
            "[[11. 12. 13.]\n",
            " [14. 15. 16.]], shape=(2, 3), dtype=float32)\n"
          ]
        }
      ]
    },
    {
      "cell_type": "code",
      "source": [
        "# Suma de dos tensores\n",
        "print(t+t)"
      ],
      "metadata": {
        "colab": {
          "base_uri": "https://localhost:8080/"
        },
        "id": "3Hrn4WtrJxTO",
        "outputId": "c89c5eb8-038c-4ed4-ecb4-d82115a248f7"
      },
      "execution_count": 12,
      "outputs": [
        {
          "output_type": "stream",
          "name": "stdout",
          "text": [
            "tf.Tensor(\n",
            "[[ 2.  4.  6.]\n",
            " [ 8. 10. 12.]], shape=(2, 3), dtype=float32)\n"
          ]
        }
      ]
    },
    {
      "cell_type": "code",
      "source": [
        "# Cuadrado de un tensor\n",
        "tf.square(t)"
      ],
      "metadata": {
        "colab": {
          "base_uri": "https://localhost:8080/"
        },
        "id": "F4j4Y1lhJ2uL",
        "outputId": "57373659-e03d-41f4-a29e-cd73236ecc6b"
      },
      "execution_count": 13,
      "outputs": [
        {
          "output_type": "execute_result",
          "data": {
            "text/plain": [
              "<tf.Tensor: shape=(2, 3), dtype=float32, numpy=\n",
              "array([[ 1.,  4.,  9.],\n",
              "       [16., 25., 36.]], dtype=float32)>"
            ]
          },
          "metadata": {},
          "execution_count": 13
        }
      ]
    },
    {
      "cell_type": "markdown",
      "source": [
        "Tensorflow nos proporciona una amplia gama de funciones matemáticas que podemos utilizar para operar con tensores:\n",
        "\n",
        "*   tf.exp()\n",
        "*   tf.sqrt()\n",
        "*   tf.transpose()\n",
        "*   ...\n",
        "\n"
      ],
      "metadata": {
        "id": "ivw5Qi6cJ-TH"
      }
    },
    {
      "cell_type": "markdown",
      "source": [
        "## Tensores y conversión de tipos\n",
        "\n",
        "Una de las cosas relevantes que se debe tener en cuenta cuando se utiliza Tensorflow, es que no realiza conversión de tipos al realizar una operación. Esto quiere decir que si no se utilizan valores del mismo tipo en la operación, se producirá una excepción.["
      ],
      "metadata": {
        "id": "eB9BJFoeLJQz"
      }
    },
    {
      "cell_type": "code",
      "source": [
        "# Creación de dos tensores\n",
        "t1 = tf.constant(1.0)\n",
        "t2 = tf.constant(2)"
      ],
      "metadata": {
        "id": "HzWz6TcOJ7Wt"
      },
      "execution_count": 14,
      "outputs": []
    },
    {
      "cell_type": "code",
      "source": [
        "print(\"Tipo t1:\", t1.dtype)\n",
        "print(\"Tipo t2:\", t2.dtype)"
      ],
      "metadata": {
        "colab": {
          "base_uri": "https://localhost:8080/"
        },
        "id": "GfK3XXvTLm0Q",
        "outputId": "d387c3ec-1b48-41f3-9b9d-39d4b4b523c7"
      },
      "execution_count": 15,
      "outputs": [
        {
          "output_type": "stream",
          "name": "stdout",
          "text": [
            "Tipo t1: <dtype: 'float32'>\n",
            "Tipo t2: <dtype: 'int32'>\n"
          ]
        }
      ]
    },
    {
      "cell_type": "code",
      "source": [
        "try:\n",
        "  t3 = t1+t2\n",
        "except Exception as e:\n",
        "  print(\"Exception:\", e)"
      ],
      "metadata": {
        "colab": {
          "base_uri": "https://localhost:8080/"
        },
        "id": "gqbdpPdhLxLH",
        "outputId": "8147ac5c-722a-4876-9e5b-49d253b405c8"
      },
      "execution_count": 16,
      "outputs": [
        {
          "output_type": "stream",
          "name": "stdout",
          "text": [
            "Exception: cannot compute AddV2 as input #1(zero-based) was expected to be a float tensor but is a int32 tensor [Op:AddV2] name: \n"
          ]
        }
      ]
    },
    {
      "cell_type": "code",
      "source": [
        "try:\n",
        "  tf.constant([1,2,3])+tf.constant([1.0,2.0,3.0])\n",
        "except Exception as e:\n",
        "  print(\"Exception:\", e)"
      ],
      "metadata": {
        "colab": {
          "base_uri": "https://localhost:8080/"
        },
        "id": "o-K_ZOT_MEDE",
        "outputId": "185a5795-5e2d-4cd2-d618-350720f07f35"
      },
      "execution_count": 17,
      "outputs": [
        {
          "output_type": "stream",
          "name": "stdout",
          "text": [
            "Exception: cannot compute AddV2 as input #1(zero-based) was expected to be a int32 tensor but is a float tensor [Op:AddV2] name: \n"
          ]
        }
      ]
    },
    {
      "cell_type": "markdown",
      "source": [
        "## Tensores variables\n",
        "\n",
        "Hasta ahora, la estructuras de Tensorflow que hemos utilizado para almacenar valores son inmutables, esto quiere decur que no podemos realizar modificaciones una vez se han creado."
      ],
      "metadata": {
        "id": "CFvWpYnLNX0W"
      }
    },
    {
      "cell_type": "code",
      "source": [
        "t = tf.constant([1.0, 2.0, 3.0])\n",
        "t[0] = 4.0"
      ],
      "metadata": {
        "colab": {
          "base_uri": "https://localhost:8080/",
          "height": 159
        },
        "id": "i4gciSKjMwT_",
        "outputId": "63c5ea45-f246-4e7d-b253-ba6f6fb9d982"
      },
      "execution_count": 18,
      "outputs": [
        {
          "output_type": "error",
          "ename": "TypeError",
          "evalue": "'tensorflow.python.framework.ops.EagerTensor' object does not support item assignment",
          "traceback": [
            "\u001b[0;31m---------------------------------------------------------------------------\u001b[0m",
            "\u001b[0;31mTypeError\u001b[0m                                 Traceback (most recent call last)",
            "\u001b[0;32m<ipython-input-18-b21bb9c71225>\u001b[0m in \u001b[0;36m<cell line: 2>\u001b[0;34m()\u001b[0m\n\u001b[1;32m      1\u001b[0m \u001b[0mt\u001b[0m \u001b[0;34m=\u001b[0m \u001b[0mtf\u001b[0m\u001b[0;34m.\u001b[0m\u001b[0mconstant\u001b[0m\u001b[0;34m(\u001b[0m\u001b[0;34m[\u001b[0m\u001b[0;36m1.0\u001b[0m\u001b[0;34m,\u001b[0m \u001b[0;36m2.0\u001b[0m\u001b[0;34m,\u001b[0m \u001b[0;36m3.0\u001b[0m\u001b[0;34m]\u001b[0m\u001b[0;34m)\u001b[0m\u001b[0;34m\u001b[0m\u001b[0;34m\u001b[0m\u001b[0m\n\u001b[0;32m----> 2\u001b[0;31m \u001b[0mt\u001b[0m\u001b[0;34m[\u001b[0m\u001b[0;36m0\u001b[0m\u001b[0;34m]\u001b[0m \u001b[0;34m=\u001b[0m \u001b[0;36m4.0\u001b[0m\u001b[0;34m\u001b[0m\u001b[0;34m\u001b[0m\u001b[0m\n\u001b[0m",
            "\u001b[0;31mTypeError\u001b[0m: 'tensorflow.python.framework.ops.EagerTensor' object does not support item assignment"
          ]
        }
      ]
    },
    {
      "cell_type": "markdown",
      "source": [
        "Si necesitamos crear una estructura que pueda modificarse después de haber sido creada, entonces tenemos que utilizar tf.Variable"
      ],
      "metadata": {
        "id": "TxihjWjTNyvj"
      }
    },
    {
      "cell_type": "code",
      "source": [
        "t = tf.Variable([1.0,2.0,3.0])\n",
        "print(\"Tensor original:\", t.value())\n",
        "\n",
        "t[0].assign(4.0)\n",
        "print(\"Tensor modificado:\", t.value())"
      ],
      "metadata": {
        "colab": {
          "base_uri": "https://localhost:8080/"
        },
        "id": "XUF1wVsMNtc1",
        "outputId": "021ad3f1-9e87-40eb-98fa-c9c5dee417d8"
      },
      "execution_count": 20,
      "outputs": [
        {
          "output_type": "stream",
          "name": "stdout",
          "text": [
            "Tensor original: tf.Tensor([1. 2. 3.], shape=(3,), dtype=float32)\n",
            "Tensor modificado: tf.Tensor([4. 2. 3.], shape=(3,), dtype=float32)\n"
          ]
        }
      ]
    },
    {
      "cell_type": "markdown",
      "source": [
        "Tensorlfow soporta otros tipos de estructuras de datos como las cadenas de texto"
      ],
      "metadata": {
        "id": "HCCMggG3OWJk"
      }
    },
    {
      "cell_type": "code",
      "source": [
        "tf.constant(b\"Hola mundo\")"
      ],
      "metadata": {
        "colab": {
          "base_uri": "https://localhost:8080/"
        },
        "id": "7cidHoFaOTJ4",
        "outputId": "f405b1cb-19d9-4959-d3b8-fa5396a947d0"
      },
      "execution_count": 21,
      "outputs": [
        {
          "output_type": "execute_result",
          "data": {
            "text/plain": [
              "<tf.Tensor: shape=(), dtype=string, numpy=b'Hola mundo'>"
            ]
          },
          "metadata": {},
          "execution_count": 21
        }
      ]
    },
    {
      "cell_type": "code",
      "source": [
        "tf.constant(\"españa\")"
      ],
      "metadata": {
        "colab": {
          "base_uri": "https://localhost:8080/"
        },
        "id": "ZALvAQcUOjdv",
        "outputId": "cd67249c-bab5-4b56-99ed-08f75bb2106f"
      },
      "execution_count": 22,
      "outputs": [
        {
          "output_type": "execute_result",
          "data": {
            "text/plain": [
              "<tf.Tensor: shape=(), dtype=string, numpy=b'espa\\xc3\\xb1a'>"
            ]
          },
          "metadata": {},
          "execution_count": 22
        }
      ]
    },
    {
      "cell_type": "code",
      "source": [
        "tf.constant([[\"hola\",\"mundo\",\"españa\"]])"
      ],
      "metadata": {
        "colab": {
          "base_uri": "https://localhost:8080/"
        },
        "id": "iRbfxcykO9-7",
        "outputId": "34159f0d-ac48-4d6a-cbdd-4a2e6c0f3515"
      },
      "execution_count": 23,
      "outputs": [
        {
          "output_type": "execute_result",
          "data": {
            "text/plain": [
              "<tf.Tensor: shape=(1, 3), dtype=string, numpy=array([[b'hola', b'mundo', b'espa\\xc3\\xb1a']], dtype=object)>"
            ]
          },
          "metadata": {},
          "execution_count": 23
        }
      ]
    },
    {
      "cell_type": "code",
      "source": [],
      "metadata": {
        "id": "yXVEQnunPGHs"
      },
      "execution_count": null,
      "outputs": []
    }
  ]
}