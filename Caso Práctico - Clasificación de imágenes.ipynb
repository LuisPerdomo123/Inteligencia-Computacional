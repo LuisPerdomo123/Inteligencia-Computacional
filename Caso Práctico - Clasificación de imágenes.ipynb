{
 "cells": [
  {
   "cell_type": "markdown",
   "id": "fd1eb253",
   "metadata": {},
   "source": [
    "# Caso Práctico: Clasificación de imágenes"
   ]
  },
  {
   "cell_type": "markdown",
   "id": "5c8f68b0",
   "metadata": {},
   "source": [
    "## 1. Conjunto de datos"
   ]
  },
  {
   "cell_type": "code",
   "execution_count": 3,
   "id": "80e3b12b",
   "metadata": {},
   "outputs": [],
   "source": [
    "from tensorflow.keras import datasets"
   ]
  },
  {
   "cell_type": "code",
   "execution_count": 7,
   "id": "90d9f339",
   "metadata": {},
   "outputs": [],
   "source": [
    "fashion_mnist = datasets.fashion_mnist"
   ]
  },
  {
   "cell_type": "code",
   "execution_count": 8,
   "id": "5014a5d5",
   "metadata": {},
   "outputs": [
    {
     "name": "stdout",
     "output_type": "stream",
     "text": [
      "Downloading data from https://storage.googleapis.com/tensorflow/tf-keras-datasets/train-labels-idx1-ubyte.gz\n",
      "29515/29515 [==============================] - 0s 2us/step\n",
      "Downloading data from https://storage.googleapis.com/tensorflow/tf-keras-datasets/train-images-idx3-ubyte.gz\n",
      "26421880/26421880 [==============================] - 11s 0us/step\n",
      "Downloading data from https://storage.googleapis.com/tensorflow/tf-keras-datasets/t10k-labels-idx1-ubyte.gz\n",
      "5148/5148 [==============================] - 0s 0s/step\n",
      "Downloading data from https://storage.googleapis.com/tensorflow/tf-keras-datasets/t10k-images-idx3-ubyte.gz\n",
      "4422102/4422102 [==============================] - 2s 1us/step\n"
     ]
    }
   ],
   "source": [
    "(x_train, y_train), (x_test, y_test) = fashion_mnist.load_data()"
   ]
  },
  {
   "cell_type": "markdown",
   "id": "f555740f",
   "metadata": {},
   "source": [
    "## 2. Visualización del conjunto de datos"
   ]
  },
  {
   "cell_type": "code",
   "execution_count": 13,
   "id": "dcb8ad43",
   "metadata": {},
   "outputs": [
    {
     "data": {
      "image/png": "[encoded data removed]",
      "text/plain": [
       "<Figure size 2000x400 with 8 Axes>"
      ]
     },
     "metadata": {},
     "output_type": "display_data"
    }
   ],
   "source": [
    "import numpy as ap\n",
    "import matplotlib.pyplot as plt\n",
    "\n",
    "plt.figure(figsize=(20,4))\n",
    "for index, img in zip(range(1,9),x_train[:8]):\n",
    "    plt.subplot(1, 8, index)\n",
    "    plt.imshow(img,cmap=plt.cm.gray)\n",
    "    plt.title('Ejemplo: '+str(index))\n",
    "plt.show()"
   ]
  },
  {
   "cell_type": "code",
   "execution_count": 14,
   "id": "25ed9277",
   "metadata": {},
   "outputs": [
    {
     "name": "stdout",
     "output_type": "stream",
     "text": [
      "Longitud subconjunto de entrenamiento:  60000\n",
      "Longitud subconjunto de pruebas:  10000\n"
     ]
    }
   ],
   "source": [
    "print(\"Longitud subconjunto de entrenamiento: \", len(x_train))\n",
    "print(\"Longitud subconjunto de pruebas: \", len(x_test))"
   ]
  },
  {
   "cell_type": "markdown",
   "id": "ecfb1965",
   "metadata": {},
   "source": [
    "## 3. Transformación del conjunto de datos"
   ]
  },
  {
   "cell_type": "code",
   "execution_count": 20,
   "id": "f1ea5303",
   "metadata": {},
   "outputs": [],
   "source": [
    "x_train_prep = x_train.reshape((60000,28*28))\n",
    "x_test_prep = x_test.reshape((10000, 28*28))"
   ]
  },
  {
   "cell_type": "code",
   "execution_count": 21,
   "id": "58ad395b",
   "metadata": {},
   "outputs": [],
   "source": [
    "from sklearn.preprocessing import Normalizer\n",
    "\n",
    "transformer = Normalizer()\n",
    "x_train_prep = transformer.fit_transform(x_train_prep)\n",
    "y_test_prep = transformer.transform(x_test_prep)"
   ]
  },
  {
   "cell_type": "code",
   "execution_count": 23,
   "id": "e5536125",
   "metadata": {},
   "outputs": [],
   "source": [
    "from tensorflow.keras.utils import to_categorical\n",
    "\n",
    "y_train_prep = to_categorical(y_train)\n",
    "y_test_prep = to_categorical(y_test)"
   ]
  },
  {
   "cell_type": "markdown",
   "id": "cf5e0bab",
   "metadata": {},
   "source": [
    "## 4. Construcción del modelo"
   ]
  },
  {
   "cell_type": "code",
   "execution_count": 32,
   "id": "d730eb12",
   "metadata": {},
   "outputs": [],
   "source": [
    "from tensorflow.keras import models\n",
    "from tensorflow.keras import layers\n",
    "\n",
    "network = models.Sequential()\n",
    "\n",
    "## Primera capa formada por 300 neuronas (contiene la entrada)\n",
    "## Segunda capa 100 neuronas\n",
    "## Ultima capa formada por 10 neuronas\n",
    "network.add(layers.Dense(300, activation='relu', input_shape=(28*28,)))\n",
    "network.add(layers.Dense(100, activation='relu'))\n",
    "network.add(layers.Dense(10, activation='softmax'))"
   ]
  },
  {
   "cell_type": "code",
   "execution_count": 33,
   "id": "6a0affd7",
   "metadata": {},
   "outputs": [],
   "source": [
    "network.compile(loss = 'categorical_crossentropy',\n",
    "               optimizer = 'adam',\n",
    "               metrics=['accuracy','Precision'])"
   ]
  },
  {
   "cell_type": "code",
   "execution_count": 35,
   "id": "f828335d",
   "metadata": {},
   "outputs": [
    {
     "name": "stdout",
     "output_type": "stream",
     "text": [
      "Epoch 1/15\n",
      "1875/1875 [==============================] - 12s 6ms/step - loss: 0.5175 - accuracy: 0.8123 - precision: 0.8688 - val_loss: 1048.5931 - val_accuracy: 0.7965 - val_precision: 0.7965\n",
      "Epoch 2/15\n",
      "1875/1875 [==============================] - 10s 5ms/step - loss: 0.3743 - accuracy: 0.8636 - precision: 0.8890 - val_loss: 1050.7017 - val_accuracy: 0.8081 - val_precision: 0.8081\n",
      "Epoch 3/15\n",
      "1875/1875 [==============================] - 10s 5ms/step - loss: 0.3313 - accuracy: 0.8785 - precision: 0.9019 - val_loss: 1198.3857 - val_accuracy: 0.8017 - val_precision: 0.8017\n",
      "Epoch 4/15\n",
      "1875/1875 [==============================] - 11s 6ms/step - loss: 0.3080 - accuracy: 0.8860 - precision: 0.9061 - val_loss: 1434.6420 - val_accuracy: 0.7924 - val_precision: 0.7924\n",
      "Epoch 5/15\n",
      "1875/1875 [==============================] - 10s 5ms/step - loss: 0.2882 - accuracy: 0.8920 - precision: 0.9101 - val_loss: 1231.8796 - val_accuracy: 0.8037 - val_precision: 0.8037\n",
      "Epoch 6/15\n",
      "1875/1875 [==============================] - 10s 6ms/step - loss: 0.2715 - accuracy: 0.8992 - precision: 0.9165 - val_loss: 1542.4569 - val_accuracy: 0.7950 - val_precision: 0.7950\n",
      "Epoch 7/15\n",
      "1875/1875 [==============================] - 10s 5ms/step - loss: 0.2591 - accuracy: 0.9018 - precision: 0.9183 - val_loss: 1420.0966 - val_accuracy: 0.8096 - val_precision: 0.8096\n",
      "Epoch 8/15\n",
      "1875/1875 [==============================] - 10s 5ms/step - loss: 0.2457 - accuracy: 0.9068 - precision: 0.9215 - val_loss: 1522.9600 - val_accuracy: 0.8133 - val_precision: 0.8133\n",
      "Epoch 9/15\n",
      "1875/1875 [==============================] - 10s 5ms/step - loss: 0.2357 - accuracy: 0.9119 - precision: 0.9247 - val_loss: 1707.8490 - val_accuracy: 0.7934 - val_precision: 0.7934\n",
      "Epoch 10/15\n",
      "1875/1875 [==============================] - 11s 6ms/step - loss: 0.2249 - accuracy: 0.9151 - precision: 0.9279 - val_loss: 1796.4296 - val_accuracy: 0.7918 - val_precision: 0.7918\n",
      "Epoch 11/15\n",
      "1875/1875 [==============================] - 11s 6ms/step - loss: 0.2169 - accuracy: 0.9176 - precision: 0.9287 - val_loss: 1646.7227 - val_accuracy: 0.8066 - val_precision: 0.8066\n",
      "Epoch 12/15\n",
      "1875/1875 [==============================] - 10s 5ms/step - loss: 0.2086 - accuracy: 0.9202 - precision: 0.9312 - val_loss: 1281.4182 - val_accuracy: 0.8306 - val_precision: 0.8306\n",
      "Epoch 13/15\n",
      "1875/1875 [==============================] - 10s 6ms/step - loss: 0.2010 - accuracy: 0.9239 - precision: 0.9342 - val_loss: 1694.3882 - val_accuracy: 0.8118 - val_precision: 0.8118\n",
      "Epoch 14/15\n",
      "1875/1875 [==============================] - 11s 6ms/step - loss: 0.1923 - accuracy: 0.9268 - precision: 0.9367 - val_loss: 2013.4344 - val_accuracy: 0.7933 - val_precision: 0.7933\n",
      "Epoch 15/15\n",
      "1875/1875 [==============================] - 10s 5ms/step - loss: 0.1858 - accuracy: 0.9287 - precision: 0.9375 - val_loss: 1661.3983 - val_accuracy: 0.8189 - val_precision: 0.8189\n"
     ]
    }
   ],
   "source": [
    "history = network.fit(x_train_prep,\n",
    "                     y_train_prep,\n",
    "                     batch_size=32,\n",
    "                     epochs=15,\n",
    "                     validation_data=[x_test_prep, y_test_prep])"
   ]
  },
  {
   "cell_type": "code",
   "execution_count": null,
   "id": "8db46743",
   "metadata": {},
   "outputs": [],
   "source": []
  }
 ],
 "metadata": {
  "kernelspec": {
   "display_name": "Python 3 (ipykernel)",
   "language": "python",
   "name": "python3"
  },
  "language_info": {
   "codemirror_mode": {
    "name": "ipython",
    "version": 3
   },
   "file_extension": ".py",
   "mimetype": "text/x-python",
   "name": "python",
   "nbconvert_exporter": "python",
   "pygments_lexer": "ipython3",
   "version": "3.9.16"
  }
 },
 "nbformat": 4,
 "nbformat_minor": 5
}
