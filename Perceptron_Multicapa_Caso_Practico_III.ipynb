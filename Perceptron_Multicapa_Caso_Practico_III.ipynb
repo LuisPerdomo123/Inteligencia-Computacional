{
  "nbformat": 4,
  "nbformat_minor": 0,
  "metadata": {
    "colab": {
      "provenance": [],
      "toc_visible": true,
      "authorship_tag": "ABX9TyN3E+3fqj7LpoBpKi5XZA6s",
      "include_colab_link": true
    },
    "kernelspec": {
      "name": "python3",
      "display_name": "Python 3"
    },
    "language_info": {
      "name": "python"
    }
  },
  "cells": [
    {
      "cell_type": "markdown",
      "metadata": {
        "id": "view-in-github",
        "colab_type": "text"
      },
      "source": [
        "<a href=\"https://colab.research.google.com/github/LuisPerdomo123/Inteligencia-Computacional/blob/main/Perceptron_Multicapa_Caso_Practico_III.ipynb\" target=\"_parent\"><img src=\"https://colab.research.google.com/assets/colab-badge.svg\" alt=\"Open In Colab\"/></a>"
      ]
    },
    {
      "cell_type": "markdown",
      "source": [
        "# Perceptrón Multicapa: Caso práctico III\n",
        "\n",
        "## Dataset\n",
        "Este conjunto de datos contiene los discursos de estos líderes prominentes: Benjamín Netanyahu, Jens Stoltenber, Julia Gillard, ;argaret Tacher y Nelson Mandela que también representa los nombres de las carpetas. Cada audio de la carpeta es un PCM de un segundo de duración con una velocidad de muestreo de 16 kHz codificado. Una carpeta llamada background_noise contienen audios que no son discursos, pero que se pueden encontrar en el interior alrededor del entorno del orador, por ejemplo, la audiencia riendo o aplaudiendo. Se puede mezclar con el discurso mientras se entrena.\n",
        "\n",
        "### Referencias\n",
        "https://www.kaggle.com/datasets/kongaevans/speaker-recognition-dataset\n",
        "\n",
        "## Enunciado\n",
        "El objetivo del ejercicio consiste en utilizar un perceptrón multicapa para la identificación de la persona que se encuentra hablando a partir de un audio de un segundo de duración.\n",
        "\n"
      ],
      "metadata": {
        "id": "hy7S8TWXt95N"
      }
    },
    {
      "cell_type": "markdown",
      "source": [
        "## Parte I: Introducción al procesamiento de audio\n",
        "En primera instancia debemos comprender como se representa digitalmente el audio y que características fundamentales tiene."
      ],
      "metadata": {
        "id": "XcsQcXout_er"
      }
    },
    {
      "cell_type": "markdown",
      "source": [
        "Si tienes un dataset comprimido en formato .zip que has cargado en Google Colab, puedes extraerlo y luego acceder a los archivos dentro del dataset. Aquí tienes los pasos para hacerlo:\n",
        "\n",
        "Sube el archivo .zip a Colab: Puedes subir el archivo .zip a Colab utilizando la interfaz de usuario o mediante código.\n",
        "Esto mostrará un botón de \"Seleccionar archivos\" que te permitirá cargar \"16000_pcm_speeches.zip\" desde tu sistema local.\n",
        "\n",
        "Por ejemplo, si el archivo se llama \"16000_pcm_speeches.zip\" y está en tu sistema local, puedes subirlo así:"
      ],
      "metadata": {
        "id": "GGHm4siG8hKR"
      }
    },
    {
      "cell_type": "code",
      "source": [
        "from google.colab import files\n",
        "uploaded = files.upload()"
      ],
      "metadata": {
        "colab": {
          "base_uri": "https://localhost:8080/",
          "height": 73
        },
        "id": "ZuFs0aYQ77tZ",
        "outputId": "a686fc68-2117-4c70-85ff-806bb18f694e"
      },
      "execution_count": 10,
      "outputs": [
        {
          "output_type": "display_data",
          "data": {
            "text/plain": [
              "<IPython.core.display.HTML object>"
            ],
            "text/html": [
              "\n",
              "     <input type=\"file\" id=\"files-1cb57b2c-851b-4d6d-a1ea-e1f0b64aa340\" name=\"files[]\" multiple disabled\n",
              "        style=\"border:none\" />\n",
              "     <output id=\"result-1cb57b2c-851b-4d6d-a1ea-e1f0b64aa340\">\n",
              "      Upload widget is only available when the cell has been executed in the\n",
              "      current browser session. Please rerun this cell to enable.\n",
              "      </output>\n",
              "      <script>// Copyright 2017 Google LLC\n",
              "//\n",
              "// Licensed under the Apache License, Version 2.0 (the \"License\");\n",
              "// you may not use this file except in compliance with the License.\n",
              "// You may obtain a copy of the License at\n",
              "//\n",
              "//      http://www.apache.org/licenses/LICENSE-2.0\n",
              "//\n",
              "// Unless required by applicable law or agreed to in writing, software\n",
              "// distributed under the License is distributed on an \"AS IS\" BASIS,\n",
              "// WITHOUT WARRANTIES OR CONDITIONS OF ANY KIND, either express or implied.\n",
              "// See the License for the specific language governing permissions and\n",
              "// limitations under the License.\n",
              "\n",
              "/**\n",
              " * @fileoverview Helpers for google.colab Python module.\n",
              " */\n",
              "(function(scope) {\n",
              "function span(text, styleAttributes = {}) {\n",
              "  const element = document.createElement('span');\n",
              "  element.textContent = text;\n",
              "  for (const key of Object.keys(styleAttributes)) {\n",
              "    element.style[key] = styleAttributes[key];\n",
              "  }\n",
              "  return element;\n",
              "}\n",
              "\n",
              "// Max number of bytes which will be uploaded at a time.\n",
              "const MAX_PAYLOAD_SIZE = 100 * 1024;\n",
              "\n",
              "function _uploadFiles(inputId, outputId) {\n",
              "  const steps = uploadFilesStep(inputId, outputId);\n",
              "  const outputElement = document.getElementById(outputId);\n",
              "  // Cache steps on the outputElement to make it available for the next call\n",
              "  // to uploadFilesContinue from Python.\n",
              "  outputElement.steps = steps;\n",
              "\n",
              "  return _uploadFilesContinue(outputId);\n",
              "}\n",
              "\n",
              "// This is roughly an async generator (not supported in the browser yet),\n",
              "// where there are multiple asynchronous steps and the Python side is going\n",
              "// to poll for completion of each step.\n",
              "// This uses a Promise to block the python side on completion of each step,\n",
              "// then passes the result of the previous step as the input to the next step.\n",
              "function _uploadFilesContinue(outputId) {\n",
              "  const outputElement = document.getElementById(outputId);\n",
              "  const steps = outputElement.steps;\n",
              "\n",
              "  const next = steps.next(outputElement.lastPromiseValue);\n",
              "  return Promise.resolve(next.value.promise).then((value) => {\n",
              "    // Cache the last promise value to make it available to the next\n",
              "    // step of the generator.\n",
              "    outputElement.lastPromiseValue = value;\n",
              "    return next.value.response;\n",
              "  });\n",
              "}\n",
              "\n",
              "/**\n",
              " * Generator function which is called between each async step of the upload\n",
              " * process.\n",
              " * @param {string} inputId Element ID of the input file picker element.\n",
              " * @param {string} outputId Element ID of the output display.\n",
              " * @return {!Iterable<!Object>} Iterable of next steps.\n",
              " */\n",
              "function* uploadFilesStep(inputId, outputId) {\n",
              "  const inputElement = document.getElementById(inputId);\n",
              "  inputElement.disabled = false;\n",
              "\n",
              "  const outputElement = document.getElementById(outputId);\n",
              "  outputElement.innerHTML = '';\n",
              "\n",
              "  const pickedPromise = new Promise((resolve) => {\n",
              "    inputElement.addEventListener('change', (e) => {\n",
              "      resolve(e.target.files);\n",
              "    });\n",
              "  });\n",
              "\n",
              "  const cancel = document.createElement('button');\n",
              "  inputElement.parentElement.appendChild(cancel);\n",
              "  cancel.textContent = 'Cancel upload';\n",
              "  const cancelPromise = new Promise((resolve) => {\n",
              "    cancel.onclick = () => {\n",
              "      resolve(null);\n",
              "    };\n",
              "  });\n",
              "\n",
              "  // Wait for the user to pick the files.\n",
              "  const files = yield {\n",
              "    promise: Promise.race([pickedPromise, cancelPromise]),\n",
              "    response: {\n",
              "      action: 'starting',\n",
              "    }\n",
              "  };\n",
              "\n",
              "  cancel.remove();\n",
              "\n",
              "  // Disable the input element since further picks are not allowed.\n",
              "  inputElement.disabled = true;\n",
              "\n",
              "  if (!files) {\n",
              "    return {\n",
              "      response: {\n",
              "        action: 'complete',\n",
              "      }\n",
              "    };\n",
              "  }\n",
              "\n",
              "  for (const file of files) {\n",
              "    const li = document.createElement('li');\n",
              "    li.append(span(file.name, {fontWeight: 'bold'}));\n",
              "    li.append(span(\n",
              "        `(${file.type || 'n/a'}) - ${file.size} bytes, ` +\n",
              "        `last modified: ${\n",
              "            file.lastModifiedDate ? file.lastModifiedDate.toLocaleDateString() :\n",
              "                                    'n/a'} - `));\n",
              "    const percent = span('0% done');\n",
              "    li.appendChild(percent);\n",
              "\n",
              "    outputElement.appendChild(li);\n",
              "\n",
              "    const fileDataPromise = new Promise((resolve) => {\n",
              "      const reader = new FileReader();\n",
              "      reader.onload = (e) => {\n",
              "        resolve(e.target.result);\n",
              "      };\n",
              "      reader.readAsArrayBuffer(file);\n",
              "    });\n",
              "    // Wait for the data to be ready.\n",
              "    let fileData = yield {\n",
              "      promise: fileDataPromise,\n",
              "      response: {\n",
              "        action: 'continue',\n",
              "      }\n",
              "    };\n",
              "\n",
              "    // Use a chunked sending to avoid message size limits. See b/62115660.\n",
              "    let position = 0;\n",
              "    do {\n",
              "      const length = Math.min(fileData.byteLength - position, MAX_PAYLOAD_SIZE);\n",
              "      const chunk = new Uint8Array(fileData, position, length);\n",
              "      position += length;\n",
              "\n",
              "      const base64 = btoa(String.fromCharCode.apply(null, chunk));\n",
              "      yield {\n",
              "        response: {\n",
              "          action: 'append',\n",
              "          file: file.name,\n",
              "          data: base64,\n",
              "        },\n",
              "      };\n",
              "\n",
              "      let percentDone = fileData.byteLength === 0 ?\n",
              "          100 :\n",
              "          Math.round((position / fileData.byteLength) * 100);\n",
              "      percent.textContent = `${percentDone}% done`;\n",
              "\n",
              "    } while (position < fileData.byteLength);\n",
              "  }\n",
              "\n",
              "  // All done.\n",
              "  yield {\n",
              "    response: {\n",
              "      action: 'complete',\n",
              "    }\n",
              "  };\n",
              "}\n",
              "\n",
              "scope.google = scope.google || {};\n",
              "scope.google.colab = scope.google.colab || {};\n",
              "scope.google.colab._files = {\n",
              "  _uploadFiles,\n",
              "  _uploadFilesContinue,\n",
              "};\n",
              "})(self);\n",
              "</script> "
            ]
          },
          "metadata": {}
        },
        {
          "output_type": "stream",
          "name": "stdout",
          "text": [
            "Saving 16000_pcm_speeches.zip to 16000_pcm_speeches.zip\n"
          ]
        }
      ]
    },
    {
      "cell_type": "markdown",
      "source": [
        "Extrae el archivo .zip: Una vez que hayas subido el archivo .zip, este código extraerá el contenido del archivo \"dataset.zip\" en el directorio \"/content/dataset/\" de Colab. Puedes cambiar la ruta de extracción según sea necesario.\n",
        "\n",
        "puedes extraerlo usando el siguiente código:\n"
      ],
      "metadata": {
        "id": "rHlKE5NZ_jKf"
      }
    },
    {
      "cell_type": "code",
      "source": [
        "import zipfile\n",
        "\n",
        "with zipfile.ZipFile('16000_pcm_speeches.zip', 'r') as zip_ref:\n",
        "    zip_ref.extractall('/content/dataset')"
      ],
      "metadata": {
        "id": "iIR1ejqs_swn"
      },
      "execution_count": 11,
      "outputs": []
    },
    {
      "cell_type": "markdown",
      "source": [
        "Accede a los archivos del dataset: Ahora que el dataset está descomprimido en el entorno de Colab, puedes acceder a sus archivos normalmente utilizando la ruta donde se extrajo el dataset.\n",
        "\n",
        "Por ejemplo, si dentro del dataset hay un archivo llamado \"archivo.txt\", puedes acceder a él así:"
      ],
      "metadata": {
        "id": "-plmjEbTDkAt"
      }
    },
    {
      "cell_type": "code",
      "source": [
        "# Definimos un conjunto de constantes con las rutas de las carpetas que contienen los audios de cada persona\n",
        "import os\n",
        "\n",
        "DATASET_ROOT = \"/content/dataset/16000_pcm_speeches\"\n",
        "BENJAMIN_DATA = os.path.join(DATASET_ROOT, \"Benjamin_Netanyau\")\n",
        "JENS_DATA = os.path.join(DATASET_ROOT, \"Jens_Stoltenberg\")\n",
        "JULIA_DATA = os.path.join(DATASET_ROOT, \"Julia_Gillard\")\n",
        "MARGARET_DATA = os.path.join(DATASET_ROOT, \"Margaret_Tarcher\")\n",
        "NELSON_DATA = os.path.join(DATASET_ROOT, \"Nelson_Mandela\")"
      ],
      "metadata": {
        "id": "X1CNVv6Eyh8U"
      },
      "execution_count": 18,
      "outputs": []
    },
    {
      "cell_type": "markdown",
      "source": [
        "Para procesar el audio vamos a requerir una librería externa que debemos instalar en el contecto de nuestro Jupyter Notebook, concretamente la librería que vamos a utilizar es librosa: https://librosa.org/doc/latest/index.html"
      ],
      "metadata": {
        "id": "e-oi7CE8zvDW"
      }
    },
    {
      "cell_type": "code",
      "source": [
        "import IPython.display as ipd\n",
        "\n",
        "# Define la ruta base donde se encuentran los archivos de audio\n",
        "\n",
        "BENJAMIN_DATA = os.path.join(DATASET_ROOT, \"Benjamin_Netanyau\")\n",
        "\n",
        "# Ruta del archivo de audio\n",
        "audio_path = os.path.join(BENJAMIN_DATA, \"22.wav\")  # Ajusta la ruta según sea necesario\n",
        "ipd.Audio(audio_path)"
      ],
      "metadata": {
        "colab": {
          "base_uri": "https://localhost:8080/",
          "height": 75
        },
        "id": "Ff21nULlzt_q",
        "outputId": "0e2b2f05-8df4-4c6d-cd2e-f68ddfefba28"
      },
      "execution_count": 20,
      "outputs": [
        {
          "output_type": "execute_result",
          "data": {
            "text/plain": [
              "<IPython.lib.display.Audio object>"
            ],
            "text/html": [
              "\n",
              "                <audio  controls=\"controls\" >\n",
              "                    <source src=\"data:audio/x-wav;base64,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\" type=\"audio/x-wav\" />\n",
              "                    Your browser does not support the audio element.\n",
              "                </audio>\n",
              "              "
            ]
          },
          "metadata": {},
          "execution_count": 20
        }
      ]
    },
    {
      "cell_type": "code",
      "source": [
        "# Cargamos el audio mediante la libreria librosa\n",
        "import librosa\n",
        "\n",
        "wav, sr = librosa.load(os.path.join(BENJAMIN_DATA, \"22.wav\"))"
      ],
      "metadata": {
        "id": "gDX11zXT07FA"
      },
      "execution_count": 21,
      "outputs": []
    },
    {
      "cell_type": "markdown",
      "source": [
        "El método load de librosa nos devuelve dos resultados:\n",
        "\n",
        "1. Nos devuelve la onda que representa el sonido que estamos cargando en el contexto de nuestro Jupyter Notebook.\n",
        "2. Nos devuelve el ratio de sampleo.\n",
        "\n",
        "El sonido es una señal análoga, para poder hacerla digital y poderla representar numéricamente tenemos que muestrear la señal original.\n",
        "\n",
        "El muestreo consiste en \"seleccionar\" un número finito de puntos de la señal original y almacenarlos en una matriz. El teorema de muestreo de Nyquist-Shannon mostró que si nuestra tasa de muestreo es lo suficientmente alta, somos capaces de capturar toda la información de la señal e incluso recuperarla completamente."
      ],
      "metadata": {
        "id": "8nuy0ov1HENp"
      }
    },
    {
      "cell_type": "code",
      "source": [
        "print(wav)"
      ],
      "metadata": {
        "colab": {
          "base_uri": "https://localhost:8080/"
        },
        "id": "NLsWzRXOG_8g",
        "outputId": "42ad0486-c821-4b0f-e051-4268acb11ef1"
      },
      "execution_count": 22,
      "outputs": [
        {
          "output_type": "stream",
          "name": "stdout",
          "text": [
            "[ 0.03782462  0.07599637  0.14084502 ... -0.01175935  0.01080641\n",
            "  0.01450372]\n"
          ]
        }
      ]
    },
    {
      "cell_type": "code",
      "source": [
        "print(sr)"
      ],
      "metadata": {
        "colab": {
          "base_uri": "https://localhost:8080/"
        },
        "id": "KiWb0KJmJYSp",
        "outputId": "4246f935-146f-41d2-cf9e-2426c183b104"
      },
      "execution_count": 23,
      "outputs": [
        {
          "output_type": "stream",
          "name": "stdout",
          "text": [
            "22050\n"
          ]
        }
      ]
    },
    {
      "cell_type": "markdown",
      "source": [
        "La tasa de muestreo es muy importante, y la usaremos más adelante en diferentes algoritmos. Generalmente se expresa en hercios (Hz), es decir, el número de puntos (muestras) por segundo.\n",
        "\n",
        "En nuestro ejemplo, sr = 22050 por lo que tenemos 22050 muestras por segundo, por lo tanto, podemos calcular la longitud del audio de la siguiente forma:"
      ],
      "metadata": {
        "id": "JlHhG_PQJo4T"
      }
    },
    {
      "cell_type": "code",
      "source": [
        "# Con la tasa de muestreo y el tamaño total de la señal se puede calcular la longitud del audio\n",
        "long_audio = len(wav)/sr\n",
        "print(\"La longitud del audio en segundos es: \", long_audio)"
      ],
      "metadata": {
        "colab": {
          "base_uri": "https://localhost:8080/"
        },
        "id": "yblEvOSjJl83",
        "outputId": "53ac0404-766c-45bd-fa37-be39bb679d06"
      },
      "execution_count": 24,
      "outputs": [
        {
          "output_type": "stream",
          "name": "stdout",
          "text": [
            "La longitud del audio en segundos es:  1.0\n"
          ]
        }
      ]
    },
    {
      "cell_type": "markdown",
      "source": [
        "Una de las cosas interesantes que debemos hacer para obtener intuiciones sobre nuestra onda de sonido es representarla gráficamente."
      ],
      "metadata": {
        "id": "X8FHX_yWLnJQ"
      }
    },
    {
      "cell_type": "code",
      "source": [
        "# Representación gráfica de la onda de sonido\n",
        "from matplotlib import pyplot as plt\n",
        "\n",
        "plt.plot(wav)\n",
        "plt.show()"
      ],
      "metadata": {
        "colab": {
          "base_uri": "https://localhost:8080/",
          "height": 434
        },
        "id": "XH0APQCsK29n",
        "outputId": "414548f3-5e99-4bd6-b7a6-467bc14070a4"
      },
      "execution_count": 25,
      "outputs": [
        {
          "output_type": "display_data",
          "data": {
            "text/plain": [
              "<Figure size 640x480 with 1 Axes>"
            ],
            "image/png": "[encoded data removed]"
          },
          "metadata": {}
        }
      ]
    },
    {
      "cell_type": "markdown",
      "source": [
        "También podemos hacer zoom en determinados pintos específicos seleccionados durante el muestreo."
      ],
      "metadata": {
        "id": "yutr4OpQMJGT"
      }
    },
    {
      "cell_type": "code",
      "source": [
        "plt.plot(wav[1000:1200])\n",
        "plt.show()"
      ],
      "metadata": {
        "colab": {
          "base_uri": "https://localhost:8080/",
          "height": 430
        },
        "id": "pEL9VSNvMR7S",
        "outputId": "893b3140-5a52-405d-d106-684f03af8489"
      },
      "execution_count": 26,
      "outputs": [
        {
          "output_type": "display_data",
          "data": {
            "text/plain": [
              "<Figure size 640x480 with 1 Axes>"
            ],
            "image/png": "[encoded data removed]"
          },
          "metadata": {}
        }
      ]
    },
    {
      "cell_type": "markdown",
      "source": [
        "Hay algo muy importante que debemos tener en cuenta respecto a lo comentado anteriormente, en realidad, la tasa de muestreo real para el audio que hemos cargado no es 22050 Hz, librosa implicitamente remuestrea nuestros archivos para obtener este valor estándar. Para obtener la tasa de muestreo original, podemos usar el argumento **sr=flase** en el método **load**:"
      ],
      "metadata": {
        "id": "VUwZk-kXMJFA"
      }
    },
    {
      "cell_type": "code",
      "source": [
        "wav, sr = librosa.load(os.path.join(BENJAMIN_DATA, \"22.wav\"), sr=None)"
      ],
      "metadata": {
        "id": "VlinucDoL7Nt"
      },
      "execution_count": 29,
      "outputs": []
    },
    {
      "cell_type": "code",
      "source": [
        "print(\"Tasa de muestreo: {} Hz\".format(sr))"
      ],
      "metadata": {
        "colab": {
          "base_uri": "https://localhost:8080/"
        },
        "id": "AjX2lM9_NXSJ",
        "outputId": "1c1b4a00-0a23-49ac-8148-dfdd02623a35"
      },
      "execution_count": 30,
      "outputs": [
        {
          "output_type": "stream",
          "name": "stdout",
          "text": [
            "Tasa de muestreo: 16000 Hz\n"
          ]
        }
      ]
    },
    {
      "cell_type": "markdown",
      "source": [
        "## 1. Preparación del conjunto de datos\n",
        "\n",
        "Vamos a comenzar intentando utilizar esta representación del sonido para tratar de identificar el orador al que pertence la grabación mediante el uso de un Perceptrón Multicapa.\n",
        "\n",
        "Hay que tener en cuenta que para este tipo de casos prácticos debemos intentar buscar las voces de los oradores emitidas por diferentes altavoces o dispositivos de sonido para que la clasificación no dependa de altavoz que se esta utilizando."
      ],
      "metadata": {
        "id": "vCeJAuj3OcR-"
      }
    },
    {
      "cell_type": "code",
      "source": [
        "# Definimos una función para parsear nuestro conjunto de datos\n",
        "def parse_dataset(dataset_paths):\n",
        "  X = []\n",
        "  y = []\n",
        "  for index, dataset in enumerate(dataset_paths):\n",
        "    print(\"[+] Parsing {} data...\".format(dataset))\n",
        "    for fname in os.listdir(dataset):\n",
        "      wav, sr = librosa.load(os.path.join(dataset, fname), sr=None)\n",
        "      X.append(wav)\n",
        "      y.append(index)\n",
        "  return (X,y)"
      ],
      "metadata": {
        "id": "q_Y3fGTQNjFN"
      },
      "execution_count": 31,
      "outputs": []
    },
    {
      "cell_type": "code",
      "source": [
        "X, y = parse_dataset([BENJAMIN_DATA, JENS_DATA])"
      ],
      "metadata": {
        "colab": {
          "base_uri": "https://localhost:8080/"
        },
        "id": "GtReeOMoQBBo",
        "outputId": "e19a1367-ab6b-4720-b907-e132b7f873ed"
      },
      "execution_count": 32,
      "outputs": [
        {
          "output_type": "stream",
          "name": "stdout",
          "text": [
            "[+] Parsing /content/dataset/16000_pcm_speeches/Benjamin_Netanyau data...\n",
            "[+] Parsing /content/dataset/16000_pcm_speeches/Jens_Stoltenberg data...\n"
          ]
        }
      ]
    },
    {
      "cell_type": "code",
      "source": [
        "print(\"La longitud del conjunto de datos es: \", len(X))"
      ],
      "metadata": {
        "colab": {
          "base_uri": "https://localhost:8080/"
        },
        "id": "klukmvQ6QJjr",
        "outputId": "5ee85c8e-8501-4aa6-cbe8-8902be5255ab"
      },
      "execution_count": 33,
      "outputs": [
        {
          "output_type": "stream",
          "name": "stdout",
          "text": [
            "La longitud del conjunto de datos es:  3000\n"
          ]
        }
      ]
    },
    {
      "cell_type": "markdown",
      "source": [
        "## 2. División del conjunto de datos"
      ],
      "metadata": {
        "id": "m5I4rbrJQlUw"
      }
    },
    {
      "cell_type": "code",
      "source": [
        "# Dividimos el conjunto de datos en entrenamiento y pruebas\n",
        "from sklearn.model_selection import train_test_split\n",
        "\n",
        "X_train, X_test, y_train, y_test = train_test_split(X, y, test_size=0.05)"
      ],
      "metadata": {
        "id": "UtUOGK6xQkeQ"
      },
      "execution_count": 34,
      "outputs": []
    },
    {
      "cell_type": "code",
      "source": [
        "print(\"Longitud del subconjunto de entrenamiento: \", len(X_train))\n",
        "print(\"Longitud del subconjunto de pruebas: \", len(X_test))"
      ],
      "metadata": {
        "colab": {
          "base_uri": "https://localhost:8080/"
        },
        "id": "QbTjFPGART77",
        "outputId": "7665675c-f047-41e3-b7db-c9386f8eb0ee"
      },
      "execution_count": 35,
      "outputs": [
        {
          "output_type": "stream",
          "name": "stdout",
          "text": [
            "Longitud del subconjunto de entrenamiento:  2850\n",
            "Longitud del subconjunto de pruebas:  150\n"
          ]
        }
      ]
    },
    {
      "cell_type": "markdown",
      "source": [
        "## 3. Construcción del modelo"
      ],
      "metadata": {
        "id": "oiKUYP1bRnl3"
      }
    },
    {
      "cell_type": "code",
      "source": [
        "# Entrenamos un perceptrón multicapa\n",
        "from sklearn.neural_network import MLPClassifier\n",
        "\n",
        "clf = MLPClassifier(activation='logistic', hidden_layer_sizes=(10,), solver=\"sgd\")\n",
        "clf.fit(X_train, y_train)"
      ],
      "metadata": {
        "colab": {
          "base_uri": "https://localhost:8080/",
          "height": 129
        },
        "id": "0mITmL8IRjrr",
        "outputId": "6c9086b8-0220-4689-8d17-1048a785a5fe"
      },
      "execution_count": 36,
      "outputs": [
        {
          "output_type": "stream",
          "name": "stderr",
          "text": [
            "/usr/local/lib/python3.10/dist-packages/sklearn/neural_network/_multilayer_perceptron.py:686: ConvergenceWarning: Stochastic Optimizer: Maximum iterations (200) reached and the optimization hasn't converged yet.\n",
            "  warnings.warn(\n"
          ]
        },
        {
          "output_type": "execute_result",
          "data": {
            "text/plain": [
              "MLPClassifier(activation='logistic', hidden_layer_sizes=(10,), solver='sgd')"
            ],
            "text/html": [
              "<style>#sk-container-id-1 {color: black;background-color: white;}#sk-container-id-1 pre{padding: 0;}#sk-container-id-1 div.sk-toggleable {background-color: white;}#sk-container-id-1 label.sk-toggleable__label {cursor: pointer;display: block;width: 100%;margin-bottom: 0;padding: 0.3em;box-sizing: border-box;text-align: center;}#sk-container-id-1 label.sk-toggleable__label-arrow:before {content: \"▸\";float: left;margin-right: 0.25em;color: #696969;}#sk-container-id-1 label.sk-toggleable__label-arrow:hover:before {color: black;}#sk-container-id-1 div.sk-estimator:hover label.sk-toggleable__label-arrow:before {color: black;}#sk-container-id-1 div.sk-toggleable__content {max-height: 0;max-width: 0;overflow: hidden;text-align: left;background-color: #f0f8ff;}#sk-container-id-1 div.sk-toggleable__content pre {margin: 0.2em;color: black;border-radius: 0.25em;background-color: #f0f8ff;}#sk-container-id-1 input.sk-toggleable__control:checked~div.sk-toggleable__content {max-height: 200px;max-width: 100%;overflow: auto;}#sk-container-id-1 input.sk-toggleable__control:checked~label.sk-toggleable__label-arrow:before {content: \"▾\";}#sk-container-id-1 div.sk-estimator input.sk-toggleable__control:checked~label.sk-toggleable__label {background-color: #d4ebff;}#sk-container-id-1 div.sk-label input.sk-toggleable__control:checked~label.sk-toggleable__label {background-color: #d4ebff;}#sk-container-id-1 input.sk-hidden--visually {border: 0;clip: rect(1px 1px 1px 1px);clip: rect(1px, 1px, 1px, 1px);height: 1px;margin: -1px;overflow: hidden;padding: 0;position: absolute;width: 1px;}#sk-container-id-1 div.sk-estimator {font-family: monospace;background-color: #f0f8ff;border: 1px dotted black;border-radius: 0.25em;box-sizing: border-box;margin-bottom: 0.5em;}#sk-container-id-1 div.sk-estimator:hover {background-color: #d4ebff;}#sk-container-id-1 div.sk-parallel-item::after {content: \"\";width: 100%;border-bottom: 1px solid gray;flex-grow: 1;}#sk-container-id-1 div.sk-label:hover label.sk-toggleable__label {background-color: #d4ebff;}#sk-container-id-1 div.sk-serial::before {content: \"\";position: absolute;border-left: 1px solid gray;box-sizing: border-box;top: 0;bottom: 0;left: 50%;z-index: 0;}#sk-container-id-1 div.sk-serial {display: flex;flex-direction: column;align-items: center;background-color: white;padding-right: 0.2em;padding-left: 0.2em;position: relative;}#sk-container-id-1 div.sk-item {position: relative;z-index: 1;}#sk-container-id-1 div.sk-parallel {display: flex;align-items: stretch;justify-content: center;background-color: white;position: relative;}#sk-container-id-1 div.sk-item::before, #sk-container-id-1 div.sk-parallel-item::before {content: \"\";position: absolute;border-left: 1px solid gray;box-sizing: border-box;top: 0;bottom: 0;left: 50%;z-index: -1;}#sk-container-id-1 div.sk-parallel-item {display: flex;flex-direction: column;z-index: 1;position: relative;background-color: white;}#sk-container-id-1 div.sk-parallel-item:first-child::after {align-self: flex-end;width: 50%;}#sk-container-id-1 div.sk-parallel-item:last-child::after {align-self: flex-start;width: 50%;}#sk-container-id-1 div.sk-parallel-item:only-child::after {width: 0;}#sk-container-id-1 div.sk-dashed-wrapped {border: 1px dashed gray;margin: 0 0.4em 0.5em 0.4em;box-sizing: border-box;padding-bottom: 0.4em;background-color: white;}#sk-container-id-1 div.sk-label label {font-family: monospace;font-weight: bold;display: inline-block;line-height: 1.2em;}#sk-container-id-1 div.sk-label-container {text-align: center;}#sk-container-id-1 div.sk-container {/* jupyter's `normalize.less` sets `[hidden] { display: none; }` but bootstrap.min.css set `[hidden] { display: none !important; }` so we also need the `!important` here to be able to override the default hidden behavior on the sphinx rendered scikit-learn.org. See: https://github.com/scikit-learn/scikit-learn/issues/21755 */display: inline-block !important;position: relative;}#sk-container-id-1 div.sk-text-repr-fallback {display: none;}</style><div id=\"sk-container-id-1\" class=\"sk-top-container\"><div class=\"sk-text-repr-fallback\"><pre>MLPClassifier(activation=&#x27;logistic&#x27;, hidden_layer_sizes=(10,), solver=&#x27;sgd&#x27;)</pre><b>In a Jupyter environment, please rerun this cell to show the HTML representation or trust the notebook. <br />On GitHub, the HTML representation is unable to render, please try loading this page with nbviewer.org.</b></div><div class=\"sk-container\" hidden><div class=\"sk-item\"><div class=\"sk-estimator sk-toggleable\"><input class=\"sk-toggleable__control sk-hidden--visually\" id=\"sk-estimator-id-1\" type=\"checkbox\" checked><label for=\"sk-estimator-id-1\" class=\"sk-toggleable__label sk-toggleable__label-arrow\">MLPClassifier</label><div class=\"sk-toggleable__content\"><pre>MLPClassifier(activation=&#x27;logistic&#x27;, hidden_layer_sizes=(10,), solver=&#x27;sgd&#x27;)</pre></div></div></div></div></div>"
            ]
          },
          "metadata": {},
          "execution_count": 36
        }
      ]
    },
    {
      "cell_type": "code",
      "source": [
        "# Realizamos la predicción con el conjunto de datos de prueba\n",
        "y_pred = clf.predict(X_test)"
      ],
      "metadata": {
        "id": "n3VnLDAWSxcY"
      },
      "execution_count": 37,
      "outputs": []
    },
    {
      "cell_type": "code",
      "source": [
        "# Mostramos el f1_score resultante de la clasificación\n",
        "from sklearn.metrics import f1_score\n",
        "f1_score(y_test, y_pred, average=\"weighted\")"
      ],
      "metadata": {
        "colab": {
          "base_uri": "https://localhost:8080/"
        },
        "id": "jFwO5WMBS7A1",
        "outputId": "388d312e-37f7-4189-c580-dbe7a9414b03"
      },
      "execution_count": 38,
      "outputs": [
        {
          "output_type": "execute_result",
          "data": {
            "text/plain": [
              "0.49251082251082245"
            ]
          },
          "metadata": {},
          "execution_count": 38
        }
      ]
    },
    {
      "cell_type": "code",
      "source": [],
      "metadata": {
        "id": "AvSapMy1TNdF"
      },
      "execution_count": null,
      "outputs": []
    },
    {
      "cell_type": "markdown",
      "source": [
        "Se tiene 16000 características de entrada (tasa de muestreo) las cuales entran a cada una de las TLU de la hidden layer (10 neuronas), más los terminos byas (10), más una output layer.  "
      ],
      "metadata": {
        "id": "pGoX627jUHYI"
      }
    },
    {
      "cell_type": "code",
      "source": [],
      "metadata": {
        "id": "-Tvm9EcZVIP9"
      },
      "execution_count": null,
      "outputs": []
    }
  ]
}