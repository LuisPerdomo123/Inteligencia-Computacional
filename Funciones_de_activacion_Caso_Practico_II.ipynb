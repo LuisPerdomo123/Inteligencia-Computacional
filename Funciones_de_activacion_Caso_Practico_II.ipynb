{
  "nbformat": 4,
  "nbformat_minor": 0,
  "metadata": {
    "colab": {
      "provenance": [],
      "authorship_tag": "ABX9TyOIsZLmOgpu0D6/Mo/OWhum",
      "include_colab_link": true
    },
    "kernelspec": {
      "name": "python3",
      "display_name": "Python 3"
    },
    "language_info": {
      "name": "python"
    }
  },
  "cells": [
    {
      "cell_type": "markdown",
      "metadata": {
        "id": "view-in-github",
        "colab_type": "text"
      },
      "source": [
        "<a href=\"https://colab.research.google.com/github/LuisPerdomo123/Inteligencia-Computacional/blob/main/Funciones_de_activacion_Caso_Practico_II.ipynb\" target=\"_parent\"><img src=\"https://colab.research.google.com/assets/colab-badge.svg\" alt=\"Open In Colab\"/></a>"
      ]
    },
    {
      "cell_type": "markdown",
      "source": [
        "# Caso Práctico: Clasificación de sentimientos\n",
        "\n",
        "## Conjunto de datos\n",
        "\n",
        "Este es un conjunto de datos está formado por 25.000 críticas de películas de IMDB (Internet Movie Database) etiquetadas por sentimiento (positivo/negativo). Las reseñas han sido preprocesadas, y cada reseña está codificada como una lista de indices de palabras (números enteros). Para mayor comodidad, las palabras se indexan por frecuencia general en el conjunto de datos, de modo que, por ejemplo, el número entero '3' codifica la tercera palabra más frecuente en los datos. Esto permite realizar operaciones de filtrado rápido como considerar solo las 10.000 palabras más comunes."
      ],
      "metadata": {
        "id": "URNCuFINEu-U"
      }
    },
    {
      "cell_type": "markdown",
      "source": [
        "## 1. Cargando el conjunto de datos"
      ],
      "metadata": {
        "id": "lqA9NQ5iF5Zb"
      }
    },
    {
      "cell_type": "code",
      "execution_count": 1,
      "metadata": {
        "id": "pFFUuoLHEtKs"
      },
      "outputs": [],
      "source": [
        "from tensorflow.keras.datasets import imdb"
      ]
    },
    {
      "cell_type": "code",
      "source": [
        "(train_data, train_labels), (test_data, test_labels) = imdb.load_data(num_words=10000)"
      ],
      "metadata": {
        "colab": {
          "base_uri": "https://localhost:8080/"
        },
        "id": "apc5WCzGGBfo",
        "outputId": "490087a4-6837-4a3a-9b6a-d92dd2d8cd14"
      },
      "execution_count": 2,
      "outputs": [
        {
          "output_type": "stream",
          "name": "stdout",
          "text": [
            "Downloading data from https://storage.googleapis.com/tensorflow/tf-keras-datasets/imdb.npz\n",
            "17464789/17464789 [==============================] - 0s 0us/step\n"
          ]
        }
      ]
    },
    {
      "cell_type": "code",
      "source": [],
      "metadata": {
        "id": "QoFW19mjGYNe"
      },
      "execution_count": null,
      "outputs": []
    }
  ]
}