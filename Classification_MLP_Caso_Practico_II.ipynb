{
  "nbformat": 4,
  "nbformat_minor": 0,
  "metadata": {
    "colab": {
      "provenance": [],
      "toc_visible": true,
      "authorship_tag": "ABX9TyN6m5ZxEcCLyT/aaNooruRd",
      "include_colab_link": true
    },
    "kernelspec": {
      "name": "python3",
      "display_name": "Python 3"
    },
    "language_info": {
      "name": "python"
    }
  },
  "cells": [
    {
      "cell_type": "markdown",
      "metadata": {
        "id": "view-in-github",
        "colab_type": "text"
      },
      "source": [
        "<a href=\"https://colab.research.google.com/github/LuisPerdomo123/Inteligencia-Computacional/blob/main/Classification_MLP_Caso_Practico_II.ipynb\" target=\"_parent\"><img src=\"https://colab.research.google.com/assets/colab-badge.svg\" alt=\"Open In Colab\"/></a>"
      ]
    },
    {
      "cell_type": "markdown",
      "source": [
        "# Clasidicación MLP - Caso Práctico II\n",
        "\n",
        "## Conjunto de datos: Detección de trasacciones bancarias fraudulentas\n",
        "\n",
        "### Descripción\n",
        "The datasets contains transactions made by credit cards in September 2013 by european cardholders. This dataset presents transactions that occurred in two days, where we have 492 frauds out of 284,807 transactions.The dataset is highly unbalanced, the positive class (frauds) account for 0.172 % of all transactions.\n",
        "\n",
        "It contains only numerical input variables which are the result of a PCA transformation. Unfortunately, due to confidentiality issues, we connot provide the original features and more background information about the data. Features V1, V2, ... V28 are the principal componets obtained with PCA, the only features which have not been transformed with PCA are 'Time' contains the seconds elapsed between each transaction and 'Amount'. Feature 'Time' contains the second elapsed between each transaction and the first transaction in the dataset. The feature 'Amount' is the transaction Amount, this feature can be used for example-dependant cost-senstive learning. Feature 'Class' is the response variable and takes value 1 in case of fraud and 0 otherwise."
      ],
      "metadata": {
        "id": "T1xLxC2dUoFG"
      }
    },
    {
      "cell_type": "markdown",
      "source": [
        "### Descarga de los ficheros de datos\n",
        "\n",
        "https://www.kaggle.com/mlg-ulb/creditcardfraud#creditcard.csv"
      ],
      "metadata": {
        "id": "3h5nXd13YBHf"
      }
    },
    {
      "cell_type": "markdown",
      "source": [
        "### Referencias adicionales sobre el conjunto de datos\n",
        "The dataset has been collected and analysed during research collaboration of Worldline and th Machine Learning Group (http://mlg.ulb.ac.be) of OLB (Université Libre de Bruxelles) on big data mining and fraud detection. More details on current and past projects on related topics are available on https://www.researchgate.net/project/Fraud-detection-5 and the page of the DefeatFraud project."
      ],
      "metadata": {
        "id": "61OtQlyXYKny"
      }
    },
    {
      "cell_type": "markdown",
      "source": [
        "## Imports"
      ],
      "metadata": {
        "id": "dk_JUTRSaMbj"
      }
    },
    {
      "cell_type": "code",
      "source": [
        "%matplotlib inline\n",
        "import matplotlib.pyplot as plt\n",
        "import pandas as pd\n",
        "import matplotlib.gridspec as gridspec\n",
        "from collections import Counter\n",
        "from sklearn import metrics\n",
        "import numpy as np\n",
        "from sklearn.model_selection import train_test_split\n",
        "from matplotlib.colors import LogNorm\n",
        "from sklearn.metrics import f1_score"
      ],
      "metadata": {
        "id": "fqWBbElCW3w5"
      },
      "execution_count": 2,
      "outputs": []
    },
    {
      "cell_type": "markdown",
      "source": [
        "## Funciones auxiliares"
      ],
      "metadata": {
        "id": "HgW3mXMJbLVp"
      }
    },
    {
      "cell_type": "code",
      "source": [
        "# Construcción de una función que realice el particionado completo\n",
        "def train_val_test_split(df, rstate=42, shuffle=True, stratify=None):\n",
        "  strat = df[stratify] if stratify else None\n",
        "  train_set, test_set = train_test_split(\n",
        "      df, test_size=0.4, random_state=rstate, shuffle=shuffle, stratify=start)\n",
        "  start = test_set[stratify] if stratify else None\n",
        "  val_set, test_set = train_test_split(\n",
        "      test_set, test_size=0.5, random_state=rstate, shuffle=shuffle, stratify=start)\n",
        "  return (train_set, val_set, test_set)"
      ],
      "metadata": {
        "id": "Zq4fY8luarhv"
      },
      "execution_count": 3,
      "outputs": []
    },
    {
      "cell_type": "code",
      "source": [
        "def remove_labels(df, label_name):\n",
        "  X = df.drop(label_name, axis=1)\n",
        "  y = df[label_name].copy()\n",
        "  return (X, y)"
      ],
      "metadata": {
        "id": "3l5nOddbchlh"
      },
      "execution_count": 7,
      "outputs": []
    },
    {
      "cell_type": "markdown",
      "source": [
        "## 1. Lectura del conjunto de datos"
      ],
      "metadata": {
        "id": "SzUAn3MVd2Xu"
      }
    },
    {
      "cell_type": "code",
      "source": [],
      "metadata": {
        "id": "xjatNvPcdlBn"
      },
      "execution_count": null,
      "outputs": []
    }
  ]
}