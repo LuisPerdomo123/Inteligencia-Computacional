{
  "nbformat": 4,
  "nbformat_minor": 0,
  "metadata": {
    "colab": {
      "provenance": [],
      "authorship_tag": "ABX9TyPG/I3Xvvx3mg8+JnAbq/+C",
      "include_colab_link": true
    },
    "kernelspec": {
      "name": "python3",
      "display_name": "Python 3"
    },
    "language_info": {
      "name": "python"
    }
  },
  "cells": [
    {
      "cell_type": "markdown",
      "metadata": {
        "id": "view-in-github",
        "colab_type": "text"
      },
      "source": [
        "<a href=\"https://colab.research.google.com/github/LuisPerdomo123/Inteligencia-Computacional/blob/main/Funciones_de_Optimizacion_Caso_practico_II.ipynb\" target=\"_parent\"><img src=\"https://colab.research.google.com/assets/colab-badge.svg\" alt=\"Open In Colab\"/></a>"
      ]
    },
    {
      "cell_type": "markdown",
      "source": [
        "# Funciones de Optimización: Stochastic Gradient Descent"
      ],
      "metadata": {
        "id": "1Q2BYoRMYLO4"
      }
    },
    {
      "cell_type": "markdown",
      "source": [
        "## Conjunto de datos\n",
        "\n",
        "Este es un conjunto de datos de 11.228 noticias de Reuters, etiquetadas en 46 temas.\n",
        "\n",
        "Esto fue originalmente generado por el análisis y preprocesamiento del clásico conjunto de datos de Reuters-21578, pero el código de preprocesamiento ya no está empaquetado con Keras.\n",
        "\n",
        "Cada noticia está codificado como una lista de índices de palabras (números enteros). Para mayor comodidad, las palabras se indexan por la frecuencia general en el conjunto de datos, de modo que, por ejemplo, el número entero \"3\" codifica la tercera palabra más frecuente en los datos. Esto permite realizar operaciones de filtrado rápido como: \"considerar sólo las 10.000 palabras más comunes, pero eliminar las 20 palabras más comunes\"."
      ],
      "metadata": {
        "id": "SSL0fcEhYOru"
      }
    },
    {
      "cell_type": "markdown",
      "source": [
        "## 1. Cargando el conjunto de datos"
      ],
      "metadata": {
        "id": "_RKTPigvYWMq"
      }
    },
    {
      "cell_type": "code",
      "source": [
        "from tensorflow.keras.datasets import reuters"
      ],
      "metadata": {
        "id": "G9nSVlW1YaLA"
      },
      "execution_count": 12,
      "outputs": []
    },
    {
      "cell_type": "code",
      "source": [
        "(train_data, train_labels), (test_data, test_labels) = reuters.load_data(num_words=10000)"
      ],
      "metadata": {
        "colab": {
          "base_uri": "https://localhost:8080/"
        },
        "id": "UIO1RAb7YbfS",
        "outputId": "1e94d992-8148-43b6-bb63-c2189f8beac0"
      },
      "execution_count": 13,
      "outputs": [
        {
          "output_type": "stream",
          "name": "stdout",
          "text": [
            "Downloading data from https://storage.googleapis.com/tensorflow/tf-keras-datasets/reuters.npz\n",
            "2110848/2110848 [==============================] - 0s 0us/step\n"
          ]
        }
      ]
    },
    {
      "cell_type": "markdown",
      "source": [
        "El argumento _num_words_ indica que únicamente tendremos en cuenta las 10.000 palabras más frecuentes del conjunto de datos. Por lo tanto, el resto de palabras que sean poco frecuentes, serán descartadas y no formarán parte de las reseñas con las que entrenaremos y probaremos el algoritmo."
      ],
      "metadata": {
        "id": "F1rdiGnGYhSy"
      }
    },
    {
      "cell_type": "markdown",
      "source": [
        "Tanto _train_data_ como _test_data_ se corresponden con una lista de noticias. Cada una de las noticias se corresponde con una lista de números enteros que representan el índice de una palabra. Para conocer que índice tiene cada palabra, podemos llamar al método _get_word_index()_"
      ],
      "metadata": {
        "id": "2Ht3fyy3Yj4G"
      }
    },
    {
      "cell_type": "code",
      "source": [
        "# Índices de las palabras\n",
        "word_index = reuters.get_word_index()\n",
        "word_index"
      ],
      "metadata": {
        "colab": {
          "base_uri": "https://localhost:8080/"
        },
        "id": "jnLIhK7RYmmc",
        "outputId": "536488f6-50ce-44c8-913d-af4abb042978"
      },
      "execution_count": 14,
      "outputs": [
        {
          "output_type": "stream",
          "name": "stdout",
          "text": [
            "Downloading data from https://storage.googleapis.com/tensorflow/tf-keras-datasets/reuters_word_index.json\n",
            "550378/550378 [==============================] - 0s 0us/step\n"
          ]
        },
        {
          "output_type": "execute_result",
          "data": {
            "text/plain": [
              "{'mdbl': 10996,\n",
              " 'fawc': 16260,\n",
              " 'degussa': 12089,\n",
              " 'woods': 8803,\n",
              " 'hanging': 13796,\n",
              " 'localized': 20672,\n",
              " 'sation': 20673,\n",
              " 'chanthaburi': 20675,\n",
              " 'refunding': 10997,\n",
              " 'hermann': 8804,\n",
              " 'passsengers': 20676,\n",
              " 'stipulate': 20677,\n",
              " 'heublein': 8352,\n",
              " 'screaming': 20713,\n",
              " 'tcby': 16261,\n",
              " 'four': 185,\n",
              " 'grains': 1642,\n",
              " 'broiler': 20680,\n",
              " 'wooden': 12090,\n",
              " 'wednesday': 1220,\n",
              " 'highveld': 13797,\n",
              " 'duffour': 7593,\n",
              " '0053': 20681,\n",
              " 'elections': 3914,\n",
              " '270': 2563,\n",
              " '271': 3551,\n",
              " '272': 5113,\n",
              " '273': 3552,\n",
              " '274': 3400,\n",
              " 'rudman': 7975,\n",
              " '276': 3401,\n",
              " '277': 3478,\n",
              " '278': 3632,\n",
              " '279': 4309,\n",
              " 'dormancy': 9381,\n",
              " 'errors': 7247,\n",
              " 'deferred': 3086,\n",
              " 'sptnd': 20683,\n",
              " 'cooking': 8805,\n",
              " 'stratabit': 20684,\n",
              " 'designing': 16262,\n",
              " 'metalurgicos': 20685,\n",
              " 'databank': 13798,\n",
              " '300er': 20686,\n",
              " 'shocks': 20687,\n",
              " 'nawg': 7972,\n",
              " 'tnta': 20688,\n",
              " 'perforations': 20689,\n",
              " 'affiliates': 2891,\n",
              " '27p': 20690,\n",
              " 'ching': 16263,\n",
              " 'china': 595,\n",
              " 'wagyu': 16264,\n",
              " 'affiliated': 3189,\n",
              " 'chino': 16265,\n",
              " 'chinh': 16266,\n",
              " 'slickline': 20692,\n",
              " 'doldrums': 13799,\n",
              " 'kids': 12092,\n",
              " 'climbed': 3028,\n",
              " 'controversy': 6693,\n",
              " 'kidd': 20693,\n",
              " 'spotty': 12093,\n",
              " 'rebel': 12639,\n",
              " 'millimetres': 9382,\n",
              " 'golden': 4007,\n",
              " 'projection': 5689,\n",
              " 'stern': 12094,\n",
              " \"hudson's\": 7903,\n",
              " 'dna': 10066,\n",
              " 'dnc': 20695,\n",
              " 'hodler': 20696,\n",
              " 'lme': 2394,\n",
              " 'insolvancy': 20697,\n",
              " 'music': 13800,\n",
              " 'therefore': 1984,\n",
              " 'dns': 10998,\n",
              " 'distortions': 6959,\n",
              " 'thassos': 13801,\n",
              " 'populations': 20698,\n",
              " 'meteorologist': 8806,\n",
              " 'loss': 43,\n",
              " 'exco': 9383,\n",
              " 'adventist': 20813,\n",
              " 'murchison': 16267,\n",
              " 'locked': 10999,\n",
              " 'kampala': 13802,\n",
              " 'arndt': 20699,\n",
              " 'nakasone': 1267,\n",
              " 'steinweg': 20700,\n",
              " \"india's\": 3633,\n",
              " 'wang': 3029,\n",
              " 'wane': 10067,\n",
              " 'unjust': 13803,\n",
              " 'titanium': 13804,\n",
              " 'want': 850,\n",
              " 'pinto': 20701,\n",
              " \"institutes'\": 16268,\n",
              " 'absolute': 7973,\n",
              " 'travel': 4677,\n",
              " 'cutback': 6422,\n",
              " 'nazmi': 16269,\n",
              " 'modest': 1858,\n",
              " 'shopwell': 16270,\n",
              " 'sedi': 20702,\n",
              " 'adoped': 20703,\n",
              " 'tulis': 16271,\n",
              " '18th': 20704,\n",
              " \"wmc's\": 20705,\n",
              " 'menlo': 20706,\n",
              " 'reiners': 11000,\n",
              " 'farmlands': 12095,\n",
              " 'nonsensical': 20707,\n",
              " 'elisra': 20708,\n",
              " 'welcomed': 2461,\n",
              " 'peup': 20709,\n",
              " \"holiday's\": 16272,\n",
              " 'activating': 20711,\n",
              " 'avondale': 16273,\n",
              " 'interational': 16274,\n",
              " 'welcomes': 20712,\n",
              " 'fip': 16275,\n",
              " 'tailings': 11001,\n",
              " 'fit': 4205,\n",
              " 'lifeline': 16276,\n",
              " 'bringing': 1916,\n",
              " 'fix': 4819,\n",
              " '624': 6164,\n",
              " 'naturalite': 12096,\n",
              " 'wales': 6165,\n",
              " 'fin': 8807,\n",
              " 'fio': 11129,\n",
              " 'ceremenony': 20714,\n",
              " 'sovr': 20715,\n",
              " \"yeo's\": 20716,\n",
              " 'effects': 1788,\n",
              " 'sixteen': 13805,\n",
              " 'undeveloped': 8808,\n",
              " 'glutted': 13806,\n",
              " 'barton': 20717,\n",
              " 'froday': 20718,\n",
              " 'arrow': 10089,\n",
              " 'stabilises': 11002,\n",
              " 'allan': 6960,\n",
              " '374p': 20719,\n",
              " '393': 3891,\n",
              " '392': 4008,\n",
              " '391': 4206,\n",
              " '390': 3079,\n",
              " '397': 4550,\n",
              " '396': 6166,\n",
              " '395': 6423,\n",
              " '394': 4207,\n",
              " '399': 6961,\n",
              " '398': 4208,\n",
              " 'stabilised': 7595,\n",
              " 'smelters': 5114,\n",
              " 'oprah': 20720,\n",
              " 'orginially': 20721,\n",
              " \"tvx's\": 20722,\n",
              " 'ponomarev': 16278,\n",
              " 'enviroment': 20723,\n",
              " \"reeves'\": 20724,\n",
              " 'mason': 8363,\n",
              " 'encourage': 1670,\n",
              " 'adapt': 7596,\n",
              " 'abbott': 12776,\n",
              " 'stamping': 13808,\n",
              " 'colquiri': 20726,\n",
              " 'ambrit': 11003,\n",
              " 'strata': 8353,\n",
              " 'corrects': 4821,\n",
              " 'sandra': 11922,\n",
              " 'estimate': 859,\n",
              " 'universally': 20727,\n",
              " 'chlorine': 20728,\n",
              " 'competes': 16279,\n",
              " 'leiner': 10068,\n",
              " 'ministries': 8809,\n",
              " 'disturbed': 8810,\n",
              " 'competed': 13809,\n",
              " 'juergen': 8811,\n",
              " 'kfw': 13810,\n",
              " 'turben': 11004,\n",
              " 'reintroduced': 9384,\n",
              " 'maladies': 20729,\n",
              " 'chevron': 4101,\n",
              " 'lazere': 16280,\n",
              " 'antilles': 8812,\n",
              " 'dti': 11907,\n",
              " 'specially': 9070,\n",
              " 'bilzerian': 4678,\n",
              " 'bakelite': 13811,\n",
              " 'renovated': 20730,\n",
              " 'service': 568,\n",
              " 'payless': 16281,\n",
              " 'spiegler': 20731,\n",
              " 'needed': 831,\n",
              " 'wigglesworth': 16282,\n",
              " 'master': 6962,\n",
              " 'antonson': 13812,\n",
              " 'genesis': 20732,\n",
              " 'vismara': 13813,\n",
              " 'organically': 20734,\n",
              " \"accords'\": 20735,\n",
              " 'task': 5940,\n",
              " 'positively': 7974,\n",
              " 'feasibility': 3479,\n",
              " 'ahmed': 6963,\n",
              " \"suralco's\": 13814,\n",
              " 'awacs': 20736,\n",
              " 'idly': 16283,\n",
              " 'regulator': 20737,\n",
              " 'pseudorabies': 12097,\n",
              " 'staubli': 16284,\n",
              " 'nzi': 8813,\n",
              " 'feeling': 5115,\n",
              " '275': 3127,\n",
              " '6819': 20738,\n",
              " 'gorman': 16285,\n",
              " 'sustaining': 8354,\n",
              " 'spectrum': 9385,\n",
              " 'consenting': 20739,\n",
              " 'recapitalized': 12098,\n",
              " 'sailed': 11562,\n",
              " 'dozen': 7597,\n",
              " 'affairs': 1985,\n",
              " 'courier': 2253,\n",
              " 'kremlin': 8355,\n",
              " 'shipments': 895,\n",
              " \"aquino's\": 16286,\n",
              " 'committing': 10070,\n",
              " 'sugarcane': 5293,\n",
              " 'diminishing': 9386,\n",
              " 'vexing': 16287,\n",
              " 'simplify': 11005,\n",
              " 'mouth': 6167,\n",
              " 'steinhardt': 7248,\n",
              " 'conceded': 8814,\n",
              " 'bradford': 9387,\n",
              " 'singer': 7976,\n",
              " '5602': 20740,\n",
              " \"1987's\": 13816,\n",
              " 'tech': 4950,\n",
              " 'teck': 6424,\n",
              " 'majv': 20741,\n",
              " 'saying': 666,\n",
              " 'dickey': 16477,\n",
              " 'sweetner': 20742,\n",
              " 'teresa': 21149,\n",
              " 'ulcer': 20743,\n",
              " 'cheaply': 13817,\n",
              " 'thai': 2361,\n",
              " 'orleans': 6964,\n",
              " 'excavator': 16290,\n",
              " 'rico': 6168,\n",
              " 'lube': 12099,\n",
              " 'rick': 13818,\n",
              " 'rich': 4679,\n",
              " 'kerna': 13819,\n",
              " 'rice': 950,\n",
              " 'rica': 4209,\n",
              " 'plate': 5503,\n",
              " 'platt': 16291,\n",
              " 'altogether': 8356,\n",
              " 'jaguar': 8815,\n",
              " 'dynair': 20744,\n",
              " 'patch': 8816,\n",
              " 'ldp': 2892,\n",
              " 'boarded': 13820,\n",
              " 'precluding': 16292,\n",
              " 'clarified': 11006,\n",
              " 'sensitivity': 16293,\n",
              " 'alternative': 1511,\n",
              " 'clarifies': 11007,\n",
              " 'lots': 5116,\n",
              " 'irs': 7598,\n",
              " 'irv': 20745,\n",
              " 'iri': 13821,\n",
              " 'ira': 13822,\n",
              " 'timber': 5690,\n",
              " 'ire': 20746,\n",
              " 'discipline': 5219,\n",
              " 'extend': 1937,\n",
              " 'nature': 3634,\n",
              " \"amb's\": 16295,\n",
              " 'dunhill': 16296,\n",
              " 'extent': 2142,\n",
              " 'restrcitions': 20747,\n",
              " 'heating': 2396,\n",
              " \"mannesmann's\": 11008,\n",
              " 'outsanding': 20748,\n",
              " 'multimillions': 20749,\n",
              " 'sarcinelli': 13824,\n",
              " 'southeastern': 6694,\n",
              " 'eradicate': 10071,\n",
              " 'libyan': 9388,\n",
              " 'foreclosing': 20750,\n",
              " 'maclaine': 12101,\n",
              " 'fra': 20751,\n",
              " 'union': 353,\n",
              " 'frn': 11009,\n",
              " 'much': 386,\n",
              " 'fry': 12102,\n",
              " 'mothball': 20752,\n",
              " 'chlorazepate': 10072,\n",
              " 'dxns': 12103,\n",
              " 'toyko': 19981,\n",
              " 'spit': 20753,\n",
              " '007050': 16297,\n",
              " 'freehold': 16298,\n",
              " 'davy': 13825,\n",
              " 'dave': 11010,\n",
              " 'spie': 12177,\n",
              " 'aguayo': 10117,\n",
              " 'wildcat': 12104,\n",
              " 'fecs': 10069,\n",
              " 'kennan': 20754,\n",
              " 'intal': 16299,\n",
              " 'contingencies': 9389,\n",
              " 'professionally': 16551,\n",
              " 'microbiological': 16300,\n",
              " 'misconstrued': 20756,\n",
              " 'k': 409,\n",
              " 'securitiesd': 20757,\n",
              " 'deferring': 16301,\n",
              " 'kohl': 5941,\n",
              " 'conditioned': 3030,\n",
              " 'fnhb': 20758,\n",
              " \"october's\": 16302,\n",
              " 'memorial': 13954,\n",
              " 'democracies': 6965,\n",
              " 'conformed': 27520,\n",
              " 'split': 464,\n",
              " \"bond's\": 12105,\n",
              " 'thinly': 11112,\n",
              " 'dunkirk': 16515,\n",
              " 'cavanaugh': 16303,\n",
              " \"securities'\": 13827,\n",
              " 'marches': 21345,\n",
              " 'issam': 16304,\n",
              " 'workforce': 2020,\n",
              " 'meinert': 12106,\n",
              " 'boiler': 13828,\n",
              " \"bp's\": 5294,\n",
              " 'torpedoed': 16305,\n",
              " 'indidate': 20762,\n",
              " 'downwardly': 13829,\n",
              " 'viviez': 20763,\n",
              " 'vladiminovich': 20764,\n",
              " 'academic': 16306,\n",
              " 'architecural': 20765,\n",
              " 'corporate': 1117,\n",
              " 'appropriately': 16307,\n",
              " 'teicc': 20766,\n",
              " \"hanover's\": 20767,\n",
              " 'aristech': 8817,\n",
              " 'portrayed': 20768,\n",
              " 'raffineries': 21383,\n",
              " 'hai': 20770,\n",
              " 'hal': 7599,\n",
              " 'ham': 13830,\n",
              " 'han': 10073,\n",
              " 'e15b': 20771,\n",
              " 'had': 61,\n",
              " 'hay': 20772,\n",
              " 'botchwey': 13831,\n",
              " 'haq': 10074,\n",
              " 'has': 37,\n",
              " 'hat': 13832,\n",
              " 'hav': 20773,\n",
              " 'fortin': 20774,\n",
              " 'municipal': 8818,\n",
              " 'osman': 20775,\n",
              " 'fsical': 20776,\n",
              " 'elders': 3480,\n",
              " 'survival': 12107,\n",
              " 'unequivocally': 16308,\n",
              " 'objective': 2519,\n",
              " 'indicative': 6695,\n",
              " 'shadow': 10075,\n",
              " 'riskiness': 21411,\n",
              " 'positiive': 20778,\n",
              " \"american's\": 10076,\n",
              " 'alick': 16309,\n",
              " 'harima': 16310,\n",
              " 'alice': 12108,\n",
              " 'altschul': 20779,\n",
              " 'festivities': 16311,\n",
              " 'medecines': 20780,\n",
              " 'beneficial': 2942,\n",
              " 'yoweri': 12109,\n",
              " 'crowd': 13833,\n",
              " 'crowe': 9390,\n",
              " 'crown': 3553,\n",
              " 'topping': 13679,\n",
              " 'captive': 8819,\n",
              " 'billboard': 12110,\n",
              " 'fiduciary': 6169,\n",
              " 'bottom': 3402,\n",
              " 'plucked': 20782,\n",
              " 'locksmithing': 20783,\n",
              " 'ecopetrol': 9391,\n",
              " 'pipestone': 24018,\n",
              " \"growers'\": 5505,\n",
              " 'borrows': 20785,\n",
              " 'eduard': 16312,\n",
              " 'venpres': 13834,\n",
              " 'bamboo': 16313,\n",
              " 'foolish': 13835,\n",
              " 'uruguyan': 20786,\n",
              " 'officeholders': 20787,\n",
              " 'economiques': 20788,\n",
              " 'aden': 16314,\n",
              " 'maxwell': 4822,\n",
              " 'marshall': 4680,\n",
              " 'honeymoon': 16315,\n",
              " 'administer': 16316,\n",
              " 'shoots': 20790,\n",
              " 'rubbertech': 16317,\n",
              " 'johsen': 16318,\n",
              " 'reciprocity': 10077,\n",
              " 'fabric': 13836,\n",
              " 'suffice': 20791,\n",
              " 'spokemsan': 20792,\n",
              " \"sonora's\": 20793,\n",
              " '5865': 16319,\n",
              " \"systems'\": 16320,\n",
              " 'perfumes': 20794,\n",
              " 'halycon': 20795,\n",
              " 'nonvoting': 20796,\n",
              " 'safeguard': 7250,\n",
              " 'sawdust': 21538,\n",
              " \"else's\": 20797,\n",
              " 'arrays': 13837,\n",
              " 'aza': 20798,\n",
              " 'smasher': 20799,\n",
              " 'complications': 12111,\n",
              " 'pesos': 1813,\n",
              " 'relabelling': 20800,\n",
              " 'passenger': 3722,\n",
              " \"avon's\": 12112,\n",
              " 'megahertz': 20801,\n",
              " 'mirror': 10683,\n",
              " 'minas': 8357,\n",
              " 'bourdain': 16322,\n",
              " 'crownx': 20802,\n",
              " 'eventual': 6425,\n",
              " 'crowns': 1207,\n",
              " 'role': 1369,\n",
              " 'obliges': 20803,\n",
              " 'rolf': 16323,\n",
              " 'vegetative': 13838,\n",
              " 'rolm': 20804,\n",
              " 'roll': 4419,\n",
              " 'intend': 2463,\n",
              " 'palms': 16324,\n",
              " 'denys': 19255,\n",
              " 'transported': 13839,\n",
              " 'moresby': 20805,\n",
              " 'devon': 16325,\n",
              " 'intent': 1351,\n",
              " \"camco's\": 20806,\n",
              " 'variable': 5942,\n",
              " 'transporter': 20807,\n",
              " 'danske': 16326,\n",
              " 'friedhelm': 13840,\n",
              " 'hawker': 8358,\n",
              " \"sand's\": 17774,\n",
              " 'preseving': 20808,\n",
              " '80386': 12113,\n",
              " 'bnls': 16328,\n",
              " 'ordination': 19984,\n",
              " 'overturned': 11011,\n",
              " 'erred': 16329,\n",
              " 'cincinnati': 6696,\n",
              " 'corps': 16710,\n",
              " 'whoever': 20809,\n",
              " 'osp': 16330,\n",
              " 'osr': 13841,\n",
              " 'ost': 12114,\n",
              " 'chair': 16331,\n",
              " '690': 5647,\n",
              " 'grapples': 20810,\n",
              " 'megawatts': 13842,\n",
              " 'photocopiers': 20811,\n",
              " 'sconninx': 20812,\n",
              " 'circumstances': 2274,\n",
              " 'oversight': 13843,\n",
              " \"paradyne's\": 20814,\n",
              " '691': 6363,\n",
              " 'paychecks': 20815,\n",
              " \"stadelmann's\": 13844,\n",
              " 'choice': 3241,\n",
              " 'vastagh': 11012,\n",
              " 'embark': 8820,\n",
              " 'gloomy': 9392,\n",
              " 'stays': 9393,\n",
              " 'exact': 4009,\n",
              " 'minute': 5117,\n",
              " 'kittiwake': 11892,\n",
              " 'picul': 20816,\n",
              " 'skewed': 20817,\n",
              " 'cooke': 11013,\n",
              " 'defaults': 10078,\n",
              " 'reimpose': 11014,\n",
              " 'hindered': 9394,\n",
              " 'lengthened': 20818,\n",
              " 'chopping': 16333,\n",
              " 'mckiernan': 13845,\n",
              " 'collaspe': 20819,\n",
              " 'corazon': 7251,\n",
              " 'antwerp': 7600,\n",
              " 'abdullah': 13846,\n",
              " 'goldston': 13847,\n",
              " '300': 442,\n",
              " 'cassa': 20821,\n",
              " 'casse': 20822,\n",
              " '695': 4081,\n",
              " 'ground': 2979,\n",
              " 'boost': 839,\n",
              " 'azusa': 16334,\n",
              " 'drafted': 9395,\n",
              " '303': 4823,\n",
              " 'climbs': 13848,\n",
              " 'honour': 7601,\n",
              " 'vanderbilt': 20823,\n",
              " '305': 3968,\n",
              " 'address': 3031,\n",
              " 'dwindling': 8821,\n",
              " 'benson': 7252,\n",
              " 'enroll': 12115,\n",
              " 'revenues': 501,\n",
              " 'impacted': 12116,\n",
              " 'queue': 20826,\n",
              " 'accomplished': 10079,\n",
              " 'throughput': 7602,\n",
              " 'influx': 9396,\n",
              " 'stockbuilding': 10080,\n",
              " 'aproximates': 20827,\n",
              " 'petroleo': 13849,\n",
              " 'sistemas': 16335,\n",
              " 'feretti': 14053,\n",
              " 'opposes': 5943,\n",
              " 'working': 882,\n",
              " 'perished': 20829,\n",
              " 'oldham': 13850,\n",
              " '27000': 20830,\n",
              " 'optimize': 19245,\n",
              " 'vigour': 20832,\n",
              " 'opposed': 1580,\n",
              " 'liberalizing': 16336,\n",
              " 'wvz': 20833,\n",
              " 'dampness': 20834,\n",
              " 'approving': 13851,\n",
              " 'sierra': 13496,\n",
              " 'entrepot': 20835,\n",
              " 'currency': 224,\n",
              " 'originally': 1499,\n",
              " 'tindemans': 20837,\n",
              " 'valorem': 16337,\n",
              " 'following': 477,\n",
              " 'fossen': 20838,\n",
              " 'locke': 11016,\n",
              " 'employess': 20839,\n",
              " 'rotberg': 12117,\n",
              " 'parachute': 16338,\n",
              " 'locks': 11017,\n",
              " 'incremental': 12255,\n",
              " 'woolowrth': 16339,\n",
              " 'listens': 20841,\n",
              " 'litre': 7253,\n",
              " 'edouard': 3554,\n",
              " 'ounce': 1377,\n",
              " 'nicanor': 20843,\n",
              " 'sucocitrico': 20844,\n",
              " 'minicomputers': 16340,\n",
              " \"silva's\": 16341,\n",
              " 'restitutions': 11018,\n",
              " 'custer': 16342,\n",
              " '3rd': 2590,\n",
              " 'fueled': 10081,\n",
              " 'trydahl': 20845,\n",
              " 'aice': 11019,\n",
              " 'harmon': 12118,\n",
              " 'conscious': 10082,\n",
              " 'herbicidesand': 20846,\n",
              " 'subdivisions': 20847,\n",
              " \"veslefrikk's\": 20848,\n",
              " 'swollen': 11020,\n",
              " 'pulled': 7978,\n",
              " 'tilney': 20849,\n",
              " 'years': 203,\n",
              " 'structuring': 20850,\n",
              " 'episodes': 20851,\n",
              " 'sportscene': 16343,\n",
              " \"northair's\": 16344,\n",
              " 'jig': 20852,\n",
              " 'jin': 20853,\n",
              " 'jim': 3403,\n",
              " 'troubles': 8359,\n",
              " 'workforces': 13852,\n",
              " 'suspension': 2362,\n",
              " 'troubled': 3892,\n",
              " 'fondiaria': 16345,\n",
              " 'modestly': 6697,\n",
              " 'recipients': 12119,\n",
              " 'civilian': 7979,\n",
              " 'indigenous': 13853,\n",
              " 'overpowering': 20854,\n",
              " 'drilling': 1051,\n",
              " 'sorted': 16346,\n",
              " 'lichtenstein': 16347,\n",
              " 'bedevil': 20855,\n",
              " 'dispite': 20856,\n",
              " 'battleships': 16843,\n",
              " 'instability': 4824,\n",
              " 'quarter': 95,\n",
              " 'salado': 20857,\n",
              " 'honduras': 5692,\n",
              " \"chevron's\": 13855,\n",
              " \"lazere's\": 12273,\n",
              " 'receipt': 2660,\n",
              " 'sponsor': 8360,\n",
              " 'entering': 4825,\n",
              " \"kcbt's\": 16349,\n",
              " 'nowicki': 19987,\n",
              " 'salads': 13856,\n",
              " 'augar': 16351,\n",
              " '797': 7980,\n",
              " '796': 7254,\n",
              " '795': 8361,\n",
              " '794': 5295,\n",
              " '793': 5118,\n",
              " '792': 6170,\n",
              " '791': 5296,\n",
              " '790': 4826,\n",
              " \"nikko's\": 20858,\n",
              " 'unsaleable': 20859,\n",
              " '799': 5720,\n",
              " '798': 5693,\n",
              " 'seriously': 2143,\n",
              " 'trauma': 16352,\n",
              " 'tvbh': 20860,\n",
              " 'macedon': 20861,\n",
              " 'disintegrated': 21906,\n",
              " 'adddition': 21909,\n",
              " 'incentives': 2244,\n",
              " 'complicated': 5944,\n",
              " 'reevaluating': 20864,\n",
              " 'thatching': 21921,\n",
              " 'brasil': 7981,\n",
              " '79p': 20865,\n",
              " 'wrong': 4951,\n",
              " 'initiate': 8822,\n",
              " 'aboard': 16353,\n",
              " 'saving': 7255,\n",
              " 'spoken': 8823,\n",
              " 'parkinson': 16364,\n",
              " 'one': 65,\n",
              " 'ont': 20867,\n",
              " 'concert': 7256,\n",
              " \"boston's\": 16354,\n",
              " 'stifled': 13859,\n",
              " 'types': 4622,\n",
              " 'lingering': 20868,\n",
              " 'surges': 16356,\n",
              " 'hurdman': 20869,\n",
              " 'herds': 16357,\n",
              " 'absorbs': 14114,\n",
              " 'surged': 4681,\n",
              " 'dalkon': 14211,\n",
              " 'crossroads': 13860,\n",
              " 'shakeup': 20870,\n",
              " 'disasterous': 20871,\n",
              " 'illness': 11021,\n",
              " 'turned': 3242,\n",
              " 'locations': 3801,\n",
              " 'tyranite': 12120,\n",
              " 'minesweepers': 13861,\n",
              " 'turner': 7257,\n",
              " 'borough': 20872,\n",
              " 'underlines': 12358,\n",
              " \"bancorporation's\": 20873,\n",
              " 'fashionable': 20874,\n",
              " \"ae's\": 20875,\n",
              " 'dilutions': 16358,\n",
              " 'goodman': 9472,\n",
              " 'unlawfully': 10510,\n",
              " 'mayer': 16359,\n",
              " 'printer': 16360,\n",
              " 'offload': 20877,\n",
              " 'opposite': 13862,\n",
              " 'buffer': 738,\n",
              " 'printed': 9398,\n",
              " 'pequiven': 16361,\n",
              " 'panoche': 13863,\n",
              " 'knowingly': 20878,\n",
              " 'ecusta': 16362,\n",
              " 'thsl': 20879,\n",
              " 'phil': 8825,\n",
              " 'jitters': 13864,\n",
              " 'touche': 16363,\n",
              " 'jittery': 20881,\n",
              " 'friction': 3291,\n",
              " 'fecal': 16365,\n",
              " 'resurgance': 22068,\n",
              " 'heeding': 20882,\n",
              " 'soviets': 2363,\n",
              " 'imagined': 16366,\n",
              " 'transact': 16367,\n",
              " 'califoirnia': 20883,\n",
              " \"chrysler's\": 9399,\n",
              " 'respecitvely': 16368,\n",
              " 'presse': 16369,\n",
              " 'euromarket': 10084,\n",
              " 'guarded': 12121,\n",
              " 'satisfacotry': 16371,\n",
              " 'authroization': 20884,\n",
              " 'simplistic': 20885,\n",
              " 'monde': 20886,\n",
              " 'awaiting': 4102,\n",
              " 'recombinant': 13865,\n",
              " 'refinancement': 20887,\n",
              " 'comserv': 20888,\n",
              " 'kitakyushu': 20889,\n",
              " 'pima': 16372,\n",
              " 'basle': 11022,\n",
              " '6250': 20891,\n",
              " 'choudhury': 16373,\n",
              " 'vision': 8826,\n",
              " 'interruptible': 20892,\n",
              " 'weatherford': 13866,\n",
              " '832': 7982,\n",
              " '833': 5694,\n",
              " '830': 4420,\n",
              " '831': 5119,\n",
              " '836': 5297,\n",
              " '837': 4553,\n",
              " '834': 6172,\n",
              " '835': 4952,\n",
              " 'alarming': 22144,\n",
              " '838': 5695,\n",
              " '839': 6173,\n",
              " '524p': 20893,\n",
              " 'sponsorship': 20894,\n",
              " 'vendex': 12122,\n",
              " \"amsouth's\": 20895,\n",
              " 'kilometer': 20896,\n",
              " 'enjoys': 10086,\n",
              " 'illiberal': 20897,\n",
              " 'punta': 6174,\n",
              " 'punte': 20898,\n",
              " 'girozentrale': 10087,\n",
              " 'missstatements': 20899,\n",
              " 'marietta': 10088,\n",
              " 'awards': 6175,\n",
              " 'concentrated': 3635,\n",
              " '83p': 20900,\n",
              " 'developpement': 13867,\n",
              " 'rhodes': 13868,\n",
              " 'matheson': 5696,\n",
              " '1720': 20901,\n",
              " 'paring': 20902,\n",
              " 's': 35,\n",
              " 'concentrates': 4953,\n",
              " \"can's\": 16374,\n",
              " 'polysaturated': 22183,\n",
              " 'parini': 20903,\n",
              " 'baden': 13869,\n",
              " 'bader': 20904,\n",
              " 'buoyancy': 12123,\n",
              " 'erdem': 20905,\n",
              " 'properites': 16375,\n",
              " 'comparitive': 20906,\n",
              " 'practises': 12124,\n",
              " 'collides': 20907,\n",
              " 'west': 189,\n",
              " 'wess': 20908,\n",
              " 'collided': 13870,\n",
              " 'practised': 20909,\n",
              " \"amalgamated's\": 20910,\n",
              " 'motives': 20911,\n",
              " 'wants': 1378,\n",
              " 'formed': 1273,\n",
              " 'readings': 20912,\n",
              " 'geothermal': 12125,\n",
              " 'tightened': 7315,\n",
              " \"d'or\": 11023,\n",
              " 'former': 1109,\n",
              " 'venezulean': 20913,\n",
              " 'curd': 19935,\n",
              " 'squeezes': 12126,\n",
              " 'newspaper': 1019,\n",
              " 'situation': 817,\n",
              " 'ivey': 13871,\n",
              " 'engaged': 3636,\n",
              " 'dubious': 13872,\n",
              " 'cayacq': 17061,\n",
              " 'cobol': 20916,\n",
              " 'limping': 20917,\n",
              " 'technology': 883,\n",
              " 'koerner': 20919,\n",
              " 'debilitating': 16376,\n",
              " 'verified': 7983,\n",
              " 'otto': 4010,\n",
              " '7770': 20920,\n",
              " 'emulsions': 16377,\n",
              " \"onic's\": 16378,\n",
              " 'slate': 9075,\n",
              " 'wires': 20921,\n",
              " 'edged': 5506,\n",
              " 'assigns': 20922,\n",
              " 'singapore': 1341,\n",
              " 'deflate': 20923,\n",
              " \"strategy's\": 20924,\n",
              " 'walesa': 16379,\n",
              " 'advertisement': 4554,\n",
              " 'luyten': 20925,\n",
              " 'shrortly': 20926,\n",
              " 'corpoartion': 20927,\n",
              " 'preferance': 22290,\n",
              " 'tracking': 16380,\n",
              " 'sunnyvale': 13874,\n",
              " 'colorants': 20928,\n",
              " 'persistently': 16381,\n",
              " \"officers'\": 16382,\n",
              " \"his's\": 20929,\n",
              " 'being': 367,\n",
              " 'divestitures': 7259,\n",
              " 'steamer': 20930,\n",
              " 'rover': 20931,\n",
              " 'grounded': 8362,\n",
              " \"businessmen's\": 16383,\n",
              " 'cyanidation': 16384,\n",
              " 'overthrow': 20932,\n",
              " 'partnerhip': 20933,\n",
              " 'sumt': 16385,\n",
              " 'sums': 8827,\n",
              " 'oelmuehle': 16386,\n",
              " 'unveil': 16387,\n",
              " 'gestures': 13875,\n",
              " 'penta': 20934,\n",
              " 'traffic': 2544,\n",
              " 'preference': 2428,\n",
              " 'sumi': 20935,\n",
              " 'world': 166,\n",
              " 'postal': 9400,\n",
              " 'bced': 16388,\n",
              " 'dornbush': 12128,\n",
              " 'confine': 14215,\n",
              " '2555': 20936,\n",
              " \"zambia's\": 5945,\n",
              " 'superiority': 20937,\n",
              " 'militate': 20938,\n",
              " 'satisfactory': 2395,\n",
              " 'superintendent': 20939,\n",
              " 'tvx': 5946,\n",
              " 'tvt': 16389,\n",
              " 'magma': 6698,\n",
              " 'diving': 20940,\n",
              " 'tvb': 15548,\n",
              " 'seaman': 13876,\n",
              " 'matsunaga': 11025,\n",
              " '919': 4827,\n",
              " '918': 5298,\n",
              " 'refundable': 17070,\n",
              " '914': 5947,\n",
              " '917': 7260,\n",
              " '916': 6699,\n",
              " '911': 5507,\n",
              " '910': 4828,\n",
              " 'restoring': 10213,\n",
              " '912': 4555,\n",
              " 'squabble': 20942,\n",
              " 'retains': 7261,\n",
              " \"partner's\": 20943,\n",
              " 'leadership': 5300,\n",
              " 'graaf': 11026,\n",
              " 'spacelab': 20944,\n",
              " 'thailand': 1800,\n",
              " 'graan': 9402,\n",
              " 'exasperating': 20945,\n",
              " 'hartmarx': 12129,\n",
              " 'frights': 16390,\n",
              " 'niall': 20946,\n",
              " 'johnston': 11027,\n",
              " '91p': 16391,\n",
              " 'sensitively': 16392,\n",
              " 'porsche': 6016,\n",
              " 'prepares': 15494,\n",
              " 'lively': 12130,\n",
              " 'stoppages': 10686,\n",
              " \"associated's\": 16394,\n",
              " 'pivot': 12131,\n",
              " 'series': 1037,\n",
              " 'sese': 24050,\n",
              " 'bubble': 7604,\n",
              " 'trusses': 16395,\n",
              " 'interestate': 20949,\n",
              " 'continents': 20950,\n",
              " 'societal': 20951,\n",
              " 'with': 28,\n",
              " 'pull': 6176,\n",
              " 'rush': 6700,\n",
              " 'monopoly': 6222,\n",
              " 'operationally': 20953,\n",
              " 'dirty': 20954,\n",
              " 'abuses': 10090,\n",
              " 'prudhoe': 7262,\n",
              " 'pulp': 5949,\n",
              " 'rust': 16396,\n",
              " 'hellman': 20955,\n",
              " 'amdec': 20956,\n",
              " 'australasian': 16397,\n",
              " 'watches': 13878,\n",
              " 'hypertension': 20957,\n",
              " \"hemdale's\": 20958,\n",
              " 'formulation': 16398,\n",
              " 'watched': 7605,\n",
              " 'jargon': 20959,\n",
              " 'cream': 13879,\n",
              " 'ideally': 9404,\n",
              " 'ryavec': 11028,\n",
              " 'microoganisms': 20960,\n",
              " 'indemnify': 13880,\n",
              " 'wincenty': 20961,\n",
              " 'waving': 20962,\n",
              " \"multifood's\": 20963,\n",
              " 'midges': 20964,\n",
              " 'natalie': 11029,\n",
              " 'crosbie': 13881,\n",
              " 'posible': 20965,\n",
              " 'omnibus': 13882,\n",
              " 'assetsof': 20966,\n",
              " 'tricks': 13883,\n",
              " 'rs': 16399,\n",
              " 'kilogram': 20967,\n",
              " 'pruning': 25363,\n",
              " 'dyer': 13884,\n",
              " 'dyes': 20968,\n",
              " 'legislatures': 20969,\n",
              " 'scm': 16400,\n",
              " 'sci': 9405,\n",
              " 'riedel': 20970,\n",
              " 'ceramic': 16401,\n",
              " 'unitholders': 6701,\n",
              " 'scb': 13885,\n",
              " 'dn11': 20971,\n",
              " 'conditionality': 20972,\n",
              " \"stock's\": 13807,\n",
              " 'masland': 20973,\n",
              " 'causes': 7606,\n",
              " 'riots': 10091,\n",
              " 'norf': 20974,\n",
              " 'nord': 9406,\n",
              " 'midwest': 3893,\n",
              " 'tamils': 13886,\n",
              " 'ofthe': 16402,\n",
              " \"colombia's\": 3421,\n",
              " '24th': 11030,\n",
              " 'sant': 20975,\n",
              " 'moines': 10092,\n",
              " 'electrotechnical': 22577,\n",
              " 'proceeded': 24534,\n",
              " 'sanz': 20976,\n",
              " 'insufficiently': 13887,\n",
              " 'sang': 20977,\n",
              " 'sand': 5950,\n",
              " 'bracho': 16404,\n",
              " 'small': 805,\n",
              " 'workloads': 20978,\n",
              " 'sank': 6702,\n",
              " 'kemper': 20979,\n",
              " 'abbreviated': 16405,\n",
              " 'quicker': 13888,\n",
              " '199': 3802,\n",
              " '198': 3243,\n",
              " '195': 2661,\n",
              " '194': 3080,\n",
              " '197': 4310,\n",
              " '196': 3894,\n",
              " '191': 2850,\n",
              " '190': 2199,\n",
              " '193': 3481,\n",
              " '192': 3350,\n",
              " 'past': 582,\n",
              " 'fractionation': 20980,\n",
              " 'displays': 20981,\n",
              " 'pass': 3081,\n",
              " 'investment': 202,\n",
              " 'quals': 27062,\n",
              " 'quicken': 16406,\n",
              " \"centronic's\": 20983,\n",
              " 'menswear': 20984,\n",
              " 'clock': 16407,\n",
              " 'teape': 20985,\n",
              " 'teapa': 20986,\n",
              " 'prevailed': 10093,\n",
              " 'hebei': 9407,\n",
              " ...}"
            ]
          },
          "metadata": {},
          "execution_count": 14
        }
      ]
    },
    {
      "cell_type": "code",
      "source": [
        "print(\"Trainning data:\", len(train_data))\n",
        "print(\"Testing data:\", len(test_data))"
      ],
      "metadata": {
        "colab": {
          "base_uri": "https://localhost:8080/"
        },
        "id": "nPlRO324YqzM",
        "outputId": "1444c11f-9765-4602-99e9-f6096011f3b8"
      },
      "execution_count": 15,
      "outputs": [
        {
          "output_type": "stream",
          "name": "stdout",
          "text": [
            "Trainning data: 8982\n",
            "Testing data: 2246\n"
          ]
        }
      ]
    },
    {
      "cell_type": "code",
      "source": [
        "# Primer artículo del conjunto de datos de entrenamiento\n",
        "print(train_data[0])"
      ],
      "metadata": {
        "colab": {
          "base_uri": "https://localhost:8080/"
        },
        "id": "N2qp8qDGYswy",
        "outputId": "e8094b04-463a-4194-fa80-dac708f40d1d"
      },
      "execution_count": 16,
      "outputs": [
        {
          "output_type": "stream",
          "name": "stdout",
          "text": [
            "[1, 2, 2, 8, 43, 10, 447, 5, 25, 207, 270, 5, 3095, 111, 16, 369, 186, 90, 67, 7, 89, 5, 19, 102, 6, 19, 124, 15, 90, 67, 84, 22, 482, 26, 7, 48, 4, 49, 8, 864, 39, 209, 154, 6, 151, 6, 83, 11, 15, 22, 155, 11, 15, 7, 48, 9, 4579, 1005, 504, 6, 258, 6, 272, 11, 15, 22, 134, 44, 11, 15, 16, 8, 197, 1245, 90, 67, 52, 29, 209, 30, 32, 132, 6, 109, 15, 17, 12]\n"
          ]
        }
      ]
    },
    {
      "cell_type": "code",
      "source": [
        "reversed_word_index = {v: k for k, v in word_index.items()}\n",
        "' '.join([reversed_word_index.get(i - 3, '(' + str(i) + ')') for i in train_data[0]])"
      ],
      "metadata": {
        "colab": {
          "base_uri": "https://localhost:8080/",
          "height": 87
        },
        "id": "N4lNojCoYvPA",
        "outputId": "7eaaac24-644b-476b-a5bf-a384faee1b07"
      },
      "execution_count": 17,
      "outputs": [
        {
          "output_type": "execute_result",
          "data": {
            "text/plain": [
              "'(1) (2) (2) said as a result of its december acquisition of space co it expects earnings per share in 1987 of 1 15 to 1 30 dlrs per share up from 70 cts in 1986 the company said pretax net should rise to nine to 10 mln dlrs from six mln dlrs in 1986 and rental operation revenues to 19 to 22 mln dlrs from 12 5 mln dlrs it said cash flow per share this year should be 2 50 to three dlrs reuter 3'"
            ],
            "application/vnd.google.colaboratory.intrinsic+json": {
              "type": "string"
            }
          },
          "metadata": {},
          "execution_count": 17
        }
      ]
    },
    {
      "cell_type": "markdown",
      "source": [
        "Las variables _train_labels_ y _test_labels_ se corresponden con una lista de valores que se encuentran en la siguiente lista (*):\n",
        "```\n",
        "\"reuters\":\n",
        "  ['cocoa','grain','veg-oil','earn','acq','wheat','copper','housing','money-supply',\n",
        "   'coffee','sugar','trade','reserves','ship','cotton','carcass','crude','nat-gas',\n",
        "   'cpi','money-fx','interest','gnp','meal-feed','alum','oilseed','gold','tin',\n",
        "   'strategic-metal','livestock','retail','ipi','iron-steel','rubber','heat','jobs',\n",
        "   'lei','bop','zinc','orange','pet-chem','dlr','gas','silver','wpi','hog','lead'],\n",
        "```\n",
        "(*) https://github.com/keras-team/keras/issues/12072"
      ],
      "metadata": {
        "id": "yq36bJzRY1z6"
      }
    },
    {
      "cell_type": "code",
      "source": [
        "train_labels"
      ],
      "metadata": {
        "colab": {
          "base_uri": "https://localhost:8080/"
        },
        "id": "_aV9YCfqY0S2",
        "outputId": "dac5dd59-e97d-4a64-ffe5-58ac2a89078d"
      },
      "execution_count": 18,
      "outputs": [
        {
          "output_type": "execute_result",
          "data": {
            "text/plain": [
              "array([ 3,  4,  3, ..., 25,  3, 25])"
            ]
          },
          "metadata": {},
          "execution_count": 18
        }
      ]
    },
    {
      "cell_type": "markdown",
      "source": [
        "## Preprocesamiento del conjunto de datos"
      ],
      "metadata": {
        "id": "jU_JskptY6TQ"
      }
    },
    {
      "cell_type": "markdown",
      "source": [
        "A pesar de que ya tenemos codificadas las reseñas para que esten representadas por valores numéricos en lugar de por cadenas de texto, existen algunos factores que no permiten que sean conjuntos de datos apropiados para proporcionarle a una red neuronal artifical."
      ],
      "metadata": {
        "id": "dA5OiQR2Y6CN"
      }
    },
    {
      "cell_type": "code",
      "source": [
        "import numpy as np\n",
        "\n",
        "def vectorize(seqs, dim=10000):\n",
        "    results = np.zeros((len(seqs), dim))\n",
        "    for i, seq in enumerate(seqs):\n",
        "        results[i, seq] = 1.\n",
        "    return results"
      ],
      "metadata": {
        "id": "rYOBwA7jZChE"
      },
      "execution_count": 19,
      "outputs": []
    },
    {
      "cell_type": "markdown",
      "source": [
        "Vectorizamos tanto el conjunto de datos de entrenamiento, como el conjunto de datos de pruebas."
      ],
      "metadata": {
        "id": "mmn40pRqZELh"
      }
    },
    {
      "cell_type": "code",
      "source": [
        "# Vectorizamos el conjunto de datos de entrenamiento y el de pruebas\n",
        "X_train = vectorize(train_data, 10000)\n",
        "X_test = vectorize(test_data, 10000)"
      ],
      "metadata": {
        "id": "tRmMCynCZIvT"
      },
      "execution_count": 20,
      "outputs": []
    },
    {
      "cell_type": "code",
      "source": [
        "# Cada una de las reseñas se corresponde con un vector formado por 1s y 0s\n",
        "print(\"Valores originales:\\t\", train_data[0][:15])\n",
        "print(\"Valores vectorizados:\\t\", X_train[0][:15])"
      ],
      "metadata": {
        "colab": {
          "base_uri": "https://localhost:8080/"
        },
        "id": "7nd-Zbv2ZLpQ",
        "outputId": "54ec3792-34a3-47c0-8443-1f237497e955"
      },
      "execution_count": 21,
      "outputs": [
        {
          "output_type": "stream",
          "name": "stdout",
          "text": [
            "Valores originales:\t [1, 2, 2, 8, 43, 10, 447, 5, 25, 207, 270, 5, 3095, 111, 16]\n",
            "Valores vectorizados:\t [0. 1. 1. 0. 1. 1. 1. 1. 1. 1. 1. 1. 1. 0. 0.]\n"
          ]
        }
      ]
    },
    {
      "cell_type": "code",
      "source": [
        "# Transformamos las etiquetas de salida en vectores\n",
        "from tensorflow.keras.utils import to_categorical\n",
        "\n",
        "Y_train = to_categorical(train_labels)\n",
        "Y_test = to_categorical(test_labels)"
      ],
      "metadata": {
        "id": "tlteeqs8ZNpk"
      },
      "execution_count": 22,
      "outputs": []
    },
    {
      "cell_type": "code",
      "source": [
        "train_labels[0]"
      ],
      "metadata": {
        "colab": {
          "base_uri": "https://localhost:8080/"
        },
        "id": "-9tMrFplZP92",
        "outputId": "10f6f036-6ef2-419e-be81-7d684c408787"
      },
      "execution_count": 23,
      "outputs": [
        {
          "output_type": "execute_result",
          "data": {
            "text/plain": [
              "3"
            ]
          },
          "metadata": {},
          "execution_count": 23
        }
      ]
    },
    {
      "cell_type": "code",
      "source": [
        "Y_train[0]"
      ],
      "metadata": {
        "colab": {
          "base_uri": "https://localhost:8080/"
        },
        "id": "5cg2wqhcZRkM",
        "outputId": "cbc124da-e955-49a7-d9a0-8fe9277484a2"
      },
      "execution_count": 24,
      "outputs": [
        {
          "output_type": "execute_result",
          "data": {
            "text/plain": [
              "array([0., 0., 0., 1., 0., 0., 0., 0., 0., 0., 0., 0., 0., 0., 0., 0., 0.,\n",
              "       0., 0., 0., 0., 0., 0., 0., 0., 0., 0., 0., 0., 0., 0., 0., 0., 0.,\n",
              "       0., 0., 0., 0., 0., 0., 0., 0., 0., 0., 0., 0.], dtype=float32)"
            ]
          },
          "metadata": {},
          "execution_count": 24
        }
      ]
    },
    {
      "cell_type": "markdown",
      "source": [
        "## División del conjunto de datos"
      ],
      "metadata": {
        "id": "gZhUGEKsZUVz"
      }
    },
    {
      "cell_type": "code",
      "source": [
        "from sklearn.model_selection import train_test_split\n",
        "\n",
        "X_test, X_val, Y_test, Y_val = train_test_split(X_test, Y_test, test_size=0.5)"
      ],
      "metadata": {
        "id": "EoG2z0U9ZWYK"
      },
      "execution_count": 25,
      "outputs": []
    },
    {
      "cell_type": "code",
      "source": [
        "print(\"Longitud subconjunto de entrenamiento: \", len(X_train))\n",
        "print(\"Longitud subconjunto de validación: \", len(X_val))\n",
        "print(\"Longitud subconjunto de pruebas: \", len(X_test))"
      ],
      "metadata": {
        "colab": {
          "base_uri": "https://localhost:8080/"
        },
        "id": "OtN8g9-sZYdU",
        "outputId": "c5b8010d-72c9-48d9-9748-959a3d3f5602"
      },
      "execution_count": 26,
      "outputs": [
        {
          "output_type": "stream",
          "name": "stdout",
          "text": [
            "Longitud subconjunto de entrenamiento:  8982\n",
            "Longitud subconjunto de validación:  1123\n",
            "Longitud subconjunto de pruebas:  1123\n"
          ]
        }
      ]
    },
    {
      "cell_type": "markdown",
      "source": [
        "# Construcción de la red neuronal artificial"
      ],
      "metadata": {
        "id": "92uU2zz_UpBz"
      }
    },
    {
      "cell_type": "code",
      "execution_count": 27,
      "metadata": {
        "id": "HXzqzAM-Ui-w"
      },
      "outputs": [],
      "source": [
        "from tensorflow.keras import models\n",
        "from tensorflow.keras import layers\n",
        "\n",
        "model = models.Sequential()\n",
        "model.add(layers.Dense(512, activation='relu'))\n",
        "model.add(layers.Dense(46, activation='softmax'))"
      ]
    },
    {
      "cell_type": "code",
      "source": [
        "from tensorflow.keras import optimizers\n",
        "\n",
        "opt_func = optimizers.SGD(learning_rate=0.01)"
      ],
      "metadata": {
        "id": "ZKXIGOrVUyke"
      },
      "execution_count": 28,
      "outputs": []
    },
    {
      "cell_type": "code",
      "source": [
        "model.compile(\n",
        "    optimizer=opt_func,\n",
        "    loss = 'categorical_crossentropy',\n",
        "    metrics=['accuracy', 'Precision']\n",
        ")"
      ],
      "metadata": {
        "id": "0vYkl35KVdBJ"
      },
      "execution_count": 29,
      "outputs": []
    },
    {
      "cell_type": "code",
      "source": [
        "len(X_train)"
      ],
      "metadata": {
        "colab": {
          "base_uri": "https://localhost:8080/"
        },
        "id": "WMRC7Jk2XKEv",
        "outputId": "4edd03b6-ebb5-410c-dc10-87fca0aa2254"
      },
      "execution_count": 30,
      "outputs": [
        {
          "output_type": "execute_result",
          "data": {
            "text/plain": [
              "8982"
            ]
          },
          "metadata": {},
          "execution_count": 30
        }
      ]
    },
    {
      "cell_type": "code",
      "source": [
        "history = model.fit(\n",
        "    X_train,\n",
        "    Y_train,\n",
        "    epochs=10,\n",
        "    batch_size=1, # Siempre se utiliza para stochastic gradient descent\n",
        "    validation_data=(X_val, Y_val)\n",
        ")"
      ],
      "metadata": {
        "colab": {
          "base_uri": "https://localhost:8080/"
        },
        "id": "nizSJKDcV0E1",
        "outputId": "8292aa23-96de-4b7f-b245-0fdafc14ac3b"
      },
      "execution_count": 31,
      "outputs": [
        {
          "output_type": "stream",
          "name": "stdout",
          "text": [
            "Epoch 1/10\n",
            "8982/8982 [==============================] - 230s 25ms/step - loss: 1.1974 - accuracy: 0.7242 - precision: 0.8836 - val_loss: 0.9452 - val_accuracy: 0.7756 - val_precision: 0.8978\n",
            "Epoch 2/10\n",
            "8982/8982 [==============================] - 248s 28ms/step - loss: 0.5793 - accuracy: 0.8667 - precision: 0.9184 - val_loss: 0.9593 - val_accuracy: 0.7596 - val_precision: 0.8353\n",
            "Epoch 3/10\n",
            "8982/8982 [==============================] - 282s 31ms/step - loss: 0.3651 - accuracy: 0.9113 - precision: 0.9346 - val_loss: 0.8787 - val_accuracy: 0.7934 - val_precision: 0.8427\n",
            "Epoch 4/10\n",
            "8982/8982 [==============================] - 206s 23ms/step - loss: 0.2694 - accuracy: 0.9342 - precision: 0.9453 - val_loss: 0.8889 - val_accuracy: 0.7925 - val_precision: 0.8370\n",
            "Epoch 5/10\n",
            "8982/8982 [==============================] - 206s 23ms/step - loss: 0.2256 - accuracy: 0.9414 - precision: 0.9495 - val_loss: 0.9012 - val_accuracy: 0.8014 - val_precision: 0.8543\n",
            "Epoch 6/10\n",
            "8982/8982 [==============================] - 207s 23ms/step - loss: 0.1968 - accuracy: 0.9476 - precision: 0.9509 - val_loss: 0.9711 - val_accuracy: 0.7943 - val_precision: 0.8377\n",
            "Epoch 7/10\n",
            "8982/8982 [==============================] - 217s 24ms/step - loss: 0.1798 - accuracy: 0.9506 - precision: 0.9547 - val_loss: 1.0038 - val_accuracy: 0.7685 - val_precision: 0.8050\n",
            "Epoch 8/10\n",
            "8982/8982 [==============================] - 216s 24ms/step - loss: 0.1708 - accuracy: 0.9501 - precision: 0.9521 - val_loss: 0.9423 - val_accuracy: 0.7996 - val_precision: 0.8345\n",
            "Epoch 9/10\n",
            "8982/8982 [==============================] - 215s 24ms/step - loss: 0.1558 - accuracy: 0.9517 - precision: 0.9533 - val_loss: 0.9689 - val_accuracy: 0.7827 - val_precision: 0.8205\n",
            "Epoch 10/10\n",
            "8982/8982 [==============================] - 225s 25ms/step - loss: 0.1570 - accuracy: 0.9506 - precision: 0.9522 - val_loss: 1.0481 - val_accuracy: 0.7729 - val_precision: 0.8090\n"
          ]
        }
      ]
    },
    {
      "cell_type": "code",
      "source": [
        "import pandas as pd\n",
        "import matplotlib.pyplot as plt\n",
        "\n",
        "pd.DataFrame(history.history)[['loss','val_loss']].plot(figsize=(10, 6))\n",
        "plt.grid(True)\n",
        "plt.xlabel(\"epochs\")\n",
        "plt.ylabel(\"loss\")\n",
        "plt.show()"
      ],
      "metadata": {
        "colab": {
          "base_uri": "https://localhost:8080/",
          "height": 535
        },
        "id": "0P5So0l9WgMN",
        "outputId": "4dc63963-4dac-4af5-b0f7-2d3f7f55ddcd"
      },
      "execution_count": 32,
      "outputs": [
        {
          "output_type": "display_data",
          "data": {
            "text/plain": [
              "<Figure size 1000x600 with 1 Axes>"
            ],
            "image/png": "[encoded data removed]"
          },
          "metadata": {}
        }
      ]
    },
    {
      "cell_type": "code",
      "source": [
        "import pandas as pd\n",
        "import matplotlib.pyplot as plt\n",
        "\n",
        "pd.DataFrame(history.history)[['accuracy','val_accuracy']].plot(figsize=(10, 6))\n",
        "plt.grid(True)\n",
        "plt.xlabel(\"epochs\")\n",
        "plt.ylabel(\"accuracy\")\n",
        "plt.show()"
      ],
      "metadata": {
        "colab": {
          "base_uri": "https://localhost:8080/",
          "height": 529
        },
        "id": "bKZQupyQa7p5",
        "outputId": "301554fd-5d7a-4a52-95aa-a5c3b280c305"
      },
      "execution_count": 33,
      "outputs": [
        {
          "output_type": "display_data",
          "data": {
            "text/plain": [
              "<Figure size 1000x600 with 1 Axes>"
            ],
            "image/png": "[encoded data removed]"
          },
          "metadata": {}
        }
      ]
    },
    {
      "cell_type": "code",
      "source": [],
      "metadata": {
        "id": "4k9mr3yBiGpz"
      },
      "execution_count": null,
      "outputs": []
    }
  ]
}